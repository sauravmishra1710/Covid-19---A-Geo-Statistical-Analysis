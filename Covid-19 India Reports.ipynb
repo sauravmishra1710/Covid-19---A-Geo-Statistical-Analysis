{
 "cells": [
  {
   "cell_type": "markdown",
   "metadata": {},
   "source": [
    "# Covid-19 - India Reports\n",
    "\n",
    "# Global Pandemic\n",
    "\n",
    "With China reporting more than 70k cases of the virus and cases being reported from over 100 countries icluding the USA, Australia, Cambodia, Canada, Italy, Japan, France, Malaysia, Japan, South Korea, Thailand, etc.. with a global total of confirmed cases being 182,997 the World Health Organization has declared the crisis as a Pandemic. Furthermore, 7,174 people have already died due to this deadly viral infection. \n",
    "\n",
    "## India Reports\n",
    "\n",
    "In several cities, many people having symptoms of the virus infection are kept under observation in hospitals. According to WHO till the 17th of March a total of 129 COVID-19 cases have been reported in India. They include 112 Indian nationals, 17 foreign nationals, 10 recovered and 2 deaths. State-wise cases of COVID-19 have been reported from 13 States/UTs: Andhra Pradesh (1 case), Delhi (7 cases), Haryana (14 cases), Jammu & Kashmir (2 cases), Karnataka (6 cases), Kerala (24 cases), Ladakh (3 cases), Maharashtra (33 cases), Punjab (1 case), Rajasthan (4 cases), Telangana (3 cases), Tamil Nadu (1 case), Uttar Pradesh (12 cases) and Odisha (1 case).\n",
    "\n",
    "**The Govt. helpline number: 011-239 78046, will remain operational. Besides the toll-free numbers,the ministry also issued a helpline email ID - ncov2019@gmail.com.**\n",
    "\n",
    "Read more at:\n",
    "https://economictimes.indiatimes.com/news/politics-and-nation/health-ministry-launches-new-toll-free-number-email-id-for-queries-on-covid-19/articleshow/74661190.cms?utm_source=contentofinterest&utm_medium=text&utm_campaign=cppst\n",
    "\n",
    "\n",
    "## Previous Work on Covid-19\n",
    "1. https://www.kaggle.com/sauravmishra1710/covid-19-sars-cov-2-a-geo-statistical-analysis\n",
    "2. https://www.kaggle.com/sauravmishra1710/covid-19-sars-cov-2-a-geographical-analysis"
   ]
  },
  {
   "cell_type": "code",
   "execution_count": 1,
   "metadata": {
    "_cell_guid": "b1076dfc-b9ad-4769-8c92-a6c4dae69d19",
    "_uuid": "8f2839f25d086af736a60e9eeb907d3b93b6e0e5"
   },
   "outputs": [
    {
     "name": "stdout",
     "output_type": "stream",
     "text": [
      "/kaggle/input/coronavirus-cases-in-india/Covid cases in India.csv\n",
      "/kaggle/input/coronavirus-cases-in-india/per_day_cases.xlsx\n",
      "/kaggle/input/coronavirus-cases-in-india/Indian Coordinates.csv\n",
      "/kaggle/input/covid19-in-india/HospitalBedsIndia.csv\n",
      "/kaggle/input/covid19-in-india/covid_19_india.csv\n",
      "/kaggle/input/covid19-in-india/population_india_census2011.csv\n",
      "/kaggle/input/novel-corona-virus-2019-dataset/time_series_covid_19_confirmed.csv\n",
      "/kaggle/input/novel-corona-virus-2019-dataset/time_series_covid_19_recovered.csv\n",
      "/kaggle/input/novel-corona-virus-2019-dataset/COVID19_open_line_list.csv\n",
      "/kaggle/input/novel-corona-virus-2019-dataset/time_series_covid_19_deaths.csv\n",
      "/kaggle/input/novel-corona-virus-2019-dataset/covid_19_data.csv\n",
      "/kaggle/input/novel-corona-virus-2019-dataset/COVID19_line_list_data.csv\n"
     ]
    }
   ],
   "source": [
    "# This Python 3 environment comes with many helpful analytics libraries installed\n",
    "# It is defined by the kaggle/python docker image: https://github.com/kaggle/docker-python\n",
    "# For example, here's several helpful packages to load in \n",
    "\n",
    "import numpy as np # linear algebra\n",
    "import pandas as pd # data processing, CSV file I/O (e.g. pd.read_csv)\n",
    "\n",
    "# Input data files are available in the \"../input/\" directory.\n",
    "# For example, running this (by clicking run or pressing Shift+Enter) will list all files under the input directory\n",
    "\n",
    "import os\n",
    "for dirname, _, filenames in os.walk('/kaggle/input'):\n",
    "    for filename in filenames:\n",
    "        print(os.path.join(dirname, filename))\n",
    "\n",
    "# Any results you write to the current directory are saved as output."
   ]
  },
  {
   "cell_type": "code",
   "execution_count": 2,
   "metadata": {
    "_cell_guid": "79c7e3d0-c299-4dcb-8224-4455121ee9b0",
    "_uuid": "d629ff2d2480ee46fbb7e2d37f6b5fab8052498a"
   },
   "outputs": [
    {
     "data": {
      "text/html": [
       "        <script type=\"text/javascript\">\n",
       "        window.PlotlyConfig = {MathJaxConfig: 'local'};\n",
       "        if (window.MathJax) {MathJax.Hub.Config({SVG: {font: \"STIX-Web\"}});}\n",
       "        if (typeof require !== 'undefined') {\n",
       "        require.undef(\"plotly\");\n",
       "        requirejs.config({\n",
       "            paths: {\n",
       "                'plotly': ['https://cdn.plot.ly/plotly-latest.min']\n",
       "            }\n",
       "        });\n",
       "        require(['plotly'], function(Plotly) {\n",
       "            window._Plotly = Plotly;\n",
       "        });\n",
       "        }\n",
       "        </script>\n",
       "        "
      ]
     },
     "metadata": {},
     "output_type": "display_data"
    }
   ],
   "source": [
    "# import the necessary libraries\n",
    "\n",
    "import numpy as np \n",
    "import pandas as pd\n",
    "from datetime import date\n",
    "import matplotlib.pyplot as plt\n",
    "import seaborn as sns\n",
    "from IPython.display import Markdown\n",
    "import plotly.graph_objs as go\n",
    "import plotly.offline as py\n",
    "from plotly.subplots import make_subplots\n",
    "import plotly.express as px\n",
    "import pycountry\n",
    "import folium \n",
    "from folium import plugins\n",
    "\n",
    "\n",
    "%config InlineBackend.figure_format = 'retina'\n",
    "py.init_notebook_mode(connected=True)\n",
    "\n",
    "# color pallette\n",
    "cnf = '#393e46' # confirmed - grey\n",
    "dth = '#ff2e63' # death - red\n",
    "rec = '#21bf73' # recovered - cyan\n",
    "act = '#fe9801' # active case - yellow\n",
    "\n",
    "\n",
    "# Utility Functions\n",
    "\n",
    "'''Display markdown formatted output like bold, italic bold etc.'''\n",
    "def formatted_text(string):\n",
    "    display(Markdown(string))\n",
    "\n",
    "\n",
    "'''highlight the maximum in a Series or DataFrame'''  \n",
    "def highlight_max(data, color='red'):\n",
    "    attr = 'background-color: {}'.format(color)\n",
    "    if data.ndim == 1:  # Series from .apply(axis=0) or axis=1\n",
    "        is_max = data == data.max()\n",
    "        return [attr if v else '' for v in is_max]\n",
    "    else:  # from .apply(axis=None)\n",
    "        is_max = data == data.max().max()\n",
    "        return pd.DataFrame(np.where(is_max, attr, ''), index=data.index, columns=data.columns)\n",
    "      \n"
   ]
  },
  {
   "cell_type": "code",
   "execution_count": 3,
   "metadata": {
    "_cell_guid": "",
    "_uuid": ""
   },
   "outputs": [
    {
     "data": {
      "text/html": [
       "<div>\n",
       "<style scoped>\n",
       "    .dataframe tbody tr th:only-of-type {\n",
       "        vertical-align: middle;\n",
       "    }\n",
       "\n",
       "    .dataframe tbody tr th {\n",
       "        vertical-align: top;\n",
       "    }\n",
       "\n",
       "    .dataframe thead th {\n",
       "        text-align: right;\n",
       "    }\n",
       "</style>\n",
       "<table border=\"1\" class=\"dataframe\">\n",
       "  <thead>\n",
       "    <tr style=\"text-align: right;\">\n",
       "      <th></th>\n",
       "      <th>Sno</th>\n",
       "      <th>Date</th>\n",
       "      <th>State/UnionTerritory</th>\n",
       "      <th>ConfirmedIndianNational</th>\n",
       "      <th>ConfirmedForeignNational</th>\n",
       "      <th>Cured</th>\n",
       "      <th>Deaths</th>\n",
       "    </tr>\n",
       "  </thead>\n",
       "  <tbody>\n",
       "    <tr>\n",
       "      <th>0</th>\n",
       "      <td>1</td>\n",
       "      <td>30/01/20</td>\n",
       "      <td>Kerala</td>\n",
       "      <td>1</td>\n",
       "      <td>0</td>\n",
       "      <td>0</td>\n",
       "      <td>0</td>\n",
       "    </tr>\n",
       "    <tr>\n",
       "      <th>1</th>\n",
       "      <td>2</td>\n",
       "      <td>31/01/20</td>\n",
       "      <td>Kerala</td>\n",
       "      <td>1</td>\n",
       "      <td>0</td>\n",
       "      <td>0</td>\n",
       "      <td>0</td>\n",
       "    </tr>\n",
       "    <tr>\n",
       "      <th>2</th>\n",
       "      <td>3</td>\n",
       "      <td>01/02/20</td>\n",
       "      <td>Kerala</td>\n",
       "      <td>2</td>\n",
       "      <td>0</td>\n",
       "      <td>0</td>\n",
       "      <td>0</td>\n",
       "    </tr>\n",
       "    <tr>\n",
       "      <th>3</th>\n",
       "      <td>4</td>\n",
       "      <td>02/02/20</td>\n",
       "      <td>Kerala</td>\n",
       "      <td>3</td>\n",
       "      <td>0</td>\n",
       "      <td>0</td>\n",
       "      <td>0</td>\n",
       "    </tr>\n",
       "    <tr>\n",
       "      <th>4</th>\n",
       "      <td>5</td>\n",
       "      <td>03/02/20</td>\n",
       "      <td>Kerala</td>\n",
       "      <td>3</td>\n",
       "      <td>0</td>\n",
       "      <td>0</td>\n",
       "      <td>0</td>\n",
       "    </tr>\n",
       "  </tbody>\n",
       "</table>\n",
       "</div>"
      ],
      "text/plain": [
       "   Sno      Date State/UnionTerritory  ConfirmedIndianNational  \\\n",
       "0    1  30/01/20               Kerala                        1   \n",
       "1    2  31/01/20               Kerala                        1   \n",
       "2    3  01/02/20               Kerala                        2   \n",
       "3    4  02/02/20               Kerala                        3   \n",
       "4    5  03/02/20               Kerala                        3   \n",
       "\n",
       "   ConfirmedForeignNational  Cured  Deaths  \n",
       "0                         0      0       0  \n",
       "1                         0      0       0  \n",
       "2                         0      0       0  \n",
       "3                         0      0       0  \n",
       "4                         0      0       0  "
      ]
     },
     "execution_count": 3,
     "metadata": {},
     "output_type": "execute_result"
    }
   ],
   "source": [
    "covid_19_India = pd.read_csv(\"../input/covid19-in-india/covid_19_india.csv\")\n",
    "population_India_census2011 = pd.read_csv(\"../input/covid19-in-india/population_india_census2011.csv\")\n",
    "\n",
    "covid_19_India.head()"
   ]
  },
  {
   "cell_type": "code",
   "execution_count": 4,
   "metadata": {},
   "outputs": [
    {
     "data": {
      "text/html": [
       "<div>\n",
       "<style scoped>\n",
       "    .dataframe tbody tr th:only-of-type {\n",
       "        vertical-align: middle;\n",
       "    }\n",
       "\n",
       "    .dataframe tbody tr th {\n",
       "        vertical-align: top;\n",
       "    }\n",
       "\n",
       "    .dataframe thead th {\n",
       "        text-align: right;\n",
       "    }\n",
       "</style>\n",
       "<table border=\"1\" class=\"dataframe\">\n",
       "  <thead>\n",
       "    <tr style=\"text-align: right;\">\n",
       "      <th></th>\n",
       "      <th>Sno</th>\n",
       "      <th>Date</th>\n",
       "      <th>State</th>\n",
       "      <th>ConfirmedIndianNational</th>\n",
       "      <th>ConfirmedForeignNational</th>\n",
       "      <th>Recovered</th>\n",
       "      <th>Deaths</th>\n",
       "      <th>Confirmed</th>\n",
       "    </tr>\n",
       "  </thead>\n",
       "  <tbody>\n",
       "    <tr>\n",
       "      <th>0</th>\n",
       "      <td>1</td>\n",
       "      <td>30/01/20</td>\n",
       "      <td>Kerala</td>\n",
       "      <td>1</td>\n",
       "      <td>0</td>\n",
       "      <td>0</td>\n",
       "      <td>0</td>\n",
       "      <td>1</td>\n",
       "    </tr>\n",
       "    <tr>\n",
       "      <th>1</th>\n",
       "      <td>2</td>\n",
       "      <td>31/01/20</td>\n",
       "      <td>Kerala</td>\n",
       "      <td>1</td>\n",
       "      <td>0</td>\n",
       "      <td>0</td>\n",
       "      <td>0</td>\n",
       "      <td>1</td>\n",
       "    </tr>\n",
       "    <tr>\n",
       "      <th>2</th>\n",
       "      <td>3</td>\n",
       "      <td>01/02/20</td>\n",
       "      <td>Kerala</td>\n",
       "      <td>2</td>\n",
       "      <td>0</td>\n",
       "      <td>0</td>\n",
       "      <td>0</td>\n",
       "      <td>2</td>\n",
       "    </tr>\n",
       "    <tr>\n",
       "      <th>3</th>\n",
       "      <td>4</td>\n",
       "      <td>02/02/20</td>\n",
       "      <td>Kerala</td>\n",
       "      <td>3</td>\n",
       "      <td>0</td>\n",
       "      <td>0</td>\n",
       "      <td>0</td>\n",
       "      <td>3</td>\n",
       "    </tr>\n",
       "    <tr>\n",
       "      <th>4</th>\n",
       "      <td>5</td>\n",
       "      <td>03/02/20</td>\n",
       "      <td>Kerala</td>\n",
       "      <td>3</td>\n",
       "      <td>0</td>\n",
       "      <td>0</td>\n",
       "      <td>0</td>\n",
       "      <td>3</td>\n",
       "    </tr>\n",
       "  </tbody>\n",
       "</table>\n",
       "</div>"
      ],
      "text/plain": [
       "   Sno      Date   State  ConfirmedIndianNational  ConfirmedForeignNational  \\\n",
       "0    1  30/01/20  Kerala                        1                         0   \n",
       "1    2  31/01/20  Kerala                        1                         0   \n",
       "2    3  01/02/20  Kerala                        2                         0   \n",
       "3    4  02/02/20  Kerala                        3                         0   \n",
       "4    5  03/02/20  Kerala                        3                         0   \n",
       "\n",
       "   Recovered  Deaths  Confirmed  \n",
       "0          0       0          1  \n",
       "1          0       0          1  \n",
       "2          0       0          2  \n",
       "3          0       0          3  \n",
       "4          0       0          3  "
      ]
     },
     "execution_count": 4,
     "metadata": {},
     "output_type": "execute_result"
    }
   ],
   "source": [
    "covid_19_India['Confirmed'] = covid_19_India['ConfirmedIndianNational'] + covid_19_India['ConfirmedForeignNational']\n",
    "covid_19_India.rename(columns={'State/UnionTerritory': 'State', 'Cured': 'Recovered'}, inplace=True)\n",
    "\n",
    "covid_19_India.head()"
   ]
  },
  {
   "cell_type": "code",
   "execution_count": 5,
   "metadata": {},
   "outputs": [],
   "source": [
    "covid_India_cases = pd.read_csv('../input/coronavirus-cases-in-india/Covid cases in India.csv')\n",
    "\n",
    "# Coordinates of Indian States\n",
    "India_Lat_Lon = pd.read_csv('../input/coronavirus-cases-in-india/Indian Coordinates.csv')\n",
    "\n",
    "# Day by day data\n",
    "dbd_India = pd.read_excel('../input/coronavirus-cases-in-india/per_day_cases.xlsx',sheet_name='India')\n",
    "dbd_Italy = pd.read_excel('../input/coronavirus-cases-in-india/per_day_cases.xlsx',sheet_name=\"Italy\")\n",
    "dbd_Korea = pd.read_excel('../input/coronavirus-cases-in-india/per_day_cases.xlsx',sheet_name=\"Korea\")"
   ]
  },
  {
   "cell_type": "code",
   "execution_count": 6,
   "metadata": {},
   "outputs": [
    {
     "data": {
      "text/html": [
       "<style  type=\"text/css\" >\n",
       "    #T_6462e738_6c61_11ea_b45d_5b367b4efd09row2_col5 {\n",
       "            background-color:  red;\n",
       "        }    #T_6462e738_6c61_11ea_b45d_5b367b4efd09row6_col5 {\n",
       "            background-color:  red;\n",
       "        }    #T_6462e738_6c61_11ea_b45d_5b367b4efd09row9_col5 {\n",
       "            background-color:  red;\n",
       "        }    #T_6462e738_6c61_11ea_b45d_5b367b4efd09row9_col6 {\n",
       "            background-color:  red;\n",
       "        }    #T_6462e738_6c61_11ea_b45d_5b367b4efd09row12_col5 {\n",
       "            background-color:  red;\n",
       "        }    #T_6462e738_6c61_11ea_b45d_5b367b4efd09row19_col4 {\n",
       "            background-color:  red;\n",
       "        }</style><table id=\"T_6462e738_6c61_11ea_b45d_5b367b4efd09\" ><thead>    <tr>        <th class=\"blank level0\" ></th>        <th class=\"col_heading level0 col0\" >S. No.</th>        <th class=\"col_heading level0 col1\" >State</th>        <th class=\"col_heading level0 col2\" >Total Confirmed cases (Indian National)</th>        <th class=\"col_heading level0 col3\" >Total Confirmed cases ( Foreign National )</th>        <th class=\"col_heading level0 col4\" >Recovered</th>        <th class=\"col_heading level0 col5\" >Deaths</th>        <th class=\"col_heading level0 col6\" >TotalConfirmed</th>    </tr></thead><tbody>\n",
       "                <tr>\n",
       "                        <th id=\"T_6462e738_6c61_11ea_b45d_5b367b4efd09level0_row0\" class=\"row_heading level0 row0\" >0</th>\n",
       "                        <td id=\"T_6462e738_6c61_11ea_b45d_5b367b4efd09row0_col0\" class=\"data row0 col0\" >1</td>\n",
       "                        <td id=\"T_6462e738_6c61_11ea_b45d_5b367b4efd09row0_col1\" class=\"data row0 col1\" >Andhra Pradesh</td>\n",
       "                        <td id=\"T_6462e738_6c61_11ea_b45d_5b367b4efd09row0_col2\" class=\"data row0 col2\" >3</td>\n",
       "                        <td id=\"T_6462e738_6c61_11ea_b45d_5b367b4efd09row0_col3\" class=\"data row0 col3\" >0</td>\n",
       "                        <td id=\"T_6462e738_6c61_11ea_b45d_5b367b4efd09row0_col4\" class=\"data row0 col4\" >0</td>\n",
       "                        <td id=\"T_6462e738_6c61_11ea_b45d_5b367b4efd09row0_col5\" class=\"data row0 col5\" >0</td>\n",
       "                        <td id=\"T_6462e738_6c61_11ea_b45d_5b367b4efd09row0_col6\" class=\"data row0 col6\" >3</td>\n",
       "            </tr>\n",
       "            <tr>\n",
       "                        <th id=\"T_6462e738_6c61_11ea_b45d_5b367b4efd09level0_row1\" class=\"row_heading level0 row1\" >1</th>\n",
       "                        <td id=\"T_6462e738_6c61_11ea_b45d_5b367b4efd09row1_col0\" class=\"data row1 col0\" >2</td>\n",
       "                        <td id=\"T_6462e738_6c61_11ea_b45d_5b367b4efd09row1_col1\" class=\"data row1 col1\" >Chattisgarh</td>\n",
       "                        <td id=\"T_6462e738_6c61_11ea_b45d_5b367b4efd09row1_col2\" class=\"data row1 col2\" >1</td>\n",
       "                        <td id=\"T_6462e738_6c61_11ea_b45d_5b367b4efd09row1_col3\" class=\"data row1 col3\" >0</td>\n",
       "                        <td id=\"T_6462e738_6c61_11ea_b45d_5b367b4efd09row1_col4\" class=\"data row1 col4\" >0</td>\n",
       "                        <td id=\"T_6462e738_6c61_11ea_b45d_5b367b4efd09row1_col5\" class=\"data row1 col5\" >0</td>\n",
       "                        <td id=\"T_6462e738_6c61_11ea_b45d_5b367b4efd09row1_col6\" class=\"data row1 col6\" >1</td>\n",
       "            </tr>\n",
       "            <tr>\n",
       "                        <th id=\"T_6462e738_6c61_11ea_b45d_5b367b4efd09level0_row2\" class=\"row_heading level0 row2\" >2</th>\n",
       "                        <td id=\"T_6462e738_6c61_11ea_b45d_5b367b4efd09row2_col0\" class=\"data row2 col0\" >3</td>\n",
       "                        <td id=\"T_6462e738_6c61_11ea_b45d_5b367b4efd09row2_col1\" class=\"data row2 col1\" >Delhi</td>\n",
       "                        <td id=\"T_6462e738_6c61_11ea_b45d_5b367b4efd09row2_col2\" class=\"data row2 col2\" >25</td>\n",
       "                        <td id=\"T_6462e738_6c61_11ea_b45d_5b367b4efd09row2_col3\" class=\"data row2 col3\" >1</td>\n",
       "                        <td id=\"T_6462e738_6c61_11ea_b45d_5b367b4efd09row2_col4\" class=\"data row2 col4\" >5</td>\n",
       "                        <td id=\"T_6462e738_6c61_11ea_b45d_5b367b4efd09row2_col5\" class=\"data row2 col5\" >1</td>\n",
       "                        <td id=\"T_6462e738_6c61_11ea_b45d_5b367b4efd09row2_col6\" class=\"data row2 col6\" >26</td>\n",
       "            </tr>\n",
       "            <tr>\n",
       "                        <th id=\"T_6462e738_6c61_11ea_b45d_5b367b4efd09level0_row3\" class=\"row_heading level0 row3\" >3</th>\n",
       "                        <td id=\"T_6462e738_6c61_11ea_b45d_5b367b4efd09row3_col0\" class=\"data row3 col0\" >4</td>\n",
       "                        <td id=\"T_6462e738_6c61_11ea_b45d_5b367b4efd09row3_col1\" class=\"data row3 col1\" >Gujarat</td>\n",
       "                        <td id=\"T_6462e738_6c61_11ea_b45d_5b367b4efd09row3_col2\" class=\"data row3 col2\" >7</td>\n",
       "                        <td id=\"T_6462e738_6c61_11ea_b45d_5b367b4efd09row3_col3\" class=\"data row3 col3\" >0</td>\n",
       "                        <td id=\"T_6462e738_6c61_11ea_b45d_5b367b4efd09row3_col4\" class=\"data row3 col4\" >0</td>\n",
       "                        <td id=\"T_6462e738_6c61_11ea_b45d_5b367b4efd09row3_col5\" class=\"data row3 col5\" >0</td>\n",
       "                        <td id=\"T_6462e738_6c61_11ea_b45d_5b367b4efd09row3_col6\" class=\"data row3 col6\" >7</td>\n",
       "            </tr>\n",
       "            <tr>\n",
       "                        <th id=\"T_6462e738_6c61_11ea_b45d_5b367b4efd09level0_row4\" class=\"row_heading level0 row4\" >4</th>\n",
       "                        <td id=\"T_6462e738_6c61_11ea_b45d_5b367b4efd09row4_col0\" class=\"data row4 col0\" >5</td>\n",
       "                        <td id=\"T_6462e738_6c61_11ea_b45d_5b367b4efd09row4_col1\" class=\"data row4 col1\" >Haryana</td>\n",
       "                        <td id=\"T_6462e738_6c61_11ea_b45d_5b367b4efd09row4_col2\" class=\"data row4 col2\" >3</td>\n",
       "                        <td id=\"T_6462e738_6c61_11ea_b45d_5b367b4efd09row4_col3\" class=\"data row4 col3\" >14</td>\n",
       "                        <td id=\"T_6462e738_6c61_11ea_b45d_5b367b4efd09row4_col4\" class=\"data row4 col4\" >0</td>\n",
       "                        <td id=\"T_6462e738_6c61_11ea_b45d_5b367b4efd09row4_col5\" class=\"data row4 col5\" >0</td>\n",
       "                        <td id=\"T_6462e738_6c61_11ea_b45d_5b367b4efd09row4_col6\" class=\"data row4 col6\" >17</td>\n",
       "            </tr>\n",
       "            <tr>\n",
       "                        <th id=\"T_6462e738_6c61_11ea_b45d_5b367b4efd09level0_row5\" class=\"row_heading level0 row5\" >5</th>\n",
       "                        <td id=\"T_6462e738_6c61_11ea_b45d_5b367b4efd09row5_col0\" class=\"data row5 col0\" >6</td>\n",
       "                        <td id=\"T_6462e738_6c61_11ea_b45d_5b367b4efd09row5_col1\" class=\"data row5 col1\" >Himachal Pradesh</td>\n",
       "                        <td id=\"T_6462e738_6c61_11ea_b45d_5b367b4efd09row5_col2\" class=\"data row5 col2\" >2</td>\n",
       "                        <td id=\"T_6462e738_6c61_11ea_b45d_5b367b4efd09row5_col3\" class=\"data row5 col3\" >0</td>\n",
       "                        <td id=\"T_6462e738_6c61_11ea_b45d_5b367b4efd09row5_col4\" class=\"data row5 col4\" >0</td>\n",
       "                        <td id=\"T_6462e738_6c61_11ea_b45d_5b367b4efd09row5_col5\" class=\"data row5 col5\" >0</td>\n",
       "                        <td id=\"T_6462e738_6c61_11ea_b45d_5b367b4efd09row5_col6\" class=\"data row5 col6\" >2</td>\n",
       "            </tr>\n",
       "            <tr>\n",
       "                        <th id=\"T_6462e738_6c61_11ea_b45d_5b367b4efd09level0_row6\" class=\"row_heading level0 row6\" >6</th>\n",
       "                        <td id=\"T_6462e738_6c61_11ea_b45d_5b367b4efd09row6_col0\" class=\"data row6 col0\" >7</td>\n",
       "                        <td id=\"T_6462e738_6c61_11ea_b45d_5b367b4efd09row6_col1\" class=\"data row6 col1\" >Karnataka</td>\n",
       "                        <td id=\"T_6462e738_6c61_11ea_b45d_5b367b4efd09row6_col2\" class=\"data row6 col2\" >15</td>\n",
       "                        <td id=\"T_6462e738_6c61_11ea_b45d_5b367b4efd09row6_col3\" class=\"data row6 col3\" >0</td>\n",
       "                        <td id=\"T_6462e738_6c61_11ea_b45d_5b367b4efd09row6_col4\" class=\"data row6 col4\" >1</td>\n",
       "                        <td id=\"T_6462e738_6c61_11ea_b45d_5b367b4efd09row6_col5\" class=\"data row6 col5\" >1</td>\n",
       "                        <td id=\"T_6462e738_6c61_11ea_b45d_5b367b4efd09row6_col6\" class=\"data row6 col6\" >15</td>\n",
       "            </tr>\n",
       "            <tr>\n",
       "                        <th id=\"T_6462e738_6c61_11ea_b45d_5b367b4efd09level0_row7\" class=\"row_heading level0 row7\" >7</th>\n",
       "                        <td id=\"T_6462e738_6c61_11ea_b45d_5b367b4efd09row7_col0\" class=\"data row7 col0\" >8</td>\n",
       "                        <td id=\"T_6462e738_6c61_11ea_b45d_5b367b4efd09row7_col1\" class=\"data row7 col1\" >Kerala</td>\n",
       "                        <td id=\"T_6462e738_6c61_11ea_b45d_5b367b4efd09row7_col2\" class=\"data row7 col2\" >33</td>\n",
       "                        <td id=\"T_6462e738_6c61_11ea_b45d_5b367b4efd09row7_col3\" class=\"data row7 col3\" >7</td>\n",
       "                        <td id=\"T_6462e738_6c61_11ea_b45d_5b367b4efd09row7_col4\" class=\"data row7 col4\" >3</td>\n",
       "                        <td id=\"T_6462e738_6c61_11ea_b45d_5b367b4efd09row7_col5\" class=\"data row7 col5\" >0</td>\n",
       "                        <td id=\"T_6462e738_6c61_11ea_b45d_5b367b4efd09row7_col6\" class=\"data row7 col6\" >40</td>\n",
       "            </tr>\n",
       "            <tr>\n",
       "                        <th id=\"T_6462e738_6c61_11ea_b45d_5b367b4efd09level0_row8\" class=\"row_heading level0 row8\" >8</th>\n",
       "                        <td id=\"T_6462e738_6c61_11ea_b45d_5b367b4efd09row8_col0\" class=\"data row8 col0\" >9</td>\n",
       "                        <td id=\"T_6462e738_6c61_11ea_b45d_5b367b4efd09row8_col1\" class=\"data row8 col1\" >Madhya Pradesh</td>\n",
       "                        <td id=\"T_6462e738_6c61_11ea_b45d_5b367b4efd09row8_col2\" class=\"data row8 col2\" >4</td>\n",
       "                        <td id=\"T_6462e738_6c61_11ea_b45d_5b367b4efd09row8_col3\" class=\"data row8 col3\" >0</td>\n",
       "                        <td id=\"T_6462e738_6c61_11ea_b45d_5b367b4efd09row8_col4\" class=\"data row8 col4\" >0</td>\n",
       "                        <td id=\"T_6462e738_6c61_11ea_b45d_5b367b4efd09row8_col5\" class=\"data row8 col5\" >0</td>\n",
       "                        <td id=\"T_6462e738_6c61_11ea_b45d_5b367b4efd09row8_col6\" class=\"data row8 col6\" >4</td>\n",
       "            </tr>\n",
       "            <tr>\n",
       "                        <th id=\"T_6462e738_6c61_11ea_b45d_5b367b4efd09level0_row9\" class=\"row_heading level0 row9\" >9</th>\n",
       "                        <td id=\"T_6462e738_6c61_11ea_b45d_5b367b4efd09row9_col0\" class=\"data row9 col0\" >10</td>\n",
       "                        <td id=\"T_6462e738_6c61_11ea_b45d_5b367b4efd09row9_col1\" class=\"data row9 col1\" >Maharashtra</td>\n",
       "                        <td id=\"T_6462e738_6c61_11ea_b45d_5b367b4efd09row9_col2\" class=\"data row9 col2\" >60</td>\n",
       "                        <td id=\"T_6462e738_6c61_11ea_b45d_5b367b4efd09row9_col3\" class=\"data row9 col3\" >3</td>\n",
       "                        <td id=\"T_6462e738_6c61_11ea_b45d_5b367b4efd09row9_col4\" class=\"data row9 col4\" >0</td>\n",
       "                        <td id=\"T_6462e738_6c61_11ea_b45d_5b367b4efd09row9_col5\" class=\"data row9 col5\" >1</td>\n",
       "                        <td id=\"T_6462e738_6c61_11ea_b45d_5b367b4efd09row9_col6\" class=\"data row9 col6\" >63</td>\n",
       "            </tr>\n",
       "            <tr>\n",
       "                        <th id=\"T_6462e738_6c61_11ea_b45d_5b367b4efd09level0_row10\" class=\"row_heading level0 row10\" >10</th>\n",
       "                        <td id=\"T_6462e738_6c61_11ea_b45d_5b367b4efd09row10_col0\" class=\"data row10 col0\" >11</td>\n",
       "                        <td id=\"T_6462e738_6c61_11ea_b45d_5b367b4efd09row10_col1\" class=\"data row10 col1\" >Odisha</td>\n",
       "                        <td id=\"T_6462e738_6c61_11ea_b45d_5b367b4efd09row10_col2\" class=\"data row10 col2\" >2</td>\n",
       "                        <td id=\"T_6462e738_6c61_11ea_b45d_5b367b4efd09row10_col3\" class=\"data row10 col3\" >0</td>\n",
       "                        <td id=\"T_6462e738_6c61_11ea_b45d_5b367b4efd09row10_col4\" class=\"data row10 col4\" >0</td>\n",
       "                        <td id=\"T_6462e738_6c61_11ea_b45d_5b367b4efd09row10_col5\" class=\"data row10 col5\" >0</td>\n",
       "                        <td id=\"T_6462e738_6c61_11ea_b45d_5b367b4efd09row10_col6\" class=\"data row10 col6\" >2</td>\n",
       "            </tr>\n",
       "            <tr>\n",
       "                        <th id=\"T_6462e738_6c61_11ea_b45d_5b367b4efd09level0_row11\" class=\"row_heading level0 row11\" >11</th>\n",
       "                        <td id=\"T_6462e738_6c61_11ea_b45d_5b367b4efd09row11_col0\" class=\"data row11 col0\" >12</td>\n",
       "                        <td id=\"T_6462e738_6c61_11ea_b45d_5b367b4efd09row11_col1\" class=\"data row11 col1\" >Pondicherry</td>\n",
       "                        <td id=\"T_6462e738_6c61_11ea_b45d_5b367b4efd09row11_col2\" class=\"data row11 col2\" >1</td>\n",
       "                        <td id=\"T_6462e738_6c61_11ea_b45d_5b367b4efd09row11_col3\" class=\"data row11 col3\" >0</td>\n",
       "                        <td id=\"T_6462e738_6c61_11ea_b45d_5b367b4efd09row11_col4\" class=\"data row11 col4\" >0</td>\n",
       "                        <td id=\"T_6462e738_6c61_11ea_b45d_5b367b4efd09row11_col5\" class=\"data row11 col5\" >0</td>\n",
       "                        <td id=\"T_6462e738_6c61_11ea_b45d_5b367b4efd09row11_col6\" class=\"data row11 col6\" >1</td>\n",
       "            </tr>\n",
       "            <tr>\n",
       "                        <th id=\"T_6462e738_6c61_11ea_b45d_5b367b4efd09level0_row12\" class=\"row_heading level0 row12\" >12</th>\n",
       "                        <td id=\"T_6462e738_6c61_11ea_b45d_5b367b4efd09row12_col0\" class=\"data row12 col0\" >13</td>\n",
       "                        <td id=\"T_6462e738_6c61_11ea_b45d_5b367b4efd09row12_col1\" class=\"data row12 col1\" >Punjab</td>\n",
       "                        <td id=\"T_6462e738_6c61_11ea_b45d_5b367b4efd09row12_col2\" class=\"data row12 col2\" >13</td>\n",
       "                        <td id=\"T_6462e738_6c61_11ea_b45d_5b367b4efd09row12_col3\" class=\"data row12 col3\" >0</td>\n",
       "                        <td id=\"T_6462e738_6c61_11ea_b45d_5b367b4efd09row12_col4\" class=\"data row12 col4\" >0</td>\n",
       "                        <td id=\"T_6462e738_6c61_11ea_b45d_5b367b4efd09row12_col5\" class=\"data row12 col5\" >1</td>\n",
       "                        <td id=\"T_6462e738_6c61_11ea_b45d_5b367b4efd09row12_col6\" class=\"data row12 col6\" >13</td>\n",
       "            </tr>\n",
       "            <tr>\n",
       "                        <th id=\"T_6462e738_6c61_11ea_b45d_5b367b4efd09level0_row13\" class=\"row_heading level0 row13\" >13</th>\n",
       "                        <td id=\"T_6462e738_6c61_11ea_b45d_5b367b4efd09row13_col0\" class=\"data row13 col0\" >14</td>\n",
       "                        <td id=\"T_6462e738_6c61_11ea_b45d_5b367b4efd09row13_col1\" class=\"data row13 col1\" >Rajasthan</td>\n",
       "                        <td id=\"T_6462e738_6c61_11ea_b45d_5b367b4efd09row13_col2\" class=\"data row13 col2\" >15</td>\n",
       "                        <td id=\"T_6462e738_6c61_11ea_b45d_5b367b4efd09row13_col3\" class=\"data row13 col3\" >2</td>\n",
       "                        <td id=\"T_6462e738_6c61_11ea_b45d_5b367b4efd09row13_col4\" class=\"data row13 col4\" >3</td>\n",
       "                        <td id=\"T_6462e738_6c61_11ea_b45d_5b367b4efd09row13_col5\" class=\"data row13 col5\" >0</td>\n",
       "                        <td id=\"T_6462e738_6c61_11ea_b45d_5b367b4efd09row13_col6\" class=\"data row13 col6\" >17</td>\n",
       "            </tr>\n",
       "            <tr>\n",
       "                        <th id=\"T_6462e738_6c61_11ea_b45d_5b367b4efd09level0_row14\" class=\"row_heading level0 row14\" >14</th>\n",
       "                        <td id=\"T_6462e738_6c61_11ea_b45d_5b367b4efd09row14_col0\" class=\"data row14 col0\" >15</td>\n",
       "                        <td id=\"T_6462e738_6c61_11ea_b45d_5b367b4efd09row14_col1\" class=\"data row14 col1\" >Tamil Nadu</td>\n",
       "                        <td id=\"T_6462e738_6c61_11ea_b45d_5b367b4efd09row14_col2\" class=\"data row14 col2\" >3</td>\n",
       "                        <td id=\"T_6462e738_6c61_11ea_b45d_5b367b4efd09row14_col3\" class=\"data row14 col3\" >0</td>\n",
       "                        <td id=\"T_6462e738_6c61_11ea_b45d_5b367b4efd09row14_col4\" class=\"data row14 col4\" >1</td>\n",
       "                        <td id=\"T_6462e738_6c61_11ea_b45d_5b367b4efd09row14_col5\" class=\"data row14 col5\" >0</td>\n",
       "                        <td id=\"T_6462e738_6c61_11ea_b45d_5b367b4efd09row14_col6\" class=\"data row14 col6\" >3</td>\n",
       "            </tr>\n",
       "            <tr>\n",
       "                        <th id=\"T_6462e738_6c61_11ea_b45d_5b367b4efd09level0_row15\" class=\"row_heading level0 row15\" >15</th>\n",
       "                        <td id=\"T_6462e738_6c61_11ea_b45d_5b367b4efd09row15_col0\" class=\"data row15 col0\" >16</td>\n",
       "                        <td id=\"T_6462e738_6c61_11ea_b45d_5b367b4efd09row15_col1\" class=\"data row15 col1\" >Telengana</td>\n",
       "                        <td id=\"T_6462e738_6c61_11ea_b45d_5b367b4efd09row15_col2\" class=\"data row15 col2\" >10</td>\n",
       "                        <td id=\"T_6462e738_6c61_11ea_b45d_5b367b4efd09row15_col3\" class=\"data row15 col3\" >11</td>\n",
       "                        <td id=\"T_6462e738_6c61_11ea_b45d_5b367b4efd09row15_col4\" class=\"data row15 col4\" >1</td>\n",
       "                        <td id=\"T_6462e738_6c61_11ea_b45d_5b367b4efd09row15_col5\" class=\"data row15 col5\" >0</td>\n",
       "                        <td id=\"T_6462e738_6c61_11ea_b45d_5b367b4efd09row15_col6\" class=\"data row15 col6\" >21</td>\n",
       "            </tr>\n",
       "            <tr>\n",
       "                        <th id=\"T_6462e738_6c61_11ea_b45d_5b367b4efd09level0_row16\" class=\"row_heading level0 row16\" >16</th>\n",
       "                        <td id=\"T_6462e738_6c61_11ea_b45d_5b367b4efd09row16_col0\" class=\"data row16 col0\" >17</td>\n",
       "                        <td id=\"T_6462e738_6c61_11ea_b45d_5b367b4efd09row16_col1\" class=\"data row16 col1\" >Chandigarh</td>\n",
       "                        <td id=\"T_6462e738_6c61_11ea_b45d_5b367b4efd09row16_col2\" class=\"data row16 col2\" >1</td>\n",
       "                        <td id=\"T_6462e738_6c61_11ea_b45d_5b367b4efd09row16_col3\" class=\"data row16 col3\" >0</td>\n",
       "                        <td id=\"T_6462e738_6c61_11ea_b45d_5b367b4efd09row16_col4\" class=\"data row16 col4\" >0</td>\n",
       "                        <td id=\"T_6462e738_6c61_11ea_b45d_5b367b4efd09row16_col5\" class=\"data row16 col5\" >0</td>\n",
       "                        <td id=\"T_6462e738_6c61_11ea_b45d_5b367b4efd09row16_col6\" class=\"data row16 col6\" >1</td>\n",
       "            </tr>\n",
       "            <tr>\n",
       "                        <th id=\"T_6462e738_6c61_11ea_b45d_5b367b4efd09level0_row17\" class=\"row_heading level0 row17\" >17</th>\n",
       "                        <td id=\"T_6462e738_6c61_11ea_b45d_5b367b4efd09row17_col0\" class=\"data row17 col0\" >18</td>\n",
       "                        <td id=\"T_6462e738_6c61_11ea_b45d_5b367b4efd09row17_col1\" class=\"data row17 col1\" >Jammu and Kashmir</td>\n",
       "                        <td id=\"T_6462e738_6c61_11ea_b45d_5b367b4efd09row17_col2\" class=\"data row17 col2\" >4</td>\n",
       "                        <td id=\"T_6462e738_6c61_11ea_b45d_5b367b4efd09row17_col3\" class=\"data row17 col3\" >0</td>\n",
       "                        <td id=\"T_6462e738_6c61_11ea_b45d_5b367b4efd09row17_col4\" class=\"data row17 col4\" >0</td>\n",
       "                        <td id=\"T_6462e738_6c61_11ea_b45d_5b367b4efd09row17_col5\" class=\"data row17 col5\" >0</td>\n",
       "                        <td id=\"T_6462e738_6c61_11ea_b45d_5b367b4efd09row17_col6\" class=\"data row17 col6\" >4</td>\n",
       "            </tr>\n",
       "            <tr>\n",
       "                        <th id=\"T_6462e738_6c61_11ea_b45d_5b367b4efd09level0_row18\" class=\"row_heading level0 row18\" >18</th>\n",
       "                        <td id=\"T_6462e738_6c61_11ea_b45d_5b367b4efd09row18_col0\" class=\"data row18 col0\" >19</td>\n",
       "                        <td id=\"T_6462e738_6c61_11ea_b45d_5b367b4efd09row18_col1\" class=\"data row18 col1\" >Ladakh</td>\n",
       "                        <td id=\"T_6462e738_6c61_11ea_b45d_5b367b4efd09row18_col2\" class=\"data row18 col2\" >13</td>\n",
       "                        <td id=\"T_6462e738_6c61_11ea_b45d_5b367b4efd09row18_col3\" class=\"data row18 col3\" >0</td>\n",
       "                        <td id=\"T_6462e738_6c61_11ea_b45d_5b367b4efd09row18_col4\" class=\"data row18 col4\" >0</td>\n",
       "                        <td id=\"T_6462e738_6c61_11ea_b45d_5b367b4efd09row18_col5\" class=\"data row18 col5\" >0</td>\n",
       "                        <td id=\"T_6462e738_6c61_11ea_b45d_5b367b4efd09row18_col6\" class=\"data row18 col6\" >13</td>\n",
       "            </tr>\n",
       "            <tr>\n",
       "                        <th id=\"T_6462e738_6c61_11ea_b45d_5b367b4efd09level0_row19\" class=\"row_heading level0 row19\" >19</th>\n",
       "                        <td id=\"T_6462e738_6c61_11ea_b45d_5b367b4efd09row19_col0\" class=\"data row19 col0\" >20</td>\n",
       "                        <td id=\"T_6462e738_6c61_11ea_b45d_5b367b4efd09row19_col1\" class=\"data row19 col1\" >Uttar Pradesh</td>\n",
       "                        <td id=\"T_6462e738_6c61_11ea_b45d_5b367b4efd09row19_col2\" class=\"data row19 col2\" >23</td>\n",
       "                        <td id=\"T_6462e738_6c61_11ea_b45d_5b367b4efd09row19_col3\" class=\"data row19 col3\" >1</td>\n",
       "                        <td id=\"T_6462e738_6c61_11ea_b45d_5b367b4efd09row19_col4\" class=\"data row19 col4\" >9</td>\n",
       "                        <td id=\"T_6462e738_6c61_11ea_b45d_5b367b4efd09row19_col5\" class=\"data row19 col5\" >0</td>\n",
       "                        <td id=\"T_6462e738_6c61_11ea_b45d_5b367b4efd09row19_col6\" class=\"data row19 col6\" >24</td>\n",
       "            </tr>\n",
       "            <tr>\n",
       "                        <th id=\"T_6462e738_6c61_11ea_b45d_5b367b4efd09level0_row20\" class=\"row_heading level0 row20\" >20</th>\n",
       "                        <td id=\"T_6462e738_6c61_11ea_b45d_5b367b4efd09row20_col0\" class=\"data row20 col0\" >21</td>\n",
       "                        <td id=\"T_6462e738_6c61_11ea_b45d_5b367b4efd09row20_col1\" class=\"data row20 col1\" >Uttarakhand</td>\n",
       "                        <td id=\"T_6462e738_6c61_11ea_b45d_5b367b4efd09row20_col2\" class=\"data row20 col2\" >3</td>\n",
       "                        <td id=\"T_6462e738_6c61_11ea_b45d_5b367b4efd09row20_col3\" class=\"data row20 col3\" >0</td>\n",
       "                        <td id=\"T_6462e738_6c61_11ea_b45d_5b367b4efd09row20_col4\" class=\"data row20 col4\" >0</td>\n",
       "                        <td id=\"T_6462e738_6c61_11ea_b45d_5b367b4efd09row20_col5\" class=\"data row20 col5\" >0</td>\n",
       "                        <td id=\"T_6462e738_6c61_11ea_b45d_5b367b4efd09row20_col6\" class=\"data row20 col6\" >3</td>\n",
       "            </tr>\n",
       "            <tr>\n",
       "                        <th id=\"T_6462e738_6c61_11ea_b45d_5b367b4efd09level0_row21\" class=\"row_heading level0 row21\" >21</th>\n",
       "                        <td id=\"T_6462e738_6c61_11ea_b45d_5b367b4efd09row21_col0\" class=\"data row21 col0\" >22</td>\n",
       "                        <td id=\"T_6462e738_6c61_11ea_b45d_5b367b4efd09row21_col1\" class=\"data row21 col1\" >West Bengal</td>\n",
       "                        <td id=\"T_6462e738_6c61_11ea_b45d_5b367b4efd09row21_col2\" class=\"data row21 col2\" >3</td>\n",
       "                        <td id=\"T_6462e738_6c61_11ea_b45d_5b367b4efd09row21_col3\" class=\"data row21 col3\" >0</td>\n",
       "                        <td id=\"T_6462e738_6c61_11ea_b45d_5b367b4efd09row21_col4\" class=\"data row21 col4\" >0</td>\n",
       "                        <td id=\"T_6462e738_6c61_11ea_b45d_5b367b4efd09row21_col5\" class=\"data row21 col5\" >0</td>\n",
       "                        <td id=\"T_6462e738_6c61_11ea_b45d_5b367b4efd09row21_col6\" class=\"data row21 col6\" >3</td>\n",
       "            </tr>\n",
       "    </tbody></table>"
      ],
      "text/plain": [
       "<pandas.io.formats.style.Styler at 0x7fb91b2b2048>"
      ]
     },
     "execution_count": 6,
     "metadata": {},
     "output_type": "execute_result"
    }
   ],
   "source": [
    "covid_India_cases['TotalConfirmed'] = covid_India_cases['Total Confirmed cases (Indian National)'] + covid_India_cases['Total Confirmed cases ( Foreign National )']\n",
    "covid_India_cases.rename(columns={'Name of State / UT': 'State', 'Cured/Discharged/Migrated': 'Recovered'}, inplace=True)\n",
    "covid_India_cases.style.apply(highlight_max,subset=['Recovered', 'Deaths','TotalConfirmed'])"
   ]
  },
  {
   "cell_type": "code",
   "execution_count": 7,
   "metadata": {},
   "outputs": [
    {
     "data": {
      "application/vnd.plotly.v1+json": {
       "config": {
        "plotlyServerURL": "https://plot.ly"
       },
       "data": [
        {
         "alignmentgroup": "True",
         "hoverlabel": {
          "namelength": 0
         },
         "hovertemplate": "TotalConfirmed=%{text}<br>State=%{y}",
         "legendgroup": "",
         "marker": {
          "color": "#0726ed"
         },
         "name": "",
         "offsetgroup": "",
         "opacity": 0.8,
         "orientation": "h",
         "showlegend": false,
         "text": [
          1.0,
          1.0,
          1.0,
          2.0,
          2.0,
          3.0,
          3.0,
          3.0,
          3.0,
          4.0,
          4.0,
          7.0,
          13.0,
          13.0,
          15.0,
          17.0,
          17.0,
          21.0,
          24.0,
          26.0,
          40.0,
          63.0
         ],
         "textposition": "outside",
         "type": "bar",
         "x": [
          1,
          1,
          1,
          2,
          2,
          3,
          3,
          3,
          3,
          4,
          4,
          7,
          13,
          13,
          15,
          17,
          17,
          21,
          24,
          26,
          40,
          63
         ],
         "xaxis": "x",
         "y": [
          "Pondicherry",
          "Chandigarh",
          "Chattisgarh",
          "Himachal Pradesh",
          "Odisha",
          "Tamil Nadu",
          "West Bengal",
          "Uttarakhand",
          "Andhra Pradesh",
          "Jammu and Kashmir",
          "Madhya Pradesh",
          "Gujarat",
          "Ladakh",
          "Punjab",
          "Karnataka",
          "Rajasthan",
          "Haryana",
          "Telengana",
          "Uttar Pradesh",
          "Delhi",
          "Kerala",
          "Maharashtra"
         ],
         "yaxis": "y"
        }
       ],
       "layout": {
        "barmode": "relative",
        "height": 700,
        "legend": {
         "tracegroupgap": 0
        },
        "plot_bgcolor": "rgb(208, 236, 245)",
        "template": {
         "data": {
          "bar": [
           {
            "error_x": {
             "color": "#2a3f5f"
            },
            "error_y": {
             "color": "#2a3f5f"
            },
            "marker": {
             "line": {
              "color": "#E5ECF6",
              "width": 0.5
             }
            },
            "type": "bar"
           }
          ],
          "barpolar": [
           {
            "marker": {
             "line": {
              "color": "#E5ECF6",
              "width": 0.5
             }
            },
            "type": "barpolar"
           }
          ],
          "carpet": [
           {
            "aaxis": {
             "endlinecolor": "#2a3f5f",
             "gridcolor": "white",
             "linecolor": "white",
             "minorgridcolor": "white",
             "startlinecolor": "#2a3f5f"
            },
            "baxis": {
             "endlinecolor": "#2a3f5f",
             "gridcolor": "white",
             "linecolor": "white",
             "minorgridcolor": "white",
             "startlinecolor": "#2a3f5f"
            },
            "type": "carpet"
           }
          ],
          "choropleth": [
           {
            "colorbar": {
             "outlinewidth": 0,
             "ticks": ""
            },
            "type": "choropleth"
           }
          ],
          "contour": [
           {
            "colorbar": {
             "outlinewidth": 0,
             "ticks": ""
            },
            "colorscale": [
             [
              0.0,
              "#0d0887"
             ],
             [
              0.1111111111111111,
              "#46039f"
             ],
             [
              0.2222222222222222,
              "#7201a8"
             ],
             [
              0.3333333333333333,
              "#9c179e"
             ],
             [
              0.4444444444444444,
              "#bd3786"
             ],
             [
              0.5555555555555556,
              "#d8576b"
             ],
             [
              0.6666666666666666,
              "#ed7953"
             ],
             [
              0.7777777777777778,
              "#fb9f3a"
             ],
             [
              0.8888888888888888,
              "#fdca26"
             ],
             [
              1.0,
              "#f0f921"
             ]
            ],
            "type": "contour"
           }
          ],
          "contourcarpet": [
           {
            "colorbar": {
             "outlinewidth": 0,
             "ticks": ""
            },
            "type": "contourcarpet"
           }
          ],
          "heatmap": [
           {
            "colorbar": {
             "outlinewidth": 0,
             "ticks": ""
            },
            "colorscale": [
             [
              0.0,
              "#0d0887"
             ],
             [
              0.1111111111111111,
              "#46039f"
             ],
             [
              0.2222222222222222,
              "#7201a8"
             ],
             [
              0.3333333333333333,
              "#9c179e"
             ],
             [
              0.4444444444444444,
              "#bd3786"
             ],
             [
              0.5555555555555556,
              "#d8576b"
             ],
             [
              0.6666666666666666,
              "#ed7953"
             ],
             [
              0.7777777777777778,
              "#fb9f3a"
             ],
             [
              0.8888888888888888,
              "#fdca26"
             ],
             [
              1.0,
              "#f0f921"
             ]
            ],
            "type": "heatmap"
           }
          ],
          "heatmapgl": [
           {
            "colorbar": {
             "outlinewidth": 0,
             "ticks": ""
            },
            "colorscale": [
             [
              0.0,
              "#0d0887"
             ],
             [
              0.1111111111111111,
              "#46039f"
             ],
             [
              0.2222222222222222,
              "#7201a8"
             ],
             [
              0.3333333333333333,
              "#9c179e"
             ],
             [
              0.4444444444444444,
              "#bd3786"
             ],
             [
              0.5555555555555556,
              "#d8576b"
             ],
             [
              0.6666666666666666,
              "#ed7953"
             ],
             [
              0.7777777777777778,
              "#fb9f3a"
             ],
             [
              0.8888888888888888,
              "#fdca26"
             ],
             [
              1.0,
              "#f0f921"
             ]
            ],
            "type": "heatmapgl"
           }
          ],
          "histogram": [
           {
            "marker": {
             "colorbar": {
              "outlinewidth": 0,
              "ticks": ""
             }
            },
            "type": "histogram"
           }
          ],
          "histogram2d": [
           {
            "colorbar": {
             "outlinewidth": 0,
             "ticks": ""
            },
            "colorscale": [
             [
              0.0,
              "#0d0887"
             ],
             [
              0.1111111111111111,
              "#46039f"
             ],
             [
              0.2222222222222222,
              "#7201a8"
             ],
             [
              0.3333333333333333,
              "#9c179e"
             ],
             [
              0.4444444444444444,
              "#bd3786"
             ],
             [
              0.5555555555555556,
              "#d8576b"
             ],
             [
              0.6666666666666666,
              "#ed7953"
             ],
             [
              0.7777777777777778,
              "#fb9f3a"
             ],
             [
              0.8888888888888888,
              "#fdca26"
             ],
             [
              1.0,
              "#f0f921"
             ]
            ],
            "type": "histogram2d"
           }
          ],
          "histogram2dcontour": [
           {
            "colorbar": {
             "outlinewidth": 0,
             "ticks": ""
            },
            "colorscale": [
             [
              0.0,
              "#0d0887"
             ],
             [
              0.1111111111111111,
              "#46039f"
             ],
             [
              0.2222222222222222,
              "#7201a8"
             ],
             [
              0.3333333333333333,
              "#9c179e"
             ],
             [
              0.4444444444444444,
              "#bd3786"
             ],
             [
              0.5555555555555556,
              "#d8576b"
             ],
             [
              0.6666666666666666,
              "#ed7953"
             ],
             [
              0.7777777777777778,
              "#fb9f3a"
             ],
             [
              0.8888888888888888,
              "#fdca26"
             ],
             [
              1.0,
              "#f0f921"
             ]
            ],
            "type": "histogram2dcontour"
           }
          ],
          "mesh3d": [
           {
            "colorbar": {
             "outlinewidth": 0,
             "ticks": ""
            },
            "type": "mesh3d"
           }
          ],
          "parcoords": [
           {
            "line": {
             "colorbar": {
              "outlinewidth": 0,
              "ticks": ""
             }
            },
            "type": "parcoords"
           }
          ],
          "pie": [
           {
            "automargin": true,
            "type": "pie"
           }
          ],
          "scatter": [
           {
            "marker": {
             "colorbar": {
              "outlinewidth": 0,
              "ticks": ""
             }
            },
            "type": "scatter"
           }
          ],
          "scatter3d": [
           {
            "line": {
             "colorbar": {
              "outlinewidth": 0,
              "ticks": ""
             }
            },
            "marker": {
             "colorbar": {
              "outlinewidth": 0,
              "ticks": ""
             }
            },
            "type": "scatter3d"
           }
          ],
          "scattercarpet": [
           {
            "marker": {
             "colorbar": {
              "outlinewidth": 0,
              "ticks": ""
             }
            },
            "type": "scattercarpet"
           }
          ],
          "scattergeo": [
           {
            "marker": {
             "colorbar": {
              "outlinewidth": 0,
              "ticks": ""
             }
            },
            "type": "scattergeo"
           }
          ],
          "scattergl": [
           {
            "marker": {
             "colorbar": {
              "outlinewidth": 0,
              "ticks": ""
             }
            },
            "type": "scattergl"
           }
          ],
          "scattermapbox": [
           {
            "marker": {
             "colorbar": {
              "outlinewidth": 0,
              "ticks": ""
             }
            },
            "type": "scattermapbox"
           }
          ],
          "scatterpolar": [
           {
            "marker": {
             "colorbar": {
              "outlinewidth": 0,
              "ticks": ""
             }
            },
            "type": "scatterpolar"
           }
          ],
          "scatterpolargl": [
           {
            "marker": {
             "colorbar": {
              "outlinewidth": 0,
              "ticks": ""
             }
            },
            "type": "scatterpolargl"
           }
          ],
          "scatterternary": [
           {
            "marker": {
             "colorbar": {
              "outlinewidth": 0,
              "ticks": ""
             }
            },
            "type": "scatterternary"
           }
          ],
          "surface": [
           {
            "colorbar": {
             "outlinewidth": 0,
             "ticks": ""
            },
            "colorscale": [
             [
              0.0,
              "#0d0887"
             ],
             [
              0.1111111111111111,
              "#46039f"
             ],
             [
              0.2222222222222222,
              "#7201a8"
             ],
             [
              0.3333333333333333,
              "#9c179e"
             ],
             [
              0.4444444444444444,
              "#bd3786"
             ],
             [
              0.5555555555555556,
              "#d8576b"
             ],
             [
              0.6666666666666666,
              "#ed7953"
             ],
             [
              0.7777777777777778,
              "#fb9f3a"
             ],
             [
              0.8888888888888888,
              "#fdca26"
             ],
             [
              1.0,
              "#f0f921"
             ]
            ],
            "type": "surface"
           }
          ],
          "table": [
           {
            "cells": {
             "fill": {
              "color": "#EBF0F8"
             },
             "line": {
              "color": "white"
             }
            },
            "header": {
             "fill": {
              "color": "#C8D4E3"
             },
             "line": {
              "color": "white"
             }
            },
            "type": "table"
           }
          ]
         },
         "layout": {
          "annotationdefaults": {
           "arrowcolor": "#2a3f5f",
           "arrowhead": 0,
           "arrowwidth": 1
          },
          "coloraxis": {
           "colorbar": {
            "outlinewidth": 0,
            "ticks": ""
           }
          },
          "colorscale": {
           "diverging": [
            [
             0,
             "#8e0152"
            ],
            [
             0.1,
             "#c51b7d"
            ],
            [
             0.2,
             "#de77ae"
            ],
            [
             0.3,
             "#f1b6da"
            ],
            [
             0.4,
             "#fde0ef"
            ],
            [
             0.5,
             "#f7f7f7"
            ],
            [
             0.6,
             "#e6f5d0"
            ],
            [
             0.7,
             "#b8e186"
            ],
            [
             0.8,
             "#7fbc41"
            ],
            [
             0.9,
             "#4d9221"
            ],
            [
             1,
             "#276419"
            ]
           ],
           "sequential": [
            [
             0.0,
             "#0d0887"
            ],
            [
             0.1111111111111111,
             "#46039f"
            ],
            [
             0.2222222222222222,
             "#7201a8"
            ],
            [
             0.3333333333333333,
             "#9c179e"
            ],
            [
             0.4444444444444444,
             "#bd3786"
            ],
            [
             0.5555555555555556,
             "#d8576b"
            ],
            [
             0.6666666666666666,
             "#ed7953"
            ],
            [
             0.7777777777777778,
             "#fb9f3a"
            ],
            [
             0.8888888888888888,
             "#fdca26"
            ],
            [
             1.0,
             "#f0f921"
            ]
           ],
           "sequentialminus": [
            [
             0.0,
             "#0d0887"
            ],
            [
             0.1111111111111111,
             "#46039f"
            ],
            [
             0.2222222222222222,
             "#7201a8"
            ],
            [
             0.3333333333333333,
             "#9c179e"
            ],
            [
             0.4444444444444444,
             "#bd3786"
            ],
            [
             0.5555555555555556,
             "#d8576b"
            ],
            [
             0.6666666666666666,
             "#ed7953"
            ],
            [
             0.7777777777777778,
             "#fb9f3a"
            ],
            [
             0.8888888888888888,
             "#fdca26"
            ],
            [
             1.0,
             "#f0f921"
            ]
           ]
          },
          "colorway": [
           "#636efa",
           "#EF553B",
           "#00cc96",
           "#ab63fa",
           "#FFA15A",
           "#19d3f3",
           "#FF6692",
           "#B6E880",
           "#FF97FF",
           "#FECB52"
          ],
          "font": {
           "color": "#2a3f5f"
          },
          "geo": {
           "bgcolor": "white",
           "lakecolor": "white",
           "landcolor": "#E5ECF6",
           "showlakes": true,
           "showland": true,
           "subunitcolor": "white"
          },
          "hoverlabel": {
           "align": "left"
          },
          "hovermode": "closest",
          "mapbox": {
           "style": "light"
          },
          "paper_bgcolor": "white",
          "plot_bgcolor": "#E5ECF6",
          "polar": {
           "angularaxis": {
            "gridcolor": "white",
            "linecolor": "white",
            "ticks": ""
           },
           "bgcolor": "#E5ECF6",
           "radialaxis": {
            "gridcolor": "white",
            "linecolor": "white",
            "ticks": ""
           }
          },
          "scene": {
           "xaxis": {
            "backgroundcolor": "#E5ECF6",
            "gridcolor": "white",
            "gridwidth": 2,
            "linecolor": "white",
            "showbackground": true,
            "ticks": "",
            "zerolinecolor": "white"
           },
           "yaxis": {
            "backgroundcolor": "#E5ECF6",
            "gridcolor": "white",
            "gridwidth": 2,
            "linecolor": "white",
            "showbackground": true,
            "ticks": "",
            "zerolinecolor": "white"
           },
           "zaxis": {
            "backgroundcolor": "#E5ECF6",
            "gridcolor": "white",
            "gridwidth": 2,
            "linecolor": "white",
            "showbackground": true,
            "ticks": "",
            "zerolinecolor": "white"
           }
          },
          "shapedefaults": {
           "line": {
            "color": "#2a3f5f"
           }
          },
          "ternary": {
           "aaxis": {
            "gridcolor": "white",
            "linecolor": "white",
            "ticks": ""
           },
           "baxis": {
            "gridcolor": "white",
            "linecolor": "white",
            "ticks": ""
           },
           "bgcolor": "#E5ECF6",
           "caxis": {
            "gridcolor": "white",
            "linecolor": "white",
            "ticks": ""
           }
          },
          "title": {
           "x": 0.05
          },
          "xaxis": {
           "automargin": true,
           "gridcolor": "white",
           "linecolor": "white",
           "ticks": "",
           "title": {
            "standoff": 15
           },
           "zerolinecolor": "white",
           "zerolinewidth": 2
          },
          "yaxis": {
           "automargin": true,
           "gridcolor": "white",
           "linecolor": "white",
           "ticks": "",
           "title": {
            "standoff": 15
           },
           "zerolinecolor": "white",
           "zerolinewidth": 2
          }
         }
        },
        "title": {
         "text": "Total Confirmed Cases"
        },
        "width": 700,
        "xaxis": {
         "anchor": "y",
         "domain": [
          0.0,
          1.0
         ],
         "range": [
          0,
          65
         ],
         "title": {
          "text": "TotalConfirmed"
         }
        },
        "yaxis": {
         "anchor": "x",
         "domain": [
          0.0,
          1.0
         ],
         "title": {
          "text": "State"
         }
        }
       }
      },
      "text/html": [
       "<div>\n",
       "        \n",
       "        \n",
       "            <div id=\"db6fdc72-8428-4172-b046-c55f94e6faf9\" class=\"plotly-graph-div\" style=\"height:700px; width:700px;\"></div>\n",
       "            <script type=\"text/javascript\">\n",
       "                require([\"plotly\"], function(Plotly) {\n",
       "                    window.PLOTLYENV=window.PLOTLYENV || {};\n",
       "                    \n",
       "                if (document.getElementById(\"db6fdc72-8428-4172-b046-c55f94e6faf9\")) {\n",
       "                    Plotly.newPlot(\n",
       "                        'db6fdc72-8428-4172-b046-c55f94e6faf9',\n",
       "                        [{\"alignmentgroup\": \"True\", \"hoverlabel\": {\"namelength\": 0}, \"hovertemplate\": \"TotalConfirmed=%{text}<br>State=%{y}\", \"legendgroup\": \"\", \"marker\": {\"color\": \"#0726ed\"}, \"name\": \"\", \"offsetgroup\": \"\", \"opacity\": 0.8, \"orientation\": \"h\", \"showlegend\": false, \"text\": [1.0, 1.0, 1.0, 2.0, 2.0, 3.0, 3.0, 3.0, 3.0, 4.0, 4.0, 7.0, 13.0, 13.0, 15.0, 17.0, 17.0, 21.0, 24.0, 26.0, 40.0, 63.0], \"textposition\": \"outside\", \"type\": \"bar\", \"x\": [1, 1, 1, 2, 2, 3, 3, 3, 3, 4, 4, 7, 13, 13, 15, 17, 17, 21, 24, 26, 40, 63], \"xaxis\": \"x\", \"y\": [\"Pondicherry\", \"Chandigarh\", \"Chattisgarh\", \"Himachal Pradesh\", \"Odisha\", \"Tamil Nadu\", \"West Bengal\", \"Uttarakhand\", \"Andhra Pradesh\", \"Jammu and Kashmir\", \"Madhya Pradesh\", \"Gujarat\", \"Ladakh\", \"Punjab\", \"Karnataka\", \"Rajasthan\", \"Haryana\", \"Telengana\", \"Uttar Pradesh\", \"Delhi\", \"Kerala\", \"Maharashtra\"], \"yaxis\": \"y\"}],\n",
       "                        {\"barmode\": \"relative\", \"height\": 700, \"legend\": {\"tracegroupgap\": 0}, \"plot_bgcolor\": \"rgb(208, 236, 245)\", \"template\": {\"data\": {\"bar\": [{\"error_x\": {\"color\": \"#2a3f5f\"}, \"error_y\": {\"color\": \"#2a3f5f\"}, \"marker\": {\"line\": {\"color\": \"#E5ECF6\", \"width\": 0.5}}, \"type\": \"bar\"}], \"barpolar\": [{\"marker\": {\"line\": {\"color\": \"#E5ECF6\", \"width\": 0.5}}, \"type\": \"barpolar\"}], \"carpet\": [{\"aaxis\": {\"endlinecolor\": \"#2a3f5f\", \"gridcolor\": \"white\", \"linecolor\": \"white\", \"minorgridcolor\": \"white\", \"startlinecolor\": \"#2a3f5f\"}, \"baxis\": {\"endlinecolor\": \"#2a3f5f\", \"gridcolor\": \"white\", \"linecolor\": \"white\", \"minorgridcolor\": \"white\", \"startlinecolor\": \"#2a3f5f\"}, \"type\": \"carpet\"}], \"choropleth\": [{\"colorbar\": {\"outlinewidth\": 0, \"ticks\": \"\"}, \"type\": \"choropleth\"}], \"contour\": [{\"colorbar\": {\"outlinewidth\": 0, \"ticks\": \"\"}, \"colorscale\": [[0.0, \"#0d0887\"], [0.1111111111111111, \"#46039f\"], [0.2222222222222222, \"#7201a8\"], [0.3333333333333333, \"#9c179e\"], [0.4444444444444444, \"#bd3786\"], [0.5555555555555556, \"#d8576b\"], [0.6666666666666666, \"#ed7953\"], [0.7777777777777778, \"#fb9f3a\"], [0.8888888888888888, \"#fdca26\"], [1.0, \"#f0f921\"]], \"type\": \"contour\"}], \"contourcarpet\": [{\"colorbar\": {\"outlinewidth\": 0, \"ticks\": \"\"}, \"type\": \"contourcarpet\"}], \"heatmap\": [{\"colorbar\": {\"outlinewidth\": 0, \"ticks\": \"\"}, \"colorscale\": [[0.0, \"#0d0887\"], [0.1111111111111111, \"#46039f\"], [0.2222222222222222, \"#7201a8\"], [0.3333333333333333, \"#9c179e\"], [0.4444444444444444, \"#bd3786\"], [0.5555555555555556, \"#d8576b\"], [0.6666666666666666, \"#ed7953\"], [0.7777777777777778, \"#fb9f3a\"], [0.8888888888888888, \"#fdca26\"], [1.0, \"#f0f921\"]], \"type\": \"heatmap\"}], \"heatmapgl\": [{\"colorbar\": {\"outlinewidth\": 0, \"ticks\": \"\"}, \"colorscale\": [[0.0, \"#0d0887\"], [0.1111111111111111, \"#46039f\"], [0.2222222222222222, \"#7201a8\"], [0.3333333333333333, \"#9c179e\"], [0.4444444444444444, \"#bd3786\"], [0.5555555555555556, \"#d8576b\"], [0.6666666666666666, \"#ed7953\"], [0.7777777777777778, \"#fb9f3a\"], [0.8888888888888888, \"#fdca26\"], [1.0, \"#f0f921\"]], \"type\": \"heatmapgl\"}], \"histogram\": [{\"marker\": {\"colorbar\": {\"outlinewidth\": 0, \"ticks\": \"\"}}, \"type\": \"histogram\"}], \"histogram2d\": [{\"colorbar\": {\"outlinewidth\": 0, \"ticks\": \"\"}, \"colorscale\": [[0.0, \"#0d0887\"], [0.1111111111111111, \"#46039f\"], [0.2222222222222222, \"#7201a8\"], [0.3333333333333333, \"#9c179e\"], [0.4444444444444444, \"#bd3786\"], [0.5555555555555556, \"#d8576b\"], [0.6666666666666666, \"#ed7953\"], [0.7777777777777778, \"#fb9f3a\"], [0.8888888888888888, \"#fdca26\"], [1.0, \"#f0f921\"]], \"type\": \"histogram2d\"}], \"histogram2dcontour\": [{\"colorbar\": {\"outlinewidth\": 0, \"ticks\": \"\"}, \"colorscale\": [[0.0, \"#0d0887\"], [0.1111111111111111, \"#46039f\"], [0.2222222222222222, \"#7201a8\"], [0.3333333333333333, \"#9c179e\"], [0.4444444444444444, \"#bd3786\"], [0.5555555555555556, \"#d8576b\"], [0.6666666666666666, \"#ed7953\"], [0.7777777777777778, \"#fb9f3a\"], [0.8888888888888888, \"#fdca26\"], [1.0, \"#f0f921\"]], \"type\": \"histogram2dcontour\"}], \"mesh3d\": [{\"colorbar\": {\"outlinewidth\": 0, \"ticks\": \"\"}, \"type\": \"mesh3d\"}], \"parcoords\": [{\"line\": {\"colorbar\": {\"outlinewidth\": 0, \"ticks\": \"\"}}, \"type\": \"parcoords\"}], \"pie\": [{\"automargin\": true, \"type\": \"pie\"}], \"scatter\": [{\"marker\": {\"colorbar\": {\"outlinewidth\": 0, \"ticks\": \"\"}}, \"type\": \"scatter\"}], \"scatter3d\": [{\"line\": {\"colorbar\": {\"outlinewidth\": 0, \"ticks\": \"\"}}, \"marker\": {\"colorbar\": {\"outlinewidth\": 0, \"ticks\": \"\"}}, \"type\": \"scatter3d\"}], \"scattercarpet\": [{\"marker\": {\"colorbar\": {\"outlinewidth\": 0, \"ticks\": \"\"}}, \"type\": \"scattercarpet\"}], \"scattergeo\": [{\"marker\": {\"colorbar\": {\"outlinewidth\": 0, \"ticks\": \"\"}}, \"type\": \"scattergeo\"}], \"scattergl\": [{\"marker\": {\"colorbar\": {\"outlinewidth\": 0, \"ticks\": \"\"}}, \"type\": \"scattergl\"}], \"scattermapbox\": [{\"marker\": {\"colorbar\": {\"outlinewidth\": 0, \"ticks\": \"\"}}, \"type\": \"scattermapbox\"}], \"scatterpolar\": [{\"marker\": {\"colorbar\": {\"outlinewidth\": 0, \"ticks\": \"\"}}, \"type\": \"scatterpolar\"}], \"scatterpolargl\": [{\"marker\": {\"colorbar\": {\"outlinewidth\": 0, \"ticks\": \"\"}}, \"type\": \"scatterpolargl\"}], \"scatterternary\": [{\"marker\": {\"colorbar\": {\"outlinewidth\": 0, \"ticks\": \"\"}}, \"type\": \"scatterternary\"}], \"surface\": [{\"colorbar\": {\"outlinewidth\": 0, \"ticks\": \"\"}, \"colorscale\": [[0.0, \"#0d0887\"], [0.1111111111111111, \"#46039f\"], [0.2222222222222222, \"#7201a8\"], [0.3333333333333333, \"#9c179e\"], [0.4444444444444444, \"#bd3786\"], [0.5555555555555556, \"#d8576b\"], [0.6666666666666666, \"#ed7953\"], [0.7777777777777778, \"#fb9f3a\"], [0.8888888888888888, \"#fdca26\"], [1.0, \"#f0f921\"]], \"type\": \"surface\"}], \"table\": [{\"cells\": {\"fill\": {\"color\": \"#EBF0F8\"}, \"line\": {\"color\": \"white\"}}, \"header\": {\"fill\": {\"color\": \"#C8D4E3\"}, \"line\": {\"color\": \"white\"}}, \"type\": \"table\"}]}, \"layout\": {\"annotationdefaults\": {\"arrowcolor\": \"#2a3f5f\", \"arrowhead\": 0, \"arrowwidth\": 1}, \"coloraxis\": {\"colorbar\": {\"outlinewidth\": 0, \"ticks\": \"\"}}, \"colorscale\": {\"diverging\": [[0, \"#8e0152\"], [0.1, \"#c51b7d\"], [0.2, \"#de77ae\"], [0.3, \"#f1b6da\"], [0.4, \"#fde0ef\"], [0.5, \"#f7f7f7\"], [0.6, \"#e6f5d0\"], [0.7, \"#b8e186\"], [0.8, \"#7fbc41\"], [0.9, \"#4d9221\"], [1, \"#276419\"]], \"sequential\": [[0.0, \"#0d0887\"], [0.1111111111111111, \"#46039f\"], [0.2222222222222222, \"#7201a8\"], [0.3333333333333333, \"#9c179e\"], [0.4444444444444444, \"#bd3786\"], [0.5555555555555556, \"#d8576b\"], [0.6666666666666666, \"#ed7953\"], [0.7777777777777778, \"#fb9f3a\"], [0.8888888888888888, \"#fdca26\"], [1.0, \"#f0f921\"]], \"sequentialminus\": [[0.0, \"#0d0887\"], [0.1111111111111111, \"#46039f\"], [0.2222222222222222, \"#7201a8\"], [0.3333333333333333, \"#9c179e\"], [0.4444444444444444, \"#bd3786\"], [0.5555555555555556, \"#d8576b\"], [0.6666666666666666, \"#ed7953\"], [0.7777777777777778, \"#fb9f3a\"], [0.8888888888888888, \"#fdca26\"], [1.0, \"#f0f921\"]]}, \"colorway\": [\"#636efa\", \"#EF553B\", \"#00cc96\", \"#ab63fa\", \"#FFA15A\", \"#19d3f3\", \"#FF6692\", \"#B6E880\", \"#FF97FF\", \"#FECB52\"], \"font\": {\"color\": \"#2a3f5f\"}, \"geo\": {\"bgcolor\": \"white\", \"lakecolor\": \"white\", \"landcolor\": \"#E5ECF6\", \"showlakes\": true, \"showland\": true, \"subunitcolor\": \"white\"}, \"hoverlabel\": {\"align\": \"left\"}, \"hovermode\": \"closest\", \"mapbox\": {\"style\": \"light\"}, \"paper_bgcolor\": \"white\", \"plot_bgcolor\": \"#E5ECF6\", \"polar\": {\"angularaxis\": {\"gridcolor\": \"white\", \"linecolor\": \"white\", \"ticks\": \"\"}, \"bgcolor\": \"#E5ECF6\", \"radialaxis\": {\"gridcolor\": \"white\", \"linecolor\": \"white\", \"ticks\": \"\"}}, \"scene\": {\"xaxis\": {\"backgroundcolor\": \"#E5ECF6\", \"gridcolor\": \"white\", \"gridwidth\": 2, \"linecolor\": \"white\", \"showbackground\": true, \"ticks\": \"\", \"zerolinecolor\": \"white\"}, \"yaxis\": {\"backgroundcolor\": \"#E5ECF6\", \"gridcolor\": \"white\", \"gridwidth\": 2, \"linecolor\": \"white\", \"showbackground\": true, \"ticks\": \"\", \"zerolinecolor\": \"white\"}, \"zaxis\": {\"backgroundcolor\": \"#E5ECF6\", \"gridcolor\": \"white\", \"gridwidth\": 2, \"linecolor\": \"white\", \"showbackground\": true, \"ticks\": \"\", \"zerolinecolor\": \"white\"}}, \"shapedefaults\": {\"line\": {\"color\": \"#2a3f5f\"}}, \"ternary\": {\"aaxis\": {\"gridcolor\": \"white\", \"linecolor\": \"white\", \"ticks\": \"\"}, \"baxis\": {\"gridcolor\": \"white\", \"linecolor\": \"white\", \"ticks\": \"\"}, \"bgcolor\": \"#E5ECF6\", \"caxis\": {\"gridcolor\": \"white\", \"linecolor\": \"white\", \"ticks\": \"\"}}, \"title\": {\"x\": 0.05}, \"xaxis\": {\"automargin\": true, \"gridcolor\": \"white\", \"linecolor\": \"white\", \"ticks\": \"\", \"title\": {\"standoff\": 15}, \"zerolinecolor\": \"white\", \"zerolinewidth\": 2}, \"yaxis\": {\"automargin\": true, \"gridcolor\": \"white\", \"linecolor\": \"white\", \"ticks\": \"\", \"title\": {\"standoff\": 15}, \"zerolinecolor\": \"white\", \"zerolinewidth\": 2}}}, \"title\": {\"text\": \"Total Confirmed Cases\"}, \"width\": 700, \"xaxis\": {\"anchor\": \"y\", \"domain\": [0.0, 1.0], \"range\": [0, 65], \"title\": {\"text\": \"TotalConfirmed\"}}, \"yaxis\": {\"anchor\": \"x\", \"domain\": [0.0, 1.0], \"title\": {\"text\": \"State\"}}},\n",
       "                        {\"responsive\": true}\n",
       "                    ).then(function(){\n",
       "                            \n",
       "var gd = document.getElementById('db6fdc72-8428-4172-b046-c55f94e6faf9');\n",
       "var x = new MutationObserver(function (mutations, observer) {{\n",
       "        var display = window.getComputedStyle(gd).display;\n",
       "        if (!display || display === 'none') {{\n",
       "            console.log([gd, 'removed!']);\n",
       "            Plotly.purge(gd);\n",
       "            observer.disconnect();\n",
       "        }}\n",
       "}});\n",
       "\n",
       "// Listen for the removal of the full notebook cells\n",
       "var notebookContainer = gd.closest('#notebook-container');\n",
       "if (notebookContainer) {{\n",
       "    x.observe(notebookContainer, {childList: true});\n",
       "}}\n",
       "\n",
       "// Listen for the clearing of the current output cell\n",
       "var outputEl = gd.closest('.output');\n",
       "if (outputEl) {{\n",
       "    x.observe(outputEl, {childList: true});\n",
       "}}\n",
       "\n",
       "                        })\n",
       "                };\n",
       "                });\n",
       "            </script>\n",
       "        </div>"
      ]
     },
     "metadata": {},
     "output_type": "display_data"
    }
   ],
   "source": [
    "fig = px.bar(covid_India_cases.sort_values('TotalConfirmed', ascending=False).sort_values('TotalConfirmed', ascending=True), \n",
    "             x=\"TotalConfirmed\", y=\"State\", title='Total Confirmed Cases', text='TotalConfirmed', orientation='h', \n",
    "             width=700, height=700, range_x = [0, max(covid_India_cases['TotalConfirmed']) + 2])\n",
    "fig.update_traces(marker_color='#0726ed', opacity=0.8, textposition='outside')\n",
    "\n",
    "fig.update_layout(plot_bgcolor='rgb(208, 236, 245)')\n",
    "fig.show()"
   ]
  },
  {
   "cell_type": "code",
   "execution_count": 8,
   "metadata": {},
   "outputs": [
    {
     "name": "stderr",
     "output_type": "stream",
     "text": [
      "/opt/conda/lib/python3.6/site-packages/ipykernel_launcher.py:2: SettingWithCopyWarning:\n",
      "\n",
      "\n",
      "A value is trying to be set on a copy of a slice from a DataFrame.\n",
      "Try using .loc[row_indexer,col_indexer] = value instead\n",
      "\n",
      "See the caveats in the documentation: http://pandas.pydata.org/pandas-docs/stable/user_guide/indexing.html#returning-a-view-versus-a-copy\n",
      "\n"
     ]
    },
    {
     "data": {
      "text/html": [
       "<div>\n",
       "<style scoped>\n",
       "    .dataframe tbody tr th:only-of-type {\n",
       "        vertical-align: middle;\n",
       "    }\n",
       "\n",
       "    .dataframe tbody tr th {\n",
       "        vertical-align: top;\n",
       "    }\n",
       "\n",
       "    .dataframe thead th {\n",
       "        text-align: right;\n",
       "    }\n",
       "</style>\n",
       "<table border=\"1\" class=\"dataframe\">\n",
       "  <thead>\n",
       "    <tr style=\"text-align: right;\">\n",
       "      <th></th>\n",
       "      <th>Date</th>\n",
       "      <th>Confirmed</th>\n",
       "      <th>Deaths</th>\n",
       "      <th>Recovered</th>\n",
       "    </tr>\n",
       "  </thead>\n",
       "  <tbody>\n",
       "    <tr>\n",
       "      <th>0</th>\n",
       "      <td>2020-01-30</td>\n",
       "      <td>1</td>\n",
       "      <td>0</td>\n",
       "      <td>0</td>\n",
       "    </tr>\n",
       "    <tr>\n",
       "      <th>1</th>\n",
       "      <td>2020-01-31</td>\n",
       "      <td>1</td>\n",
       "      <td>0</td>\n",
       "      <td>0</td>\n",
       "    </tr>\n",
       "    <tr>\n",
       "      <th>2</th>\n",
       "      <td>2020-02-01</td>\n",
       "      <td>2</td>\n",
       "      <td>0</td>\n",
       "      <td>0</td>\n",
       "    </tr>\n",
       "    <tr>\n",
       "      <th>3</th>\n",
       "      <td>2020-02-02</td>\n",
       "      <td>3</td>\n",
       "      <td>0</td>\n",
       "      <td>0</td>\n",
       "    </tr>\n",
       "    <tr>\n",
       "      <th>4</th>\n",
       "      <td>2020-02-03</td>\n",
       "      <td>3</td>\n",
       "      <td>0</td>\n",
       "      <td>0</td>\n",
       "    </tr>\n",
       "    <tr>\n",
       "      <th>...</th>\n",
       "      <td>...</td>\n",
       "      <td>...</td>\n",
       "      <td>...</td>\n",
       "      <td>...</td>\n",
       "    </tr>\n",
       "    <tr>\n",
       "      <th>288</th>\n",
       "      <td>2020-03-22</td>\n",
       "      <td>4</td>\n",
       "      <td>0</td>\n",
       "      <td>0</td>\n",
       "    </tr>\n",
       "    <tr>\n",
       "      <th>289</th>\n",
       "      <td>2020-03-22</td>\n",
       "      <td>13</td>\n",
       "      <td>0</td>\n",
       "      <td>0</td>\n",
       "    </tr>\n",
       "    <tr>\n",
       "      <th>290</th>\n",
       "      <td>2020-03-22</td>\n",
       "      <td>27</td>\n",
       "      <td>0</td>\n",
       "      <td>9</td>\n",
       "    </tr>\n",
       "    <tr>\n",
       "      <th>291</th>\n",
       "      <td>2020-03-22</td>\n",
       "      <td>3</td>\n",
       "      <td>0</td>\n",
       "      <td>0</td>\n",
       "    </tr>\n",
       "    <tr>\n",
       "      <th>292</th>\n",
       "      <td>2020-03-22</td>\n",
       "      <td>4</td>\n",
       "      <td>0</td>\n",
       "      <td>0</td>\n",
       "    </tr>\n",
       "  </tbody>\n",
       "</table>\n",
       "<p>293 rows × 4 columns</p>\n",
       "</div>"
      ],
      "text/plain": [
       "          Date  Confirmed  Deaths  Recovered\n",
       "0   2020-01-30          1       0          0\n",
       "1   2020-01-31          1       0          0\n",
       "2   2020-02-01          2       0          0\n",
       "3   2020-02-02          3       0          0\n",
       "4   2020-02-03          3       0          0\n",
       "..         ...        ...     ...        ...\n",
       "288 2020-03-22          4       0          0\n",
       "289 2020-03-22         13       0          0\n",
       "290 2020-03-22         27       0          9\n",
       "291 2020-03-22          3       0          0\n",
       "292 2020-03-22          4       0          0\n",
       "\n",
       "[293 rows x 4 columns]"
      ]
     },
     "execution_count": 8,
     "metadata": {},
     "output_type": "execute_result"
    }
   ],
   "source": [
    "date_wise_data = covid_19_India[[\"Date\",\"Confirmed\",\"Deaths\",\"Recovered\"]]\n",
    "date_wise_data['Date'] = date_wise_data['Date'].apply(pd.to_datetime, dayfirst=True)\n",
    "date_wise_data"
   ]
  },
  {
   "cell_type": "code",
   "execution_count": 9,
   "metadata": {},
   "outputs": [
    {
     "data": {
      "text/markdown": [
       "***Day wise distribution (WorldWide) for Confirmed, Deaths and Recovered Cases***"
      ],
      "text/plain": [
       "<IPython.core.display.Markdown object>"
      ]
     },
     "metadata": {},
     "output_type": "display_data"
    },
    {
     "data": {
      "text/html": [
       "<div>\n",
       "<style scoped>\n",
       "    .dataframe tbody tr th:only-of-type {\n",
       "        vertical-align: middle;\n",
       "    }\n",
       "\n",
       "    .dataframe tbody tr th {\n",
       "        vertical-align: top;\n",
       "    }\n",
       "\n",
       "    .dataframe thead th {\n",
       "        text-align: right;\n",
       "    }\n",
       "</style>\n",
       "<table border=\"1\" class=\"dataframe\">\n",
       "  <thead>\n",
       "    <tr style=\"text-align: right;\">\n",
       "      <th></th>\n",
       "      <th>Date</th>\n",
       "      <th>Confirmed</th>\n",
       "      <th>Deaths</th>\n",
       "      <th>Recovered</th>\n",
       "    </tr>\n",
       "  </thead>\n",
       "  <tbody>\n",
       "    <tr>\n",
       "      <th>0</th>\n",
       "      <td>2020-01-30</td>\n",
       "      <td>1</td>\n",
       "      <td>0</td>\n",
       "      <td>0</td>\n",
       "    </tr>\n",
       "    <tr>\n",
       "      <th>1</th>\n",
       "      <td>2020-01-31</td>\n",
       "      <td>1</td>\n",
       "      <td>0</td>\n",
       "      <td>0</td>\n",
       "    </tr>\n",
       "    <tr>\n",
       "      <th>2</th>\n",
       "      <td>2020-02-01</td>\n",
       "      <td>2</td>\n",
       "      <td>0</td>\n",
       "      <td>0</td>\n",
       "    </tr>\n",
       "    <tr>\n",
       "      <th>3</th>\n",
       "      <td>2020-02-02</td>\n",
       "      <td>3</td>\n",
       "      <td>0</td>\n",
       "      <td>0</td>\n",
       "    </tr>\n",
       "    <tr>\n",
       "      <th>4</th>\n",
       "      <td>2020-02-03</td>\n",
       "      <td>3</td>\n",
       "      <td>0</td>\n",
       "      <td>0</td>\n",
       "    </tr>\n",
       "    <tr>\n",
       "      <th>5</th>\n",
       "      <td>2020-02-04</td>\n",
       "      <td>3</td>\n",
       "      <td>0</td>\n",
       "      <td>0</td>\n",
       "    </tr>\n",
       "    <tr>\n",
       "      <th>6</th>\n",
       "      <td>2020-02-05</td>\n",
       "      <td>3</td>\n",
       "      <td>0</td>\n",
       "      <td>0</td>\n",
       "    </tr>\n",
       "    <tr>\n",
       "      <th>7</th>\n",
       "      <td>2020-02-06</td>\n",
       "      <td>3</td>\n",
       "      <td>0</td>\n",
       "      <td>0</td>\n",
       "    </tr>\n",
       "    <tr>\n",
       "      <th>8</th>\n",
       "      <td>2020-02-07</td>\n",
       "      <td>3</td>\n",
       "      <td>0</td>\n",
       "      <td>0</td>\n",
       "    </tr>\n",
       "    <tr>\n",
       "      <th>9</th>\n",
       "      <td>2020-02-08</td>\n",
       "      <td>3</td>\n",
       "      <td>0</td>\n",
       "      <td>0</td>\n",
       "    </tr>\n",
       "    <tr>\n",
       "      <th>10</th>\n",
       "      <td>2020-02-09</td>\n",
       "      <td>3</td>\n",
       "      <td>0</td>\n",
       "      <td>0</td>\n",
       "    </tr>\n",
       "    <tr>\n",
       "      <th>11</th>\n",
       "      <td>2020-02-10</td>\n",
       "      <td>3</td>\n",
       "      <td>0</td>\n",
       "      <td>0</td>\n",
       "    </tr>\n",
       "    <tr>\n",
       "      <th>12</th>\n",
       "      <td>2020-02-11</td>\n",
       "      <td>3</td>\n",
       "      <td>0</td>\n",
       "      <td>0</td>\n",
       "    </tr>\n",
       "    <tr>\n",
       "      <th>13</th>\n",
       "      <td>2020-02-12</td>\n",
       "      <td>3</td>\n",
       "      <td>0</td>\n",
       "      <td>0</td>\n",
       "    </tr>\n",
       "    <tr>\n",
       "      <th>14</th>\n",
       "      <td>2020-02-13</td>\n",
       "      <td>3</td>\n",
       "      <td>0</td>\n",
       "      <td>0</td>\n",
       "    </tr>\n",
       "    <tr>\n",
       "      <th>15</th>\n",
       "      <td>2020-02-14</td>\n",
       "      <td>3</td>\n",
       "      <td>0</td>\n",
       "      <td>0</td>\n",
       "    </tr>\n",
       "    <tr>\n",
       "      <th>16</th>\n",
       "      <td>2020-02-15</td>\n",
       "      <td>3</td>\n",
       "      <td>0</td>\n",
       "      <td>0</td>\n",
       "    </tr>\n",
       "    <tr>\n",
       "      <th>17</th>\n",
       "      <td>2020-02-16</td>\n",
       "      <td>3</td>\n",
       "      <td>0</td>\n",
       "      <td>0</td>\n",
       "    </tr>\n",
       "    <tr>\n",
       "      <th>18</th>\n",
       "      <td>2020-02-17</td>\n",
       "      <td>3</td>\n",
       "      <td>0</td>\n",
       "      <td>0</td>\n",
       "    </tr>\n",
       "    <tr>\n",
       "      <th>19</th>\n",
       "      <td>2020-02-18</td>\n",
       "      <td>3</td>\n",
       "      <td>0</td>\n",
       "      <td>0</td>\n",
       "    </tr>\n",
       "    <tr>\n",
       "      <th>20</th>\n",
       "      <td>2020-02-19</td>\n",
       "      <td>3</td>\n",
       "      <td>0</td>\n",
       "      <td>0</td>\n",
       "    </tr>\n",
       "    <tr>\n",
       "      <th>21</th>\n",
       "      <td>2020-02-20</td>\n",
       "      <td>3</td>\n",
       "      <td>0</td>\n",
       "      <td>0</td>\n",
       "    </tr>\n",
       "    <tr>\n",
       "      <th>22</th>\n",
       "      <td>2020-02-21</td>\n",
       "      <td>3</td>\n",
       "      <td>0</td>\n",
       "      <td>0</td>\n",
       "    </tr>\n",
       "    <tr>\n",
       "      <th>23</th>\n",
       "      <td>2020-02-22</td>\n",
       "      <td>3</td>\n",
       "      <td>0</td>\n",
       "      <td>0</td>\n",
       "    </tr>\n",
       "    <tr>\n",
       "      <th>24</th>\n",
       "      <td>2020-02-23</td>\n",
       "      <td>3</td>\n",
       "      <td>0</td>\n",
       "      <td>0</td>\n",
       "    </tr>\n",
       "    <tr>\n",
       "      <th>25</th>\n",
       "      <td>2020-02-24</td>\n",
       "      <td>3</td>\n",
       "      <td>0</td>\n",
       "      <td>0</td>\n",
       "    </tr>\n",
       "    <tr>\n",
       "      <th>26</th>\n",
       "      <td>2020-02-25</td>\n",
       "      <td>3</td>\n",
       "      <td>0</td>\n",
       "      <td>0</td>\n",
       "    </tr>\n",
       "    <tr>\n",
       "      <th>27</th>\n",
       "      <td>2020-02-26</td>\n",
       "      <td>3</td>\n",
       "      <td>0</td>\n",
       "      <td>0</td>\n",
       "    </tr>\n",
       "    <tr>\n",
       "      <th>28</th>\n",
       "      <td>2020-02-27</td>\n",
       "      <td>3</td>\n",
       "      <td>0</td>\n",
       "      <td>0</td>\n",
       "    </tr>\n",
       "    <tr>\n",
       "      <th>29</th>\n",
       "      <td>2020-02-28</td>\n",
       "      <td>3</td>\n",
       "      <td>0</td>\n",
       "      <td>0</td>\n",
       "    </tr>\n",
       "    <tr>\n",
       "      <th>30</th>\n",
       "      <td>2020-02-29</td>\n",
       "      <td>3</td>\n",
       "      <td>0</td>\n",
       "      <td>0</td>\n",
       "    </tr>\n",
       "    <tr>\n",
       "      <th>31</th>\n",
       "      <td>2020-03-01</td>\n",
       "      <td>3</td>\n",
       "      <td>0</td>\n",
       "      <td>0</td>\n",
       "    </tr>\n",
       "    <tr>\n",
       "      <th>32</th>\n",
       "      <td>2020-03-02</td>\n",
       "      <td>5</td>\n",
       "      <td>0</td>\n",
       "      <td>0</td>\n",
       "    </tr>\n",
       "    <tr>\n",
       "      <th>33</th>\n",
       "      <td>2020-03-03</td>\n",
       "      <td>6</td>\n",
       "      <td>0</td>\n",
       "      <td>3</td>\n",
       "    </tr>\n",
       "    <tr>\n",
       "      <th>34</th>\n",
       "      <td>2020-03-04</td>\n",
       "      <td>28</td>\n",
       "      <td>0</td>\n",
       "      <td>3</td>\n",
       "    </tr>\n",
       "    <tr>\n",
       "      <th>35</th>\n",
       "      <td>2020-03-05</td>\n",
       "      <td>30</td>\n",
       "      <td>0</td>\n",
       "      <td>3</td>\n",
       "    </tr>\n",
       "    <tr>\n",
       "      <th>36</th>\n",
       "      <td>2020-03-06</td>\n",
       "      <td>31</td>\n",
       "      <td>0</td>\n",
       "      <td>3</td>\n",
       "    </tr>\n",
       "    <tr>\n",
       "      <th>37</th>\n",
       "      <td>2020-03-07</td>\n",
       "      <td>34</td>\n",
       "      <td>0</td>\n",
       "      <td>3</td>\n",
       "    </tr>\n",
       "    <tr>\n",
       "      <th>38</th>\n",
       "      <td>2020-03-08</td>\n",
       "      <td>39</td>\n",
       "      <td>0</td>\n",
       "      <td>3</td>\n",
       "    </tr>\n",
       "    <tr>\n",
       "      <th>39</th>\n",
       "      <td>2020-03-09</td>\n",
       "      <td>46</td>\n",
       "      <td>0</td>\n",
       "      <td>3</td>\n",
       "    </tr>\n",
       "    <tr>\n",
       "      <th>40</th>\n",
       "      <td>2020-03-10</td>\n",
       "      <td>58</td>\n",
       "      <td>0</td>\n",
       "      <td>3</td>\n",
       "    </tr>\n",
       "    <tr>\n",
       "      <th>41</th>\n",
       "      <td>2020-03-11</td>\n",
       "      <td>60</td>\n",
       "      <td>0</td>\n",
       "      <td>3</td>\n",
       "    </tr>\n",
       "    <tr>\n",
       "      <th>42</th>\n",
       "      <td>2020-03-12</td>\n",
       "      <td>74</td>\n",
       "      <td>0</td>\n",
       "      <td>3</td>\n",
       "    </tr>\n",
       "    <tr>\n",
       "      <th>43</th>\n",
       "      <td>2020-03-13</td>\n",
       "      <td>81</td>\n",
       "      <td>1</td>\n",
       "      <td>3</td>\n",
       "    </tr>\n",
       "    <tr>\n",
       "      <th>44</th>\n",
       "      <td>2020-03-14</td>\n",
       "      <td>84</td>\n",
       "      <td>2</td>\n",
       "      <td>10</td>\n",
       "    </tr>\n",
       "    <tr>\n",
       "      <th>45</th>\n",
       "      <td>2020-03-15</td>\n",
       "      <td>110</td>\n",
       "      <td>2</td>\n",
       "      <td>13</td>\n",
       "    </tr>\n",
       "    <tr>\n",
       "      <th>46</th>\n",
       "      <td>2020-03-16</td>\n",
       "      <td>114</td>\n",
       "      <td>2</td>\n",
       "      <td>13</td>\n",
       "    </tr>\n",
       "    <tr>\n",
       "      <th>47</th>\n",
       "      <td>2020-03-17</td>\n",
       "      <td>137</td>\n",
       "      <td>3</td>\n",
       "      <td>14</td>\n",
       "    </tr>\n",
       "    <tr>\n",
       "      <th>48</th>\n",
       "      <td>2020-03-18</td>\n",
       "      <td>151</td>\n",
       "      <td>3</td>\n",
       "      <td>14</td>\n",
       "    </tr>\n",
       "    <tr>\n",
       "      <th>49</th>\n",
       "      <td>2020-03-19</td>\n",
       "      <td>173</td>\n",
       "      <td>4</td>\n",
       "      <td>20</td>\n",
       "    </tr>\n",
       "    <tr>\n",
       "      <th>50</th>\n",
       "      <td>2020-03-20</td>\n",
       "      <td>223</td>\n",
       "      <td>4</td>\n",
       "      <td>23</td>\n",
       "    </tr>\n",
       "    <tr>\n",
       "      <th>51</th>\n",
       "      <td>2020-03-21</td>\n",
       "      <td>283</td>\n",
       "      <td>4</td>\n",
       "      <td>23</td>\n",
       "    </tr>\n",
       "    <tr>\n",
       "      <th>52</th>\n",
       "      <td>2020-03-22</td>\n",
       "      <td>360</td>\n",
       "      <td>7</td>\n",
       "      <td>24</td>\n",
       "    </tr>\n",
       "  </tbody>\n",
       "</table>\n",
       "</div>"
      ],
      "text/plain": [
       "         Date  Confirmed  Deaths  Recovered\n",
       "0  2020-01-30          1       0          0\n",
       "1  2020-01-31          1       0          0\n",
       "2  2020-02-01          2       0          0\n",
       "3  2020-02-02          3       0          0\n",
       "4  2020-02-03          3       0          0\n",
       "5  2020-02-04          3       0          0\n",
       "6  2020-02-05          3       0          0\n",
       "7  2020-02-06          3       0          0\n",
       "8  2020-02-07          3       0          0\n",
       "9  2020-02-08          3       0          0\n",
       "10 2020-02-09          3       0          0\n",
       "11 2020-02-10          3       0          0\n",
       "12 2020-02-11          3       0          0\n",
       "13 2020-02-12          3       0          0\n",
       "14 2020-02-13          3       0          0\n",
       "15 2020-02-14          3       0          0\n",
       "16 2020-02-15          3       0          0\n",
       "17 2020-02-16          3       0          0\n",
       "18 2020-02-17          3       0          0\n",
       "19 2020-02-18          3       0          0\n",
       "20 2020-02-19          3       0          0\n",
       "21 2020-02-20          3       0          0\n",
       "22 2020-02-21          3       0          0\n",
       "23 2020-02-22          3       0          0\n",
       "24 2020-02-23          3       0          0\n",
       "25 2020-02-24          3       0          0\n",
       "26 2020-02-25          3       0          0\n",
       "27 2020-02-26          3       0          0\n",
       "28 2020-02-27          3       0          0\n",
       "29 2020-02-28          3       0          0\n",
       "30 2020-02-29          3       0          0\n",
       "31 2020-03-01          3       0          0\n",
       "32 2020-03-02          5       0          0\n",
       "33 2020-03-03          6       0          3\n",
       "34 2020-03-04         28       0          3\n",
       "35 2020-03-05         30       0          3\n",
       "36 2020-03-06         31       0          3\n",
       "37 2020-03-07         34       0          3\n",
       "38 2020-03-08         39       0          3\n",
       "39 2020-03-09         46       0          3\n",
       "40 2020-03-10         58       0          3\n",
       "41 2020-03-11         60       0          3\n",
       "42 2020-03-12         74       0          3\n",
       "43 2020-03-13         81       1          3\n",
       "44 2020-03-14         84       2         10\n",
       "45 2020-03-15        110       2         13\n",
       "46 2020-03-16        114       2         13\n",
       "47 2020-03-17        137       3         14\n",
       "48 2020-03-18        151       3         14\n",
       "49 2020-03-19        173       4         20\n",
       "50 2020-03-20        223       4         23\n",
       "51 2020-03-21        283       4         23\n",
       "52 2020-03-22        360       7         24"
      ]
     },
     "execution_count": 9,
     "metadata": {},
     "output_type": "execute_result"
    }
   ],
   "source": [
    "date_wise_data = date_wise_data.groupby([\"Date\"]).sum().reset_index()\n",
    "\n",
    "formatted_text('***Day wise distribution (WorldWide) for Confirmed, Deaths and Recovered Cases***')\n",
    "date_wise_data"
   ]
  },
  {
   "cell_type": "code",
   "execution_count": 10,
   "metadata": {},
   "outputs": [
    {
     "data": {
      "application/vnd.plotly.v1+json": {
       "config": {
        "plotlyServerURL": "https://plot.ly"
       },
       "data": [
        {
         "hoverlabel": {
          "namelength": 0
         },
         "hovertemplate": "Case=Recovered<br>Date=%{x}<br>Count=%{y}",
         "legendgroup": "Recovered",
         "line": {
          "color": "#21bf73"
         },
         "mode": "lines",
         "name": "Recovered",
         "orientation": "v",
         "showlegend": true,
         "stackgroup": "1",
         "type": "scatter",
         "x": [
          "2020-01-30T00:00:00",
          "2020-01-31T00:00:00",
          "2020-02-01T00:00:00",
          "2020-02-02T00:00:00",
          "2020-02-03T00:00:00",
          "2020-02-04T00:00:00",
          "2020-02-05T00:00:00",
          "2020-02-06T00:00:00",
          "2020-02-07T00:00:00",
          "2020-02-08T00:00:00",
          "2020-02-09T00:00:00",
          "2020-02-10T00:00:00",
          "2020-02-11T00:00:00",
          "2020-02-12T00:00:00",
          "2020-02-13T00:00:00",
          "2020-02-14T00:00:00",
          "2020-02-15T00:00:00",
          "2020-02-16T00:00:00",
          "2020-02-17T00:00:00",
          "2020-02-18T00:00:00",
          "2020-02-19T00:00:00",
          "2020-02-20T00:00:00",
          "2020-02-21T00:00:00",
          "2020-02-22T00:00:00",
          "2020-02-23T00:00:00",
          "2020-02-24T00:00:00",
          "2020-02-25T00:00:00",
          "2020-02-26T00:00:00",
          "2020-02-27T00:00:00",
          "2020-02-28T00:00:00",
          "2020-02-29T00:00:00",
          "2020-03-01T00:00:00",
          "2020-03-02T00:00:00",
          "2020-03-03T00:00:00",
          "2020-03-04T00:00:00",
          "2020-03-05T00:00:00",
          "2020-03-06T00:00:00",
          "2020-03-07T00:00:00",
          "2020-03-08T00:00:00",
          "2020-03-09T00:00:00",
          "2020-03-10T00:00:00",
          "2020-03-11T00:00:00",
          "2020-03-12T00:00:00",
          "2020-03-13T00:00:00",
          "2020-03-14T00:00:00",
          "2020-03-15T00:00:00",
          "2020-03-16T00:00:00",
          "2020-03-17T00:00:00",
          "2020-03-18T00:00:00",
          "2020-03-19T00:00:00",
          "2020-03-20T00:00:00",
          "2020-03-21T00:00:00",
          "2020-03-22T00:00:00"
         ],
         "xaxis": "x",
         "y": [
          0,
          0,
          0,
          0,
          0,
          0,
          0,
          0,
          0,
          0,
          0,
          0,
          0,
          0,
          0,
          0,
          0,
          0,
          0,
          0,
          0,
          0,
          0,
          0,
          0,
          0,
          0,
          0,
          0,
          0,
          0,
          0,
          0,
          3,
          3,
          3,
          3,
          3,
          3,
          3,
          3,
          3,
          3,
          3,
          10,
          13,
          13,
          14,
          14,
          20,
          23,
          23,
          24
         ],
         "yaxis": "y"
        },
        {
         "hoverlabel": {
          "namelength": 0
         },
         "hovertemplate": "Case=Deaths<br>Date=%{x}<br>Count=%{y}",
         "legendgroup": "Deaths",
         "line": {
          "color": "#ff2e63"
         },
         "mode": "lines",
         "name": "Deaths",
         "orientation": "v",
         "showlegend": true,
         "stackgroup": "1",
         "type": "scatter",
         "x": [
          "2020-01-30T00:00:00",
          "2020-01-31T00:00:00",
          "2020-02-01T00:00:00",
          "2020-02-02T00:00:00",
          "2020-02-03T00:00:00",
          "2020-02-04T00:00:00",
          "2020-02-05T00:00:00",
          "2020-02-06T00:00:00",
          "2020-02-07T00:00:00",
          "2020-02-08T00:00:00",
          "2020-02-09T00:00:00",
          "2020-02-10T00:00:00",
          "2020-02-11T00:00:00",
          "2020-02-12T00:00:00",
          "2020-02-13T00:00:00",
          "2020-02-14T00:00:00",
          "2020-02-15T00:00:00",
          "2020-02-16T00:00:00",
          "2020-02-17T00:00:00",
          "2020-02-18T00:00:00",
          "2020-02-19T00:00:00",
          "2020-02-20T00:00:00",
          "2020-02-21T00:00:00",
          "2020-02-22T00:00:00",
          "2020-02-23T00:00:00",
          "2020-02-24T00:00:00",
          "2020-02-25T00:00:00",
          "2020-02-26T00:00:00",
          "2020-02-27T00:00:00",
          "2020-02-28T00:00:00",
          "2020-02-29T00:00:00",
          "2020-03-01T00:00:00",
          "2020-03-02T00:00:00",
          "2020-03-03T00:00:00",
          "2020-03-04T00:00:00",
          "2020-03-05T00:00:00",
          "2020-03-06T00:00:00",
          "2020-03-07T00:00:00",
          "2020-03-08T00:00:00",
          "2020-03-09T00:00:00",
          "2020-03-10T00:00:00",
          "2020-03-11T00:00:00",
          "2020-03-12T00:00:00",
          "2020-03-13T00:00:00",
          "2020-03-14T00:00:00",
          "2020-03-15T00:00:00",
          "2020-03-16T00:00:00",
          "2020-03-17T00:00:00",
          "2020-03-18T00:00:00",
          "2020-03-19T00:00:00",
          "2020-03-20T00:00:00",
          "2020-03-21T00:00:00",
          "2020-03-22T00:00:00"
         ],
         "xaxis": "x",
         "y": [
          0,
          0,
          0,
          0,
          0,
          0,
          0,
          0,
          0,
          0,
          0,
          0,
          0,
          0,
          0,
          0,
          0,
          0,
          0,
          0,
          0,
          0,
          0,
          0,
          0,
          0,
          0,
          0,
          0,
          0,
          0,
          0,
          0,
          0,
          0,
          0,
          0,
          0,
          0,
          0,
          0,
          0,
          0,
          1,
          2,
          2,
          2,
          3,
          3,
          4,
          4,
          4,
          7
         ],
         "yaxis": "y"
        },
        {
         "hoverlabel": {
          "namelength": 0
         },
         "hovertemplate": "Case=Confirmed<br>Date=%{x}<br>Count=%{y}",
         "legendgroup": "Confirmed",
         "line": {
          "color": "#fe9801"
         },
         "mode": "lines",
         "name": "Confirmed",
         "orientation": "v",
         "showlegend": true,
         "stackgroup": "1",
         "type": "scatter",
         "x": [
          "2020-01-30T00:00:00",
          "2020-01-31T00:00:00",
          "2020-02-01T00:00:00",
          "2020-02-02T00:00:00",
          "2020-02-03T00:00:00",
          "2020-02-04T00:00:00",
          "2020-02-05T00:00:00",
          "2020-02-06T00:00:00",
          "2020-02-07T00:00:00",
          "2020-02-08T00:00:00",
          "2020-02-09T00:00:00",
          "2020-02-10T00:00:00",
          "2020-02-11T00:00:00",
          "2020-02-12T00:00:00",
          "2020-02-13T00:00:00",
          "2020-02-14T00:00:00",
          "2020-02-15T00:00:00",
          "2020-02-16T00:00:00",
          "2020-02-17T00:00:00",
          "2020-02-18T00:00:00",
          "2020-02-19T00:00:00",
          "2020-02-20T00:00:00",
          "2020-02-21T00:00:00",
          "2020-02-22T00:00:00",
          "2020-02-23T00:00:00",
          "2020-02-24T00:00:00",
          "2020-02-25T00:00:00",
          "2020-02-26T00:00:00",
          "2020-02-27T00:00:00",
          "2020-02-28T00:00:00",
          "2020-02-29T00:00:00",
          "2020-03-01T00:00:00",
          "2020-03-02T00:00:00",
          "2020-03-03T00:00:00",
          "2020-03-04T00:00:00",
          "2020-03-05T00:00:00",
          "2020-03-06T00:00:00",
          "2020-03-07T00:00:00",
          "2020-03-08T00:00:00",
          "2020-03-09T00:00:00",
          "2020-03-10T00:00:00",
          "2020-03-11T00:00:00",
          "2020-03-12T00:00:00",
          "2020-03-13T00:00:00",
          "2020-03-14T00:00:00",
          "2020-03-15T00:00:00",
          "2020-03-16T00:00:00",
          "2020-03-17T00:00:00",
          "2020-03-18T00:00:00",
          "2020-03-19T00:00:00",
          "2020-03-20T00:00:00",
          "2020-03-21T00:00:00",
          "2020-03-22T00:00:00"
         ],
         "xaxis": "x",
         "y": [
          1,
          1,
          2,
          3,
          3,
          3,
          3,
          3,
          3,
          3,
          3,
          3,
          3,
          3,
          3,
          3,
          3,
          3,
          3,
          3,
          3,
          3,
          3,
          3,
          3,
          3,
          3,
          3,
          3,
          3,
          3,
          3,
          5,
          6,
          28,
          30,
          31,
          34,
          39,
          46,
          58,
          60,
          74,
          81,
          84,
          110,
          114,
          137,
          151,
          173,
          223,
          283,
          360
         ],
         "yaxis": "y"
        }
       ],
       "layout": {
        "legend": {
         "title": {
          "text": "Case"
         },
         "tracegroupgap": 0
        },
        "template": {
         "data": {
          "bar": [
           {
            "error_x": {
             "color": "#2a3f5f"
            },
            "error_y": {
             "color": "#2a3f5f"
            },
            "marker": {
             "line": {
              "color": "#E5ECF6",
              "width": 0.5
             }
            },
            "type": "bar"
           }
          ],
          "barpolar": [
           {
            "marker": {
             "line": {
              "color": "#E5ECF6",
              "width": 0.5
             }
            },
            "type": "barpolar"
           }
          ],
          "carpet": [
           {
            "aaxis": {
             "endlinecolor": "#2a3f5f",
             "gridcolor": "white",
             "linecolor": "white",
             "minorgridcolor": "white",
             "startlinecolor": "#2a3f5f"
            },
            "baxis": {
             "endlinecolor": "#2a3f5f",
             "gridcolor": "white",
             "linecolor": "white",
             "minorgridcolor": "white",
             "startlinecolor": "#2a3f5f"
            },
            "type": "carpet"
           }
          ],
          "choropleth": [
           {
            "colorbar": {
             "outlinewidth": 0,
             "ticks": ""
            },
            "type": "choropleth"
           }
          ],
          "contour": [
           {
            "colorbar": {
             "outlinewidth": 0,
             "ticks": ""
            },
            "colorscale": [
             [
              0.0,
              "#0d0887"
             ],
             [
              0.1111111111111111,
              "#46039f"
             ],
             [
              0.2222222222222222,
              "#7201a8"
             ],
             [
              0.3333333333333333,
              "#9c179e"
             ],
             [
              0.4444444444444444,
              "#bd3786"
             ],
             [
              0.5555555555555556,
              "#d8576b"
             ],
             [
              0.6666666666666666,
              "#ed7953"
             ],
             [
              0.7777777777777778,
              "#fb9f3a"
             ],
             [
              0.8888888888888888,
              "#fdca26"
             ],
             [
              1.0,
              "#f0f921"
             ]
            ],
            "type": "contour"
           }
          ],
          "contourcarpet": [
           {
            "colorbar": {
             "outlinewidth": 0,
             "ticks": ""
            },
            "type": "contourcarpet"
           }
          ],
          "heatmap": [
           {
            "colorbar": {
             "outlinewidth": 0,
             "ticks": ""
            },
            "colorscale": [
             [
              0.0,
              "#0d0887"
             ],
             [
              0.1111111111111111,
              "#46039f"
             ],
             [
              0.2222222222222222,
              "#7201a8"
             ],
             [
              0.3333333333333333,
              "#9c179e"
             ],
             [
              0.4444444444444444,
              "#bd3786"
             ],
             [
              0.5555555555555556,
              "#d8576b"
             ],
             [
              0.6666666666666666,
              "#ed7953"
             ],
             [
              0.7777777777777778,
              "#fb9f3a"
             ],
             [
              0.8888888888888888,
              "#fdca26"
             ],
             [
              1.0,
              "#f0f921"
             ]
            ],
            "type": "heatmap"
           }
          ],
          "heatmapgl": [
           {
            "colorbar": {
             "outlinewidth": 0,
             "ticks": ""
            },
            "colorscale": [
             [
              0.0,
              "#0d0887"
             ],
             [
              0.1111111111111111,
              "#46039f"
             ],
             [
              0.2222222222222222,
              "#7201a8"
             ],
             [
              0.3333333333333333,
              "#9c179e"
             ],
             [
              0.4444444444444444,
              "#bd3786"
             ],
             [
              0.5555555555555556,
              "#d8576b"
             ],
             [
              0.6666666666666666,
              "#ed7953"
             ],
             [
              0.7777777777777778,
              "#fb9f3a"
             ],
             [
              0.8888888888888888,
              "#fdca26"
             ],
             [
              1.0,
              "#f0f921"
             ]
            ],
            "type": "heatmapgl"
           }
          ],
          "histogram": [
           {
            "marker": {
             "colorbar": {
              "outlinewidth": 0,
              "ticks": ""
             }
            },
            "type": "histogram"
           }
          ],
          "histogram2d": [
           {
            "colorbar": {
             "outlinewidth": 0,
             "ticks": ""
            },
            "colorscale": [
             [
              0.0,
              "#0d0887"
             ],
             [
              0.1111111111111111,
              "#46039f"
             ],
             [
              0.2222222222222222,
              "#7201a8"
             ],
             [
              0.3333333333333333,
              "#9c179e"
             ],
             [
              0.4444444444444444,
              "#bd3786"
             ],
             [
              0.5555555555555556,
              "#d8576b"
             ],
             [
              0.6666666666666666,
              "#ed7953"
             ],
             [
              0.7777777777777778,
              "#fb9f3a"
             ],
             [
              0.8888888888888888,
              "#fdca26"
             ],
             [
              1.0,
              "#f0f921"
             ]
            ],
            "type": "histogram2d"
           }
          ],
          "histogram2dcontour": [
           {
            "colorbar": {
             "outlinewidth": 0,
             "ticks": ""
            },
            "colorscale": [
             [
              0.0,
              "#0d0887"
             ],
             [
              0.1111111111111111,
              "#46039f"
             ],
             [
              0.2222222222222222,
              "#7201a8"
             ],
             [
              0.3333333333333333,
              "#9c179e"
             ],
             [
              0.4444444444444444,
              "#bd3786"
             ],
             [
              0.5555555555555556,
              "#d8576b"
             ],
             [
              0.6666666666666666,
              "#ed7953"
             ],
             [
              0.7777777777777778,
              "#fb9f3a"
             ],
             [
              0.8888888888888888,
              "#fdca26"
             ],
             [
              1.0,
              "#f0f921"
             ]
            ],
            "type": "histogram2dcontour"
           }
          ],
          "mesh3d": [
           {
            "colorbar": {
             "outlinewidth": 0,
             "ticks": ""
            },
            "type": "mesh3d"
           }
          ],
          "parcoords": [
           {
            "line": {
             "colorbar": {
              "outlinewidth": 0,
              "ticks": ""
             }
            },
            "type": "parcoords"
           }
          ],
          "pie": [
           {
            "automargin": true,
            "type": "pie"
           }
          ],
          "scatter": [
           {
            "marker": {
             "colorbar": {
              "outlinewidth": 0,
              "ticks": ""
             }
            },
            "type": "scatter"
           }
          ],
          "scatter3d": [
           {
            "line": {
             "colorbar": {
              "outlinewidth": 0,
              "ticks": ""
             }
            },
            "marker": {
             "colorbar": {
              "outlinewidth": 0,
              "ticks": ""
             }
            },
            "type": "scatter3d"
           }
          ],
          "scattercarpet": [
           {
            "marker": {
             "colorbar": {
              "outlinewidth": 0,
              "ticks": ""
             }
            },
            "type": "scattercarpet"
           }
          ],
          "scattergeo": [
           {
            "marker": {
             "colorbar": {
              "outlinewidth": 0,
              "ticks": ""
             }
            },
            "type": "scattergeo"
           }
          ],
          "scattergl": [
           {
            "marker": {
             "colorbar": {
              "outlinewidth": 0,
              "ticks": ""
             }
            },
            "type": "scattergl"
           }
          ],
          "scattermapbox": [
           {
            "marker": {
             "colorbar": {
              "outlinewidth": 0,
              "ticks": ""
             }
            },
            "type": "scattermapbox"
           }
          ],
          "scatterpolar": [
           {
            "marker": {
             "colorbar": {
              "outlinewidth": 0,
              "ticks": ""
             }
            },
            "type": "scatterpolar"
           }
          ],
          "scatterpolargl": [
           {
            "marker": {
             "colorbar": {
              "outlinewidth": 0,
              "ticks": ""
             }
            },
            "type": "scatterpolargl"
           }
          ],
          "scatterternary": [
           {
            "marker": {
             "colorbar": {
              "outlinewidth": 0,
              "ticks": ""
             }
            },
            "type": "scatterternary"
           }
          ],
          "surface": [
           {
            "colorbar": {
             "outlinewidth": 0,
             "ticks": ""
            },
            "colorscale": [
             [
              0.0,
              "#0d0887"
             ],
             [
              0.1111111111111111,
              "#46039f"
             ],
             [
              0.2222222222222222,
              "#7201a8"
             ],
             [
              0.3333333333333333,
              "#9c179e"
             ],
             [
              0.4444444444444444,
              "#bd3786"
             ],
             [
              0.5555555555555556,
              "#d8576b"
             ],
             [
              0.6666666666666666,
              "#ed7953"
             ],
             [
              0.7777777777777778,
              "#fb9f3a"
             ],
             [
              0.8888888888888888,
              "#fdca26"
             ],
             [
              1.0,
              "#f0f921"
             ]
            ],
            "type": "surface"
           }
          ],
          "table": [
           {
            "cells": {
             "fill": {
              "color": "#EBF0F8"
             },
             "line": {
              "color": "white"
             }
            },
            "header": {
             "fill": {
              "color": "#C8D4E3"
             },
             "line": {
              "color": "white"
             }
            },
            "type": "table"
           }
          ]
         },
         "layout": {
          "annotationdefaults": {
           "arrowcolor": "#2a3f5f",
           "arrowhead": 0,
           "arrowwidth": 1
          },
          "coloraxis": {
           "colorbar": {
            "outlinewidth": 0,
            "ticks": ""
           }
          },
          "colorscale": {
           "diverging": [
            [
             0,
             "#8e0152"
            ],
            [
             0.1,
             "#c51b7d"
            ],
            [
             0.2,
             "#de77ae"
            ],
            [
             0.3,
             "#f1b6da"
            ],
            [
             0.4,
             "#fde0ef"
            ],
            [
             0.5,
             "#f7f7f7"
            ],
            [
             0.6,
             "#e6f5d0"
            ],
            [
             0.7,
             "#b8e186"
            ],
            [
             0.8,
             "#7fbc41"
            ],
            [
             0.9,
             "#4d9221"
            ],
            [
             1,
             "#276419"
            ]
           ],
           "sequential": [
            [
             0.0,
             "#0d0887"
            ],
            [
             0.1111111111111111,
             "#46039f"
            ],
            [
             0.2222222222222222,
             "#7201a8"
            ],
            [
             0.3333333333333333,
             "#9c179e"
            ],
            [
             0.4444444444444444,
             "#bd3786"
            ],
            [
             0.5555555555555556,
             "#d8576b"
            ],
            [
             0.6666666666666666,
             "#ed7953"
            ],
            [
             0.7777777777777778,
             "#fb9f3a"
            ],
            [
             0.8888888888888888,
             "#fdca26"
            ],
            [
             1.0,
             "#f0f921"
            ]
           ],
           "sequentialminus": [
            [
             0.0,
             "#0d0887"
            ],
            [
             0.1111111111111111,
             "#46039f"
            ],
            [
             0.2222222222222222,
             "#7201a8"
            ],
            [
             0.3333333333333333,
             "#9c179e"
            ],
            [
             0.4444444444444444,
             "#bd3786"
            ],
            [
             0.5555555555555556,
             "#d8576b"
            ],
            [
             0.6666666666666666,
             "#ed7953"
            ],
            [
             0.7777777777777778,
             "#fb9f3a"
            ],
            [
             0.8888888888888888,
             "#fdca26"
            ],
            [
             1.0,
             "#f0f921"
            ]
           ]
          },
          "colorway": [
           "#636efa",
           "#EF553B",
           "#00cc96",
           "#ab63fa",
           "#FFA15A",
           "#19d3f3",
           "#FF6692",
           "#B6E880",
           "#FF97FF",
           "#FECB52"
          ],
          "font": {
           "color": "#2a3f5f"
          },
          "geo": {
           "bgcolor": "white",
           "lakecolor": "white",
           "landcolor": "#E5ECF6",
           "showlakes": true,
           "showland": true,
           "subunitcolor": "white"
          },
          "hoverlabel": {
           "align": "left"
          },
          "hovermode": "closest",
          "mapbox": {
           "style": "light"
          },
          "paper_bgcolor": "white",
          "plot_bgcolor": "#E5ECF6",
          "polar": {
           "angularaxis": {
            "gridcolor": "white",
            "linecolor": "white",
            "ticks": ""
           },
           "bgcolor": "#E5ECF6",
           "radialaxis": {
            "gridcolor": "white",
            "linecolor": "white",
            "ticks": ""
           }
          },
          "scene": {
           "xaxis": {
            "backgroundcolor": "#E5ECF6",
            "gridcolor": "white",
            "gridwidth": 2,
            "linecolor": "white",
            "showbackground": true,
            "ticks": "",
            "zerolinecolor": "white"
           },
           "yaxis": {
            "backgroundcolor": "#E5ECF6",
            "gridcolor": "white",
            "gridwidth": 2,
            "linecolor": "white",
            "showbackground": true,
            "ticks": "",
            "zerolinecolor": "white"
           },
           "zaxis": {
            "backgroundcolor": "#E5ECF6",
            "gridcolor": "white",
            "gridwidth": 2,
            "linecolor": "white",
            "showbackground": true,
            "ticks": "",
            "zerolinecolor": "white"
           }
          },
          "shapedefaults": {
           "line": {
            "color": "#2a3f5f"
           }
          },
          "ternary": {
           "aaxis": {
            "gridcolor": "white",
            "linecolor": "white",
            "ticks": ""
           },
           "baxis": {
            "gridcolor": "white",
            "linecolor": "white",
            "ticks": ""
           },
           "bgcolor": "#E5ECF6",
           "caxis": {
            "gridcolor": "white",
            "linecolor": "white",
            "ticks": ""
           }
          },
          "title": {
           "x": 0.05
          },
          "xaxis": {
           "automargin": true,
           "gridcolor": "white",
           "linecolor": "white",
           "ticks": "",
           "title": {
            "standoff": 15
           },
           "zerolinecolor": "white",
           "zerolinewidth": 2
          },
          "yaxis": {
           "automargin": true,
           "gridcolor": "white",
           "linecolor": "white",
           "ticks": "",
           "title": {
            "standoff": 15
           },
           "zerolinecolor": "white",
           "zerolinewidth": 2
          }
         }
        },
        "title": {
         "text": "Cases over time"
        },
        "xaxis": {
         "anchor": "y",
         "domain": [
          0.0,
          1.0
         ],
         "title": {
          "text": "Date"
         }
        },
        "yaxis": {
         "anchor": "x",
         "domain": [
          0.0,
          1.0
         ],
         "title": {
          "text": "Count"
         }
        }
       }
      },
      "text/html": [
       "<div>\n",
       "        \n",
       "        \n",
       "            <div id=\"e5ac8b75-52ea-46ca-9572-1d67f26c56d0\" class=\"plotly-graph-div\" style=\"height:525px; width:100%;\"></div>\n",
       "            <script type=\"text/javascript\">\n",
       "                require([\"plotly\"], function(Plotly) {\n",
       "                    window.PLOTLYENV=window.PLOTLYENV || {};\n",
       "                    \n",
       "                if (document.getElementById(\"e5ac8b75-52ea-46ca-9572-1d67f26c56d0\")) {\n",
       "                    Plotly.newPlot(\n",
       "                        'e5ac8b75-52ea-46ca-9572-1d67f26c56d0',\n",
       "                        [{\"hoverlabel\": {\"namelength\": 0}, \"hovertemplate\": \"Case=Recovered<br>Date=%{x}<br>Count=%{y}\", \"legendgroup\": \"Recovered\", \"line\": {\"color\": \"#21bf73\"}, \"mode\": \"lines\", \"name\": \"Recovered\", \"orientation\": \"v\", \"showlegend\": true, \"stackgroup\": \"1\", \"type\": \"scatter\", \"x\": [\"2020-01-30T00:00:00\", \"2020-01-31T00:00:00\", \"2020-02-01T00:00:00\", \"2020-02-02T00:00:00\", \"2020-02-03T00:00:00\", \"2020-02-04T00:00:00\", \"2020-02-05T00:00:00\", \"2020-02-06T00:00:00\", \"2020-02-07T00:00:00\", \"2020-02-08T00:00:00\", \"2020-02-09T00:00:00\", \"2020-02-10T00:00:00\", \"2020-02-11T00:00:00\", \"2020-02-12T00:00:00\", \"2020-02-13T00:00:00\", \"2020-02-14T00:00:00\", \"2020-02-15T00:00:00\", \"2020-02-16T00:00:00\", \"2020-02-17T00:00:00\", \"2020-02-18T00:00:00\", \"2020-02-19T00:00:00\", \"2020-02-20T00:00:00\", \"2020-02-21T00:00:00\", \"2020-02-22T00:00:00\", \"2020-02-23T00:00:00\", \"2020-02-24T00:00:00\", \"2020-02-25T00:00:00\", \"2020-02-26T00:00:00\", \"2020-02-27T00:00:00\", \"2020-02-28T00:00:00\", \"2020-02-29T00:00:00\", \"2020-03-01T00:00:00\", \"2020-03-02T00:00:00\", \"2020-03-03T00:00:00\", \"2020-03-04T00:00:00\", \"2020-03-05T00:00:00\", \"2020-03-06T00:00:00\", \"2020-03-07T00:00:00\", \"2020-03-08T00:00:00\", \"2020-03-09T00:00:00\", \"2020-03-10T00:00:00\", \"2020-03-11T00:00:00\", \"2020-03-12T00:00:00\", \"2020-03-13T00:00:00\", \"2020-03-14T00:00:00\", \"2020-03-15T00:00:00\", \"2020-03-16T00:00:00\", \"2020-03-17T00:00:00\", \"2020-03-18T00:00:00\", \"2020-03-19T00:00:00\", \"2020-03-20T00:00:00\", \"2020-03-21T00:00:00\", \"2020-03-22T00:00:00\"], \"xaxis\": \"x\", \"y\": [0, 0, 0, 0, 0, 0, 0, 0, 0, 0, 0, 0, 0, 0, 0, 0, 0, 0, 0, 0, 0, 0, 0, 0, 0, 0, 0, 0, 0, 0, 0, 0, 0, 3, 3, 3, 3, 3, 3, 3, 3, 3, 3, 3, 10, 13, 13, 14, 14, 20, 23, 23, 24], \"yaxis\": \"y\"}, {\"hoverlabel\": {\"namelength\": 0}, \"hovertemplate\": \"Case=Deaths<br>Date=%{x}<br>Count=%{y}\", \"legendgroup\": \"Deaths\", \"line\": {\"color\": \"#ff2e63\"}, \"mode\": \"lines\", \"name\": \"Deaths\", \"orientation\": \"v\", \"showlegend\": true, \"stackgroup\": \"1\", \"type\": \"scatter\", \"x\": [\"2020-01-30T00:00:00\", \"2020-01-31T00:00:00\", \"2020-02-01T00:00:00\", \"2020-02-02T00:00:00\", \"2020-02-03T00:00:00\", \"2020-02-04T00:00:00\", \"2020-02-05T00:00:00\", \"2020-02-06T00:00:00\", \"2020-02-07T00:00:00\", \"2020-02-08T00:00:00\", \"2020-02-09T00:00:00\", \"2020-02-10T00:00:00\", \"2020-02-11T00:00:00\", \"2020-02-12T00:00:00\", \"2020-02-13T00:00:00\", \"2020-02-14T00:00:00\", \"2020-02-15T00:00:00\", \"2020-02-16T00:00:00\", \"2020-02-17T00:00:00\", \"2020-02-18T00:00:00\", \"2020-02-19T00:00:00\", \"2020-02-20T00:00:00\", \"2020-02-21T00:00:00\", \"2020-02-22T00:00:00\", \"2020-02-23T00:00:00\", \"2020-02-24T00:00:00\", \"2020-02-25T00:00:00\", \"2020-02-26T00:00:00\", \"2020-02-27T00:00:00\", \"2020-02-28T00:00:00\", \"2020-02-29T00:00:00\", \"2020-03-01T00:00:00\", \"2020-03-02T00:00:00\", \"2020-03-03T00:00:00\", \"2020-03-04T00:00:00\", \"2020-03-05T00:00:00\", \"2020-03-06T00:00:00\", \"2020-03-07T00:00:00\", \"2020-03-08T00:00:00\", \"2020-03-09T00:00:00\", \"2020-03-10T00:00:00\", \"2020-03-11T00:00:00\", \"2020-03-12T00:00:00\", \"2020-03-13T00:00:00\", \"2020-03-14T00:00:00\", \"2020-03-15T00:00:00\", \"2020-03-16T00:00:00\", \"2020-03-17T00:00:00\", \"2020-03-18T00:00:00\", \"2020-03-19T00:00:00\", \"2020-03-20T00:00:00\", \"2020-03-21T00:00:00\", \"2020-03-22T00:00:00\"], \"xaxis\": \"x\", \"y\": [0, 0, 0, 0, 0, 0, 0, 0, 0, 0, 0, 0, 0, 0, 0, 0, 0, 0, 0, 0, 0, 0, 0, 0, 0, 0, 0, 0, 0, 0, 0, 0, 0, 0, 0, 0, 0, 0, 0, 0, 0, 0, 0, 1, 2, 2, 2, 3, 3, 4, 4, 4, 7], \"yaxis\": \"y\"}, {\"hoverlabel\": {\"namelength\": 0}, \"hovertemplate\": \"Case=Confirmed<br>Date=%{x}<br>Count=%{y}\", \"legendgroup\": \"Confirmed\", \"line\": {\"color\": \"#fe9801\"}, \"mode\": \"lines\", \"name\": \"Confirmed\", \"orientation\": \"v\", \"showlegend\": true, \"stackgroup\": \"1\", \"type\": \"scatter\", \"x\": [\"2020-01-30T00:00:00\", \"2020-01-31T00:00:00\", \"2020-02-01T00:00:00\", \"2020-02-02T00:00:00\", \"2020-02-03T00:00:00\", \"2020-02-04T00:00:00\", \"2020-02-05T00:00:00\", \"2020-02-06T00:00:00\", \"2020-02-07T00:00:00\", \"2020-02-08T00:00:00\", \"2020-02-09T00:00:00\", \"2020-02-10T00:00:00\", \"2020-02-11T00:00:00\", \"2020-02-12T00:00:00\", \"2020-02-13T00:00:00\", \"2020-02-14T00:00:00\", \"2020-02-15T00:00:00\", \"2020-02-16T00:00:00\", \"2020-02-17T00:00:00\", \"2020-02-18T00:00:00\", \"2020-02-19T00:00:00\", \"2020-02-20T00:00:00\", \"2020-02-21T00:00:00\", \"2020-02-22T00:00:00\", \"2020-02-23T00:00:00\", \"2020-02-24T00:00:00\", \"2020-02-25T00:00:00\", \"2020-02-26T00:00:00\", \"2020-02-27T00:00:00\", \"2020-02-28T00:00:00\", \"2020-02-29T00:00:00\", \"2020-03-01T00:00:00\", \"2020-03-02T00:00:00\", \"2020-03-03T00:00:00\", \"2020-03-04T00:00:00\", \"2020-03-05T00:00:00\", \"2020-03-06T00:00:00\", \"2020-03-07T00:00:00\", \"2020-03-08T00:00:00\", \"2020-03-09T00:00:00\", \"2020-03-10T00:00:00\", \"2020-03-11T00:00:00\", \"2020-03-12T00:00:00\", \"2020-03-13T00:00:00\", \"2020-03-14T00:00:00\", \"2020-03-15T00:00:00\", \"2020-03-16T00:00:00\", \"2020-03-17T00:00:00\", \"2020-03-18T00:00:00\", \"2020-03-19T00:00:00\", \"2020-03-20T00:00:00\", \"2020-03-21T00:00:00\", \"2020-03-22T00:00:00\"], \"xaxis\": \"x\", \"y\": [1, 1, 2, 3, 3, 3, 3, 3, 3, 3, 3, 3, 3, 3, 3, 3, 3, 3, 3, 3, 3, 3, 3, 3, 3, 3, 3, 3, 3, 3, 3, 3, 5, 6, 28, 30, 31, 34, 39, 46, 58, 60, 74, 81, 84, 110, 114, 137, 151, 173, 223, 283, 360], \"yaxis\": \"y\"}],\n",
       "                        {\"legend\": {\"title\": {\"text\": \"Case\"}, \"tracegroupgap\": 0}, \"template\": {\"data\": {\"bar\": [{\"error_x\": {\"color\": \"#2a3f5f\"}, \"error_y\": {\"color\": \"#2a3f5f\"}, \"marker\": {\"line\": {\"color\": \"#E5ECF6\", \"width\": 0.5}}, \"type\": \"bar\"}], \"barpolar\": [{\"marker\": {\"line\": {\"color\": \"#E5ECF6\", \"width\": 0.5}}, \"type\": \"barpolar\"}], \"carpet\": [{\"aaxis\": {\"endlinecolor\": \"#2a3f5f\", \"gridcolor\": \"white\", \"linecolor\": \"white\", \"minorgridcolor\": \"white\", \"startlinecolor\": \"#2a3f5f\"}, \"baxis\": {\"endlinecolor\": \"#2a3f5f\", \"gridcolor\": \"white\", \"linecolor\": \"white\", \"minorgridcolor\": \"white\", \"startlinecolor\": \"#2a3f5f\"}, \"type\": \"carpet\"}], \"choropleth\": [{\"colorbar\": {\"outlinewidth\": 0, \"ticks\": \"\"}, \"type\": \"choropleth\"}], \"contour\": [{\"colorbar\": {\"outlinewidth\": 0, \"ticks\": \"\"}, \"colorscale\": [[0.0, \"#0d0887\"], [0.1111111111111111, \"#46039f\"], [0.2222222222222222, \"#7201a8\"], [0.3333333333333333, \"#9c179e\"], [0.4444444444444444, \"#bd3786\"], [0.5555555555555556, \"#d8576b\"], [0.6666666666666666, \"#ed7953\"], [0.7777777777777778, \"#fb9f3a\"], [0.8888888888888888, \"#fdca26\"], [1.0, \"#f0f921\"]], \"type\": \"contour\"}], \"contourcarpet\": [{\"colorbar\": {\"outlinewidth\": 0, \"ticks\": \"\"}, \"type\": \"contourcarpet\"}], \"heatmap\": [{\"colorbar\": {\"outlinewidth\": 0, \"ticks\": \"\"}, \"colorscale\": [[0.0, \"#0d0887\"], [0.1111111111111111, \"#46039f\"], [0.2222222222222222, \"#7201a8\"], [0.3333333333333333, \"#9c179e\"], [0.4444444444444444, \"#bd3786\"], [0.5555555555555556, \"#d8576b\"], [0.6666666666666666, \"#ed7953\"], [0.7777777777777778, \"#fb9f3a\"], [0.8888888888888888, \"#fdca26\"], [1.0, \"#f0f921\"]], \"type\": \"heatmap\"}], \"heatmapgl\": [{\"colorbar\": {\"outlinewidth\": 0, \"ticks\": \"\"}, \"colorscale\": [[0.0, \"#0d0887\"], [0.1111111111111111, \"#46039f\"], [0.2222222222222222, \"#7201a8\"], [0.3333333333333333, \"#9c179e\"], [0.4444444444444444, \"#bd3786\"], [0.5555555555555556, \"#d8576b\"], [0.6666666666666666, \"#ed7953\"], [0.7777777777777778, \"#fb9f3a\"], [0.8888888888888888, \"#fdca26\"], [1.0, \"#f0f921\"]], \"type\": \"heatmapgl\"}], \"histogram\": [{\"marker\": {\"colorbar\": {\"outlinewidth\": 0, \"ticks\": \"\"}}, \"type\": \"histogram\"}], \"histogram2d\": [{\"colorbar\": {\"outlinewidth\": 0, \"ticks\": \"\"}, \"colorscale\": [[0.0, \"#0d0887\"], [0.1111111111111111, \"#46039f\"], [0.2222222222222222, \"#7201a8\"], [0.3333333333333333, \"#9c179e\"], [0.4444444444444444, \"#bd3786\"], [0.5555555555555556, \"#d8576b\"], [0.6666666666666666, \"#ed7953\"], [0.7777777777777778, \"#fb9f3a\"], [0.8888888888888888, \"#fdca26\"], [1.0, \"#f0f921\"]], \"type\": \"histogram2d\"}], \"histogram2dcontour\": [{\"colorbar\": {\"outlinewidth\": 0, \"ticks\": \"\"}, \"colorscale\": [[0.0, \"#0d0887\"], [0.1111111111111111, \"#46039f\"], [0.2222222222222222, \"#7201a8\"], [0.3333333333333333, \"#9c179e\"], [0.4444444444444444, \"#bd3786\"], [0.5555555555555556, \"#d8576b\"], [0.6666666666666666, \"#ed7953\"], [0.7777777777777778, \"#fb9f3a\"], [0.8888888888888888, \"#fdca26\"], [1.0, \"#f0f921\"]], \"type\": \"histogram2dcontour\"}], \"mesh3d\": [{\"colorbar\": {\"outlinewidth\": 0, \"ticks\": \"\"}, \"type\": \"mesh3d\"}], \"parcoords\": [{\"line\": {\"colorbar\": {\"outlinewidth\": 0, \"ticks\": \"\"}}, \"type\": \"parcoords\"}], \"pie\": [{\"automargin\": true, \"type\": \"pie\"}], \"scatter\": [{\"marker\": {\"colorbar\": {\"outlinewidth\": 0, \"ticks\": \"\"}}, \"type\": \"scatter\"}], \"scatter3d\": [{\"line\": {\"colorbar\": {\"outlinewidth\": 0, \"ticks\": \"\"}}, \"marker\": {\"colorbar\": {\"outlinewidth\": 0, \"ticks\": \"\"}}, \"type\": \"scatter3d\"}], \"scattercarpet\": [{\"marker\": {\"colorbar\": {\"outlinewidth\": 0, \"ticks\": \"\"}}, \"type\": \"scattercarpet\"}], \"scattergeo\": [{\"marker\": {\"colorbar\": {\"outlinewidth\": 0, \"ticks\": \"\"}}, \"type\": \"scattergeo\"}], \"scattergl\": [{\"marker\": {\"colorbar\": {\"outlinewidth\": 0, \"ticks\": \"\"}}, \"type\": \"scattergl\"}], \"scattermapbox\": [{\"marker\": {\"colorbar\": {\"outlinewidth\": 0, \"ticks\": \"\"}}, \"type\": \"scattermapbox\"}], \"scatterpolar\": [{\"marker\": {\"colorbar\": {\"outlinewidth\": 0, \"ticks\": \"\"}}, \"type\": \"scatterpolar\"}], \"scatterpolargl\": [{\"marker\": {\"colorbar\": {\"outlinewidth\": 0, \"ticks\": \"\"}}, \"type\": \"scatterpolargl\"}], \"scatterternary\": [{\"marker\": {\"colorbar\": {\"outlinewidth\": 0, \"ticks\": \"\"}}, \"type\": \"scatterternary\"}], \"surface\": [{\"colorbar\": {\"outlinewidth\": 0, \"ticks\": \"\"}, \"colorscale\": [[0.0, \"#0d0887\"], [0.1111111111111111, \"#46039f\"], [0.2222222222222222, \"#7201a8\"], [0.3333333333333333, \"#9c179e\"], [0.4444444444444444, \"#bd3786\"], [0.5555555555555556, \"#d8576b\"], [0.6666666666666666, \"#ed7953\"], [0.7777777777777778, \"#fb9f3a\"], [0.8888888888888888, \"#fdca26\"], [1.0, \"#f0f921\"]], \"type\": \"surface\"}], \"table\": [{\"cells\": {\"fill\": {\"color\": \"#EBF0F8\"}, \"line\": {\"color\": \"white\"}}, \"header\": {\"fill\": {\"color\": \"#C8D4E3\"}, \"line\": {\"color\": \"white\"}}, \"type\": \"table\"}]}, \"layout\": {\"annotationdefaults\": {\"arrowcolor\": \"#2a3f5f\", \"arrowhead\": 0, \"arrowwidth\": 1}, \"coloraxis\": {\"colorbar\": {\"outlinewidth\": 0, \"ticks\": \"\"}}, \"colorscale\": {\"diverging\": [[0, \"#8e0152\"], [0.1, \"#c51b7d\"], [0.2, \"#de77ae\"], [0.3, \"#f1b6da\"], [0.4, \"#fde0ef\"], [0.5, \"#f7f7f7\"], [0.6, \"#e6f5d0\"], [0.7, \"#b8e186\"], [0.8, \"#7fbc41\"], [0.9, \"#4d9221\"], [1, \"#276419\"]], \"sequential\": [[0.0, \"#0d0887\"], [0.1111111111111111, \"#46039f\"], [0.2222222222222222, \"#7201a8\"], [0.3333333333333333, \"#9c179e\"], [0.4444444444444444, \"#bd3786\"], [0.5555555555555556, \"#d8576b\"], [0.6666666666666666, \"#ed7953\"], [0.7777777777777778, \"#fb9f3a\"], [0.8888888888888888, \"#fdca26\"], [1.0, \"#f0f921\"]], \"sequentialminus\": [[0.0, \"#0d0887\"], [0.1111111111111111, \"#46039f\"], [0.2222222222222222, \"#7201a8\"], [0.3333333333333333, \"#9c179e\"], [0.4444444444444444, \"#bd3786\"], [0.5555555555555556, \"#d8576b\"], [0.6666666666666666, \"#ed7953\"], [0.7777777777777778, \"#fb9f3a\"], [0.8888888888888888, \"#fdca26\"], [1.0, \"#f0f921\"]]}, \"colorway\": [\"#636efa\", \"#EF553B\", \"#00cc96\", \"#ab63fa\", \"#FFA15A\", \"#19d3f3\", \"#FF6692\", \"#B6E880\", \"#FF97FF\", \"#FECB52\"], \"font\": {\"color\": \"#2a3f5f\"}, \"geo\": {\"bgcolor\": \"white\", \"lakecolor\": \"white\", \"landcolor\": \"#E5ECF6\", \"showlakes\": true, \"showland\": true, \"subunitcolor\": \"white\"}, \"hoverlabel\": {\"align\": \"left\"}, \"hovermode\": \"closest\", \"mapbox\": {\"style\": \"light\"}, \"paper_bgcolor\": \"white\", \"plot_bgcolor\": \"#E5ECF6\", \"polar\": {\"angularaxis\": {\"gridcolor\": \"white\", \"linecolor\": \"white\", \"ticks\": \"\"}, \"bgcolor\": \"#E5ECF6\", \"radialaxis\": {\"gridcolor\": \"white\", \"linecolor\": \"white\", \"ticks\": \"\"}}, \"scene\": {\"xaxis\": {\"backgroundcolor\": \"#E5ECF6\", \"gridcolor\": \"white\", \"gridwidth\": 2, \"linecolor\": \"white\", \"showbackground\": true, \"ticks\": \"\", \"zerolinecolor\": \"white\"}, \"yaxis\": {\"backgroundcolor\": \"#E5ECF6\", \"gridcolor\": \"white\", \"gridwidth\": 2, \"linecolor\": \"white\", \"showbackground\": true, \"ticks\": \"\", \"zerolinecolor\": \"white\"}, \"zaxis\": {\"backgroundcolor\": \"#E5ECF6\", \"gridcolor\": \"white\", \"gridwidth\": 2, \"linecolor\": \"white\", \"showbackground\": true, \"ticks\": \"\", \"zerolinecolor\": \"white\"}}, \"shapedefaults\": {\"line\": {\"color\": \"#2a3f5f\"}}, \"ternary\": {\"aaxis\": {\"gridcolor\": \"white\", \"linecolor\": \"white\", \"ticks\": \"\"}, \"baxis\": {\"gridcolor\": \"white\", \"linecolor\": \"white\", \"ticks\": \"\"}, \"bgcolor\": \"#E5ECF6\", \"caxis\": {\"gridcolor\": \"white\", \"linecolor\": \"white\", \"ticks\": \"\"}}, \"title\": {\"x\": 0.05}, \"xaxis\": {\"automargin\": true, \"gridcolor\": \"white\", \"linecolor\": \"white\", \"ticks\": \"\", \"title\": {\"standoff\": 15}, \"zerolinecolor\": \"white\", \"zerolinewidth\": 2}, \"yaxis\": {\"automargin\": true, \"gridcolor\": \"white\", \"linecolor\": \"white\", \"ticks\": \"\", \"title\": {\"standoff\": 15}, \"zerolinecolor\": \"white\", \"zerolinewidth\": 2}}}, \"title\": {\"text\": \"Cases over time\"}, \"xaxis\": {\"anchor\": \"y\", \"domain\": [0.0, 1.0], \"title\": {\"text\": \"Date\"}}, \"yaxis\": {\"anchor\": \"x\", \"domain\": [0.0, 1.0], \"title\": {\"text\": \"Count\"}}},\n",
       "                        {\"responsive\": true}\n",
       "                    ).then(function(){\n",
       "                            \n",
       "var gd = document.getElementById('e5ac8b75-52ea-46ca-9572-1d67f26c56d0');\n",
       "var x = new MutationObserver(function (mutations, observer) {{\n",
       "        var display = window.getComputedStyle(gd).display;\n",
       "        if (!display || display === 'none') {{\n",
       "            console.log([gd, 'removed!']);\n",
       "            Plotly.purge(gd);\n",
       "            observer.disconnect();\n",
       "        }}\n",
       "}});\n",
       "\n",
       "// Listen for the removal of the full notebook cells\n",
       "var notebookContainer = gd.closest('#notebook-container');\n",
       "if (notebookContainer) {{\n",
       "    x.observe(notebookContainer, {childList: true});\n",
       "}}\n",
       "\n",
       "// Listen for the clearing of the current output cell\n",
       "var outputEl = gd.closest('.output');\n",
       "if (outputEl) {{\n",
       "    x.observe(outputEl, {childList: true});\n",
       "}}\n",
       "\n",
       "                        })\n",
       "                };\n",
       "                });\n",
       "            </script>\n",
       "        </div>"
      ]
     },
     "metadata": {},
     "output_type": "display_data"
    }
   ],
   "source": [
    "temp = date_wise_data.melt(id_vars=\"Date\", value_vars=['Recovered', 'Deaths', 'Confirmed'],\n",
    "                 var_name='Case', value_name='Count')\n",
    "# temp.head()\n",
    "\n",
    "fig = px.area(temp, x=\"Date\", y=\"Count\", color='Case',title='Cases over time', color_discrete_sequence = [rec, dth, act])\n",
    "fig.show()\n",
    "\n",
    "# formatted_text('***Day wise distribution (WorldWide) for Confirmed, Deaths and Recovered Cases***')\n",
    "# date_wise_data.plot('Date',['Confirmed', 'Deaths', 'Recovered'],figsize=(10,10), rot=30)"
   ]
  },
  {
   "cell_type": "code",
   "execution_count": 11,
   "metadata": {},
   "outputs": [
    {
     "data": {
      "text/html": [
       "<div>\n",
       "<style scoped>\n",
       "    .dataframe tbody tr th:only-of-type {\n",
       "        vertical-align: middle;\n",
       "    }\n",
       "\n",
       "    .dataframe tbody tr th {\n",
       "        vertical-align: top;\n",
       "    }\n",
       "\n",
       "    .dataframe thead th {\n",
       "        text-align: right;\n",
       "    }\n",
       "</style>\n",
       "<table border=\"1\" class=\"dataframe\">\n",
       "  <thead>\n",
       "    <tr style=\"text-align: right;\">\n",
       "      <th></th>\n",
       "      <th>State</th>\n",
       "      <th>Latitude</th>\n",
       "      <th>Longitude</th>\n",
       "      <th>Unnamed: 3</th>\n",
       "    </tr>\n",
       "  </thead>\n",
       "  <tbody>\n",
       "    <tr>\n",
       "      <th>0</th>\n",
       "      <td>Andaman And Nicobar</td>\n",
       "      <td>11.667026</td>\n",
       "      <td>92.735983</td>\n",
       "      <td>NaN</td>\n",
       "    </tr>\n",
       "    <tr>\n",
       "      <th>1</th>\n",
       "      <td>Andhra Pradesh</td>\n",
       "      <td>14.750429</td>\n",
       "      <td>78.570026</td>\n",
       "      <td>NaN</td>\n",
       "    </tr>\n",
       "    <tr>\n",
       "      <th>2</th>\n",
       "      <td>Arunachal Pradesh</td>\n",
       "      <td>27.100399</td>\n",
       "      <td>93.616601</td>\n",
       "      <td>NaN</td>\n",
       "    </tr>\n",
       "    <tr>\n",
       "      <th>3</th>\n",
       "      <td>Assam</td>\n",
       "      <td>26.749981</td>\n",
       "      <td>94.216667</td>\n",
       "      <td>NaN</td>\n",
       "    </tr>\n",
       "    <tr>\n",
       "      <th>4</th>\n",
       "      <td>Bihar</td>\n",
       "      <td>25.785414</td>\n",
       "      <td>87.479973</td>\n",
       "      <td>NaN</td>\n",
       "    </tr>\n",
       "  </tbody>\n",
       "</table>\n",
       "</div>"
      ],
      "text/plain": [
       "                  State   Latitude  Longitude  Unnamed: 3\n",
       "0  Andaman And Nicobar   11.667026  92.735983         NaN\n",
       "1        Andhra Pradesh  14.750429  78.570026         NaN\n",
       "2    Arunachal Pradesh   27.100399  93.616601         NaN\n",
       "3                Assam   26.749981  94.216667         NaN\n",
       "4                Bihar   25.785414  87.479973         NaN"
      ]
     },
     "execution_count": 11,
     "metadata": {},
     "output_type": "execute_result"
    }
   ],
   "source": [
    "India_Lat_Lon.rename(columns={'Name of State / UT': 'State'}, inplace=True)\n",
    "India_Lat_Lon.head()"
   ]
  },
  {
   "cell_type": "code",
   "execution_count": 12,
   "metadata": {},
   "outputs": [
    {
     "data": {
      "text/html": [
       "<div style=\"width:100%;\"><div style=\"position:relative;width:100%;height:0;padding-bottom:60%;\"><iframe src=\"about:blank\" style=\"position:absolute;width:100%;height:100%;left:0;top:0;border:none !important;\" data-html=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 onload=\"this.contentDocument.open();this.contentDocument.write(atob(this.getAttribute('data-html')));this.contentDocument.close();\" allowfullscreen webkitallowfullscreen mozallowfullscreen></iframe></div></div>"
      ],
      "text/plain": [
       "<folium.folium.Map at 0x7fb90df84a58>"
      ]
     },
     "execution_count": 12,
     "metadata": {},
     "output_type": "execute_result"
    }
   ],
   "source": [
    "Covid_India_With_Location = pd.merge(India_Lat_Lon,covid_India_cases,on='State')\n",
    "\n",
    "India_Latitude = 21.7679\n",
    "India_Longitude = 78.8718            \n",
    "                   \n",
    "India = folium.Map(location = [India_Latitude,India_Longitude], zoom_start = 5,tiles = 'cartodbpositron')\n",
    "\n",
    "for lat, long, confirmed, deaths, recovered, state in zip(Covid_India_With_Location['Latitude'],\n",
    "                                                           Covid_India_With_Location['Longitude'],\n",
    "                                                           Covid_India_With_Location['TotalConfirmed'],\n",
    "                                                           Covid_India_With_Location['Deaths'],\n",
    "                                                           Covid_India_With_Location['Recovered'], \n",
    "                                                           Covid_India_With_Location['State']):\n",
    "\n",
    "    if (deaths == 0):\n",
    "        folium.Marker(location=[lat, long]\n",
    "                    , popup = ('<strong>nCov Numbers:</strong> ' + '<br>' + \n",
    "                               '<strong>Country:</strong> ' + str(state).capitalize() + '<br>'\n",
    "                               '<strong>Confirmed:</strong> ' + str(int(confirmed)) + '<br>'\n",
    "                               '<strong>Deaths:</strong> ' + str(int(deaths)) + '<br>'\n",
    "                               '<strong>Recovered:</strong> ' + str(int(recovered)) + '<br>')\n",
    "                    , icon=folium.Icon(color='darkblue',icon='info-sign'), color='rgb(55, 83, 109)'\n",
    "                    , tooltip = str(state).capitalize(), fill_color='rgb(55, 83, 109)').add_to(India)\n",
    "\n",
    "    else:\n",
    "        folium.Marker(location=[lat, long]\n",
    "                    , popup = ('<strong>nCov Numbers:</strong> ' + '<br>' + \n",
    "                               '<strong>Country:</strong> ' + str(state).capitalize() + '<br>'\n",
    "                               '<strong>Confirmed:</strong> ' + str(int(confirmed)) + '<br>'\n",
    "                               '<strong>Deaths:</strong> ' + str(int(deaths)) + '<br>'\n",
    "                               '<strong>Recovered:</strong> ' + str(int(recovered)) + '<br>')\n",
    "                    , icon=folium.Icon(color='red', icon='info-sign'), color='rgb(26, 118, 255)'\n",
    "                    , tooltip = str(state).capitalize(), fill_color='rgb(26, 118, 255)').add_to(India)\n",
    "        \n",
    "India\n"
   ]
  },
  {
   "cell_type": "code",
   "execution_count": 13,
   "metadata": {},
   "outputs": [
    {
     "data": {
      "application/vnd.plotly.v1+json": {
       "config": {
        "plotlyServerURL": "https://plot.ly"
       },
       "data": [
        {
         "branchvalues": "total",
         "customdata": [
          [
           "Andhra Pradesh",
           3
          ],
          [
           "Chandigarh",
           1
          ],
          [
           "Chattisgarh",
           1
          ],
          [
           "Delhi",
           26
          ],
          [
           "Gujarat",
           7
          ],
          [
           "Haryana",
           17
          ],
          [
           "Himachal Pradesh",
           2
          ],
          [
           "Jammu and Kashmir",
           4
          ],
          [
           "Karnataka",
           15
          ],
          [
           "Kerala",
           40
          ],
          [
           "Ladakh",
           13
          ],
          [
           "Madhya Pradesh",
           4
          ],
          [
           "Maharashtra",
           63
          ],
          [
           "Odisha",
           2
          ],
          [
           "Pondicherry",
           1
          ],
          [
           "Punjab",
           13
          ],
          [
           "Rajasthan",
           17
          ],
          [
           "Tamil Nadu",
           3
          ],
          [
           "Telengana",
           21
          ],
          [
           "Uttar Pradesh",
           24
          ],
          [
           "Uttarakhand",
           3
          ],
          [
           "West Bengal",
           3
          ],
          [
           "(?)",
           283
          ]
         ],
         "domain": {
          "x": [
           0.0,
           1.0
          ],
          "y": [
           0.0,
           1.0
          ]
         },
         "hoverlabel": {
          "namelength": 0
         },
         "hovertemplate": "State=%{customdata[0]}<br>TotalConfirmed=%{color}<br>labels=%{label}<br>parent=%{parent}<br>id=%{id}",
         "ids": [
          "India/Andhra Pradesh",
          "India/Chandigarh",
          "India/Chattisgarh",
          "India/Delhi",
          "India/Gujarat",
          "India/Haryana",
          "India/Himachal Pradesh",
          "India/Jammu and Kashmir",
          "India/Karnataka",
          "India/Kerala",
          "India/Ladakh",
          "India/Madhya Pradesh",
          "India/Maharashtra",
          "India/Odisha",
          "India/Pondicherry",
          "India/Punjab",
          "India/Rajasthan",
          "India/Tamil Nadu",
          "India/Telengana",
          "India/Uttar Pradesh",
          "India/Uttarakhand",
          "India/West Bengal",
          "India"
         ],
         "labels": [
          "Andhra Pradesh",
          "Chandigarh",
          "Chattisgarh",
          "Delhi",
          "Gujarat",
          "Haryana",
          "Himachal Pradesh",
          "Jammu and Kashmir",
          "Karnataka",
          "Kerala",
          "Ladakh",
          "Madhya Pradesh",
          "Maharashtra",
          "Odisha",
          "Pondicherry",
          "Punjab",
          "Rajasthan",
          "Tamil Nadu",
          "Telengana",
          "Uttar Pradesh",
          "Uttarakhand",
          "West Bengal",
          "India"
         ],
         "marker": {
          "coloraxis": "coloraxis",
          "colors": [
           3,
           1,
           1,
           26,
           7,
           17,
           2,
           4,
           15,
           40,
           13,
           4,
           63,
           2,
           1,
           13,
           17,
           3,
           21,
           24,
           3,
           3,
           283
          ]
         },
         "name": "",
         "parents": [
          "India",
          "India",
          "India",
          "India",
          "India",
          "India",
          "India",
          "India",
          "India",
          "India",
          "India",
          "India",
          "India",
          "India",
          "India",
          "India",
          "India",
          "India",
          "India",
          "India",
          "India",
          "India",
          ""
         ],
         "type": "treemap",
         "values": [
          3,
          1,
          1,
          26,
          7,
          17,
          2,
          4,
          15,
          40,
          13,
          4,
          63,
          2,
          1,
          13,
          17,
          3,
          21,
          24,
          3,
          3,
          283
         ]
        }
       ],
       "layout": {
        "coloraxis": {
         "colorbar": {
          "title": {
           "text": "TotalConfirmed"
          }
         },
         "colorscale": [
          [
           0.0,
           "rgb(103,0,31)"
          ],
          [
           0.1,
           "rgb(178,24,43)"
          ],
          [
           0.2,
           "rgb(214,96,77)"
          ],
          [
           0.3,
           "rgb(244,165,130)"
          ],
          [
           0.4,
           "rgb(253,219,199)"
          ],
          [
           0.5,
           "rgb(247,247,247)"
          ],
          [
           0.6,
           "rgb(209,229,240)"
          ],
          [
           0.7,
           "rgb(146,197,222)"
          ],
          [
           0.8,
           "rgb(67,147,195)"
          ],
          [
           0.9,
           "rgb(33,102,172)"
          ],
          [
           1.0,
           "rgb(5,48,97)"
          ]
         ]
        },
        "legend": {
         "tracegroupgap": 0
        },
        "margin": {
         "t": 60
        },
        "template": {
         "data": {
          "bar": [
           {
            "error_x": {
             "color": "#2a3f5f"
            },
            "error_y": {
             "color": "#2a3f5f"
            },
            "marker": {
             "line": {
              "color": "#E5ECF6",
              "width": 0.5
             }
            },
            "type": "bar"
           }
          ],
          "barpolar": [
           {
            "marker": {
             "line": {
              "color": "#E5ECF6",
              "width": 0.5
             }
            },
            "type": "barpolar"
           }
          ],
          "carpet": [
           {
            "aaxis": {
             "endlinecolor": "#2a3f5f",
             "gridcolor": "white",
             "linecolor": "white",
             "minorgridcolor": "white",
             "startlinecolor": "#2a3f5f"
            },
            "baxis": {
             "endlinecolor": "#2a3f5f",
             "gridcolor": "white",
             "linecolor": "white",
             "minorgridcolor": "white",
             "startlinecolor": "#2a3f5f"
            },
            "type": "carpet"
           }
          ],
          "choropleth": [
           {
            "colorbar": {
             "outlinewidth": 0,
             "ticks": ""
            },
            "type": "choropleth"
           }
          ],
          "contour": [
           {
            "colorbar": {
             "outlinewidth": 0,
             "ticks": ""
            },
            "colorscale": [
             [
              0.0,
              "#0d0887"
             ],
             [
              0.1111111111111111,
              "#46039f"
             ],
             [
              0.2222222222222222,
              "#7201a8"
             ],
             [
              0.3333333333333333,
              "#9c179e"
             ],
             [
              0.4444444444444444,
              "#bd3786"
             ],
             [
              0.5555555555555556,
              "#d8576b"
             ],
             [
              0.6666666666666666,
              "#ed7953"
             ],
             [
              0.7777777777777778,
              "#fb9f3a"
             ],
             [
              0.8888888888888888,
              "#fdca26"
             ],
             [
              1.0,
              "#f0f921"
             ]
            ],
            "type": "contour"
           }
          ],
          "contourcarpet": [
           {
            "colorbar": {
             "outlinewidth": 0,
             "ticks": ""
            },
            "type": "contourcarpet"
           }
          ],
          "heatmap": [
           {
            "colorbar": {
             "outlinewidth": 0,
             "ticks": ""
            },
            "colorscale": [
             [
              0.0,
              "#0d0887"
             ],
             [
              0.1111111111111111,
              "#46039f"
             ],
             [
              0.2222222222222222,
              "#7201a8"
             ],
             [
              0.3333333333333333,
              "#9c179e"
             ],
             [
              0.4444444444444444,
              "#bd3786"
             ],
             [
              0.5555555555555556,
              "#d8576b"
             ],
             [
              0.6666666666666666,
              "#ed7953"
             ],
             [
              0.7777777777777778,
              "#fb9f3a"
             ],
             [
              0.8888888888888888,
              "#fdca26"
             ],
             [
              1.0,
              "#f0f921"
             ]
            ],
            "type": "heatmap"
           }
          ],
          "heatmapgl": [
           {
            "colorbar": {
             "outlinewidth": 0,
             "ticks": ""
            },
            "colorscale": [
             [
              0.0,
              "#0d0887"
             ],
             [
              0.1111111111111111,
              "#46039f"
             ],
             [
              0.2222222222222222,
              "#7201a8"
             ],
             [
              0.3333333333333333,
              "#9c179e"
             ],
             [
              0.4444444444444444,
              "#bd3786"
             ],
             [
              0.5555555555555556,
              "#d8576b"
             ],
             [
              0.6666666666666666,
              "#ed7953"
             ],
             [
              0.7777777777777778,
              "#fb9f3a"
             ],
             [
              0.8888888888888888,
              "#fdca26"
             ],
             [
              1.0,
              "#f0f921"
             ]
            ],
            "type": "heatmapgl"
           }
          ],
          "histogram": [
           {
            "marker": {
             "colorbar": {
              "outlinewidth": 0,
              "ticks": ""
             }
            },
            "type": "histogram"
           }
          ],
          "histogram2d": [
           {
            "colorbar": {
             "outlinewidth": 0,
             "ticks": ""
            },
            "colorscale": [
             [
              0.0,
              "#0d0887"
             ],
             [
              0.1111111111111111,
              "#46039f"
             ],
             [
              0.2222222222222222,
              "#7201a8"
             ],
             [
              0.3333333333333333,
              "#9c179e"
             ],
             [
              0.4444444444444444,
              "#bd3786"
             ],
             [
              0.5555555555555556,
              "#d8576b"
             ],
             [
              0.6666666666666666,
              "#ed7953"
             ],
             [
              0.7777777777777778,
              "#fb9f3a"
             ],
             [
              0.8888888888888888,
              "#fdca26"
             ],
             [
              1.0,
              "#f0f921"
             ]
            ],
            "type": "histogram2d"
           }
          ],
          "histogram2dcontour": [
           {
            "colorbar": {
             "outlinewidth": 0,
             "ticks": ""
            },
            "colorscale": [
             [
              0.0,
              "#0d0887"
             ],
             [
              0.1111111111111111,
              "#46039f"
             ],
             [
              0.2222222222222222,
              "#7201a8"
             ],
             [
              0.3333333333333333,
              "#9c179e"
             ],
             [
              0.4444444444444444,
              "#bd3786"
             ],
             [
              0.5555555555555556,
              "#d8576b"
             ],
             [
              0.6666666666666666,
              "#ed7953"
             ],
             [
              0.7777777777777778,
              "#fb9f3a"
             ],
             [
              0.8888888888888888,
              "#fdca26"
             ],
             [
              1.0,
              "#f0f921"
             ]
            ],
            "type": "histogram2dcontour"
           }
          ],
          "mesh3d": [
           {
            "colorbar": {
             "outlinewidth": 0,
             "ticks": ""
            },
            "type": "mesh3d"
           }
          ],
          "parcoords": [
           {
            "line": {
             "colorbar": {
              "outlinewidth": 0,
              "ticks": ""
             }
            },
            "type": "parcoords"
           }
          ],
          "pie": [
           {
            "automargin": true,
            "type": "pie"
           }
          ],
          "scatter": [
           {
            "marker": {
             "colorbar": {
              "outlinewidth": 0,
              "ticks": ""
             }
            },
            "type": "scatter"
           }
          ],
          "scatter3d": [
           {
            "line": {
             "colorbar": {
              "outlinewidth": 0,
              "ticks": ""
             }
            },
            "marker": {
             "colorbar": {
              "outlinewidth": 0,
              "ticks": ""
             }
            },
            "type": "scatter3d"
           }
          ],
          "scattercarpet": [
           {
            "marker": {
             "colorbar": {
              "outlinewidth": 0,
              "ticks": ""
             }
            },
            "type": "scattercarpet"
           }
          ],
          "scattergeo": [
           {
            "marker": {
             "colorbar": {
              "outlinewidth": 0,
              "ticks": ""
             }
            },
            "type": "scattergeo"
           }
          ],
          "scattergl": [
           {
            "marker": {
             "colorbar": {
              "outlinewidth": 0,
              "ticks": ""
             }
            },
            "type": "scattergl"
           }
          ],
          "scattermapbox": [
           {
            "marker": {
             "colorbar": {
              "outlinewidth": 0,
              "ticks": ""
             }
            },
            "type": "scattermapbox"
           }
          ],
          "scatterpolar": [
           {
            "marker": {
             "colorbar": {
              "outlinewidth": 0,
              "ticks": ""
             }
            },
            "type": "scatterpolar"
           }
          ],
          "scatterpolargl": [
           {
            "marker": {
             "colorbar": {
              "outlinewidth": 0,
              "ticks": ""
             }
            },
            "type": "scatterpolargl"
           }
          ],
          "scatterternary": [
           {
            "marker": {
             "colorbar": {
              "outlinewidth": 0,
              "ticks": ""
             }
            },
            "type": "scatterternary"
           }
          ],
          "surface": [
           {
            "colorbar": {
             "outlinewidth": 0,
             "ticks": ""
            },
            "colorscale": [
             [
              0.0,
              "#0d0887"
             ],
             [
              0.1111111111111111,
              "#46039f"
             ],
             [
              0.2222222222222222,
              "#7201a8"
             ],
             [
              0.3333333333333333,
              "#9c179e"
             ],
             [
              0.4444444444444444,
              "#bd3786"
             ],
             [
              0.5555555555555556,
              "#d8576b"
             ],
             [
              0.6666666666666666,
              "#ed7953"
             ],
             [
              0.7777777777777778,
              "#fb9f3a"
             ],
             [
              0.8888888888888888,
              "#fdca26"
             ],
             [
              1.0,
              "#f0f921"
             ]
            ],
            "type": "surface"
           }
          ],
          "table": [
           {
            "cells": {
             "fill": {
              "color": "#EBF0F8"
             },
             "line": {
              "color": "white"
             }
            },
            "header": {
             "fill": {
              "color": "#C8D4E3"
             },
             "line": {
              "color": "white"
             }
            },
            "type": "table"
           }
          ]
         },
         "layout": {
          "annotationdefaults": {
           "arrowcolor": "#2a3f5f",
           "arrowhead": 0,
           "arrowwidth": 1
          },
          "coloraxis": {
           "colorbar": {
            "outlinewidth": 0,
            "ticks": ""
           }
          },
          "colorscale": {
           "diverging": [
            [
             0,
             "#8e0152"
            ],
            [
             0.1,
             "#c51b7d"
            ],
            [
             0.2,
             "#de77ae"
            ],
            [
             0.3,
             "#f1b6da"
            ],
            [
             0.4,
             "#fde0ef"
            ],
            [
             0.5,
             "#f7f7f7"
            ],
            [
             0.6,
             "#e6f5d0"
            ],
            [
             0.7,
             "#b8e186"
            ],
            [
             0.8,
             "#7fbc41"
            ],
            [
             0.9,
             "#4d9221"
            ],
            [
             1,
             "#276419"
            ]
           ],
           "sequential": [
            [
             0.0,
             "#0d0887"
            ],
            [
             0.1111111111111111,
             "#46039f"
            ],
            [
             0.2222222222222222,
             "#7201a8"
            ],
            [
             0.3333333333333333,
             "#9c179e"
            ],
            [
             0.4444444444444444,
             "#bd3786"
            ],
            [
             0.5555555555555556,
             "#d8576b"
            ],
            [
             0.6666666666666666,
             "#ed7953"
            ],
            [
             0.7777777777777778,
             "#fb9f3a"
            ],
            [
             0.8888888888888888,
             "#fdca26"
            ],
            [
             1.0,
             "#f0f921"
            ]
           ],
           "sequentialminus": [
            [
             0.0,
             "#0d0887"
            ],
            [
             0.1111111111111111,
             "#46039f"
            ],
            [
             0.2222222222222222,
             "#7201a8"
            ],
            [
             0.3333333333333333,
             "#9c179e"
            ],
            [
             0.4444444444444444,
             "#bd3786"
            ],
            [
             0.5555555555555556,
             "#d8576b"
            ],
            [
             0.6666666666666666,
             "#ed7953"
            ],
            [
             0.7777777777777778,
             "#fb9f3a"
            ],
            [
             0.8888888888888888,
             "#fdca26"
            ],
            [
             1.0,
             "#f0f921"
            ]
           ]
          },
          "colorway": [
           "#636efa",
           "#EF553B",
           "#00cc96",
           "#ab63fa",
           "#FFA15A",
           "#19d3f3",
           "#FF6692",
           "#B6E880",
           "#FF97FF",
           "#FECB52"
          ],
          "font": {
           "color": "#2a3f5f"
          },
          "geo": {
           "bgcolor": "white",
           "lakecolor": "white",
           "landcolor": "#E5ECF6",
           "showlakes": true,
           "showland": true,
           "subunitcolor": "white"
          },
          "hoverlabel": {
           "align": "left"
          },
          "hovermode": "closest",
          "mapbox": {
           "style": "light"
          },
          "paper_bgcolor": "white",
          "plot_bgcolor": "#E5ECF6",
          "polar": {
           "angularaxis": {
            "gridcolor": "white",
            "linecolor": "white",
            "ticks": ""
           },
           "bgcolor": "#E5ECF6",
           "radialaxis": {
            "gridcolor": "white",
            "linecolor": "white",
            "ticks": ""
           }
          },
          "scene": {
           "xaxis": {
            "backgroundcolor": "#E5ECF6",
            "gridcolor": "white",
            "gridwidth": 2,
            "linecolor": "white",
            "showbackground": true,
            "ticks": "",
            "zerolinecolor": "white"
           },
           "yaxis": {
            "backgroundcolor": "#E5ECF6",
            "gridcolor": "white",
            "gridwidth": 2,
            "linecolor": "white",
            "showbackground": true,
            "ticks": "",
            "zerolinecolor": "white"
           },
           "zaxis": {
            "backgroundcolor": "#E5ECF6",
            "gridcolor": "white",
            "gridwidth": 2,
            "linecolor": "white",
            "showbackground": true,
            "ticks": "",
            "zerolinecolor": "white"
           }
          },
          "shapedefaults": {
           "line": {
            "color": "#2a3f5f"
           }
          },
          "ternary": {
           "aaxis": {
            "gridcolor": "white",
            "linecolor": "white",
            "ticks": ""
           },
           "baxis": {
            "gridcolor": "white",
            "linecolor": "white",
            "ticks": ""
           },
           "bgcolor": "#E5ECF6",
           "caxis": {
            "gridcolor": "white",
            "linecolor": "white",
            "ticks": ""
           }
          },
          "title": {
           "x": 0.05
          },
          "xaxis": {
           "automargin": true,
           "gridcolor": "white",
           "linecolor": "white",
           "ticks": "",
           "title": {
            "standoff": 15
           },
           "zerolinecolor": "white",
           "zerolinewidth": 2
          },
          "yaxis": {
           "automargin": true,
           "gridcolor": "white",
           "linecolor": "white",
           "ticks": "",
           "title": {
            "standoff": 15
           },
           "zerolinecolor": "white",
           "zerolinewidth": 2
          }
         }
        }
       }
      },
      "text/html": [
       "<div>\n",
       "        \n",
       "        \n",
       "            <div id=\"abf01ddf-7a09-4253-85d3-30a2dd66d187\" class=\"plotly-graph-div\" style=\"height:525px; width:100%;\"></div>\n",
       "            <script type=\"text/javascript\">\n",
       "                require([\"plotly\"], function(Plotly) {\n",
       "                    window.PLOTLYENV=window.PLOTLYENV || {};\n",
       "                    \n",
       "                if (document.getElementById(\"abf01ddf-7a09-4253-85d3-30a2dd66d187\")) {\n",
       "                    Plotly.newPlot(\n",
       "                        'abf01ddf-7a09-4253-85d3-30a2dd66d187',\n",
       "                        [{\"branchvalues\": \"total\", \"customdata\": [[\"Andhra Pradesh\", 3], [\"Chandigarh\", 1], [\"Chattisgarh\", 1], [\"Delhi\", 26], [\"Gujarat\", 7], [\"Haryana\", 17], [\"Himachal Pradesh\", 2], [\"Jammu and Kashmir\", 4], [\"Karnataka\", 15], [\"Kerala\", 40], [\"Ladakh\", 13], [\"Madhya Pradesh\", 4], [\"Maharashtra\", 63], [\"Odisha\", 2], [\"Pondicherry\", 1], [\"Punjab\", 13], [\"Rajasthan\", 17], [\"Tamil Nadu\", 3], [\"Telengana\", 21], [\"Uttar Pradesh\", 24], [\"Uttarakhand\", 3], [\"West Bengal\", 3], [\"(?)\", 283]], \"domain\": {\"x\": [0.0, 1.0], \"y\": [0.0, 1.0]}, \"hoverlabel\": {\"namelength\": 0}, \"hovertemplate\": \"State=%{customdata[0]}<br>TotalConfirmed=%{color}<br>labels=%{label}<br>parent=%{parent}<br>id=%{id}\", \"ids\": [\"India/Andhra Pradesh\", \"India/Chandigarh\", \"India/Chattisgarh\", \"India/Delhi\", \"India/Gujarat\", \"India/Haryana\", \"India/Himachal Pradesh\", \"India/Jammu and Kashmir\", \"India/Karnataka\", \"India/Kerala\", \"India/Ladakh\", \"India/Madhya Pradesh\", \"India/Maharashtra\", \"India/Odisha\", \"India/Pondicherry\", \"India/Punjab\", \"India/Rajasthan\", \"India/Tamil Nadu\", \"India/Telengana\", \"India/Uttar Pradesh\", \"India/Uttarakhand\", \"India/West Bengal\", \"India\"], \"labels\": [\"Andhra Pradesh\", \"Chandigarh\", \"Chattisgarh\", \"Delhi\", \"Gujarat\", \"Haryana\", \"Himachal Pradesh\", \"Jammu and Kashmir\", \"Karnataka\", \"Kerala\", \"Ladakh\", \"Madhya Pradesh\", \"Maharashtra\", \"Odisha\", \"Pondicherry\", \"Punjab\", \"Rajasthan\", \"Tamil Nadu\", \"Telengana\", \"Uttar Pradesh\", \"Uttarakhand\", \"West Bengal\", \"India\"], \"marker\": {\"coloraxis\": \"coloraxis\", \"colors\": [3, 1, 1, 26, 7, 17, 2, 4, 15, 40, 13, 4, 63, 2, 1, 13, 17, 3, 21, 24, 3, 3, 283]}, \"name\": \"\", \"parents\": [\"India\", \"India\", \"India\", \"India\", \"India\", \"India\", \"India\", \"India\", \"India\", \"India\", \"India\", \"India\", \"India\", \"India\", \"India\", \"India\", \"India\", \"India\", \"India\", \"India\", \"India\", \"India\", \"\"], \"type\": \"treemap\", \"values\": [3, 1, 1, 26, 7, 17, 2, 4, 15, 40, 13, 4, 63, 2, 1, 13, 17, 3, 21, 24, 3, 3, 283]}],\n",
       "                        {\"coloraxis\": {\"colorbar\": {\"title\": {\"text\": \"TotalConfirmed\"}}, \"colorscale\": [[0.0, \"rgb(103,0,31)\"], [0.1, \"rgb(178,24,43)\"], [0.2, \"rgb(214,96,77)\"], [0.3, \"rgb(244,165,130)\"], [0.4, \"rgb(253,219,199)\"], [0.5, \"rgb(247,247,247)\"], [0.6, \"rgb(209,229,240)\"], [0.7, \"rgb(146,197,222)\"], [0.8, \"rgb(67,147,195)\"], [0.9, \"rgb(33,102,172)\"], [1.0, \"rgb(5,48,97)\"]]}, \"legend\": {\"tracegroupgap\": 0}, \"margin\": {\"t\": 60}, \"template\": {\"data\": {\"bar\": [{\"error_x\": {\"color\": \"#2a3f5f\"}, \"error_y\": {\"color\": \"#2a3f5f\"}, \"marker\": {\"line\": {\"color\": \"#E5ECF6\", \"width\": 0.5}}, \"type\": \"bar\"}], \"barpolar\": [{\"marker\": {\"line\": {\"color\": \"#E5ECF6\", \"width\": 0.5}}, \"type\": \"barpolar\"}], \"carpet\": [{\"aaxis\": {\"endlinecolor\": \"#2a3f5f\", \"gridcolor\": \"white\", \"linecolor\": \"white\", \"minorgridcolor\": \"white\", \"startlinecolor\": \"#2a3f5f\"}, \"baxis\": {\"endlinecolor\": \"#2a3f5f\", \"gridcolor\": \"white\", \"linecolor\": \"white\", \"minorgridcolor\": \"white\", \"startlinecolor\": \"#2a3f5f\"}, \"type\": \"carpet\"}], \"choropleth\": [{\"colorbar\": {\"outlinewidth\": 0, \"ticks\": \"\"}, \"type\": \"choropleth\"}], \"contour\": [{\"colorbar\": {\"outlinewidth\": 0, \"ticks\": \"\"}, \"colorscale\": [[0.0, \"#0d0887\"], [0.1111111111111111, \"#46039f\"], [0.2222222222222222, \"#7201a8\"], [0.3333333333333333, \"#9c179e\"], [0.4444444444444444, \"#bd3786\"], [0.5555555555555556, \"#d8576b\"], [0.6666666666666666, \"#ed7953\"], [0.7777777777777778, \"#fb9f3a\"], [0.8888888888888888, \"#fdca26\"], [1.0, \"#f0f921\"]], \"type\": \"contour\"}], \"contourcarpet\": [{\"colorbar\": {\"outlinewidth\": 0, \"ticks\": \"\"}, \"type\": \"contourcarpet\"}], \"heatmap\": [{\"colorbar\": {\"outlinewidth\": 0, \"ticks\": \"\"}, \"colorscale\": [[0.0, \"#0d0887\"], [0.1111111111111111, \"#46039f\"], [0.2222222222222222, \"#7201a8\"], [0.3333333333333333, \"#9c179e\"], [0.4444444444444444, \"#bd3786\"], [0.5555555555555556, \"#d8576b\"], [0.6666666666666666, \"#ed7953\"], [0.7777777777777778, \"#fb9f3a\"], [0.8888888888888888, \"#fdca26\"], [1.0, \"#f0f921\"]], \"type\": \"heatmap\"}], \"heatmapgl\": [{\"colorbar\": {\"outlinewidth\": 0, \"ticks\": \"\"}, \"colorscale\": [[0.0, \"#0d0887\"], [0.1111111111111111, \"#46039f\"], [0.2222222222222222, \"#7201a8\"], [0.3333333333333333, \"#9c179e\"], [0.4444444444444444, \"#bd3786\"], [0.5555555555555556, \"#d8576b\"], [0.6666666666666666, \"#ed7953\"], [0.7777777777777778, \"#fb9f3a\"], [0.8888888888888888, \"#fdca26\"], [1.0, \"#f0f921\"]], \"type\": \"heatmapgl\"}], \"histogram\": [{\"marker\": {\"colorbar\": {\"outlinewidth\": 0, \"ticks\": \"\"}}, \"type\": \"histogram\"}], \"histogram2d\": [{\"colorbar\": {\"outlinewidth\": 0, \"ticks\": \"\"}, \"colorscale\": [[0.0, \"#0d0887\"], [0.1111111111111111, \"#46039f\"], [0.2222222222222222, \"#7201a8\"], [0.3333333333333333, \"#9c179e\"], [0.4444444444444444, \"#bd3786\"], [0.5555555555555556, \"#d8576b\"], [0.6666666666666666, \"#ed7953\"], [0.7777777777777778, \"#fb9f3a\"], [0.8888888888888888, \"#fdca26\"], [1.0, \"#f0f921\"]], \"type\": \"histogram2d\"}], \"histogram2dcontour\": [{\"colorbar\": {\"outlinewidth\": 0, \"ticks\": \"\"}, \"colorscale\": [[0.0, \"#0d0887\"], [0.1111111111111111, \"#46039f\"], [0.2222222222222222, \"#7201a8\"], [0.3333333333333333, \"#9c179e\"], [0.4444444444444444, \"#bd3786\"], [0.5555555555555556, \"#d8576b\"], [0.6666666666666666, \"#ed7953\"], [0.7777777777777778, \"#fb9f3a\"], [0.8888888888888888, \"#fdca26\"], [1.0, \"#f0f921\"]], \"type\": \"histogram2dcontour\"}], \"mesh3d\": [{\"colorbar\": {\"outlinewidth\": 0, \"ticks\": \"\"}, \"type\": \"mesh3d\"}], \"parcoords\": [{\"line\": {\"colorbar\": {\"outlinewidth\": 0, \"ticks\": \"\"}}, \"type\": \"parcoords\"}], \"pie\": [{\"automargin\": true, \"type\": \"pie\"}], \"scatter\": [{\"marker\": {\"colorbar\": {\"outlinewidth\": 0, \"ticks\": \"\"}}, \"type\": \"scatter\"}], \"scatter3d\": [{\"line\": {\"colorbar\": {\"outlinewidth\": 0, \"ticks\": \"\"}}, \"marker\": {\"colorbar\": {\"outlinewidth\": 0, \"ticks\": \"\"}}, \"type\": \"scatter3d\"}], \"scattercarpet\": [{\"marker\": {\"colorbar\": {\"outlinewidth\": 0, \"ticks\": \"\"}}, \"type\": \"scattercarpet\"}], \"scattergeo\": [{\"marker\": {\"colorbar\": {\"outlinewidth\": 0, \"ticks\": \"\"}}, \"type\": \"scattergeo\"}], \"scattergl\": [{\"marker\": {\"colorbar\": {\"outlinewidth\": 0, \"ticks\": \"\"}}, \"type\": \"scattergl\"}], \"scattermapbox\": [{\"marker\": {\"colorbar\": {\"outlinewidth\": 0, \"ticks\": \"\"}}, \"type\": \"scattermapbox\"}], \"scatterpolar\": [{\"marker\": {\"colorbar\": {\"outlinewidth\": 0, \"ticks\": \"\"}}, \"type\": \"scatterpolar\"}], \"scatterpolargl\": [{\"marker\": {\"colorbar\": {\"outlinewidth\": 0, \"ticks\": \"\"}}, \"type\": \"scatterpolargl\"}], \"scatterternary\": [{\"marker\": {\"colorbar\": {\"outlinewidth\": 0, \"ticks\": \"\"}}, \"type\": \"scatterternary\"}], \"surface\": [{\"colorbar\": {\"outlinewidth\": 0, \"ticks\": \"\"}, \"colorscale\": [[0.0, \"#0d0887\"], [0.1111111111111111, \"#46039f\"], [0.2222222222222222, \"#7201a8\"], [0.3333333333333333, \"#9c179e\"], [0.4444444444444444, \"#bd3786\"], [0.5555555555555556, \"#d8576b\"], [0.6666666666666666, \"#ed7953\"], [0.7777777777777778, \"#fb9f3a\"], [0.8888888888888888, \"#fdca26\"], [1.0, \"#f0f921\"]], \"type\": \"surface\"}], \"table\": [{\"cells\": {\"fill\": {\"color\": \"#EBF0F8\"}, \"line\": {\"color\": \"white\"}}, \"header\": {\"fill\": {\"color\": \"#C8D4E3\"}, \"line\": {\"color\": \"white\"}}, \"type\": \"table\"}]}, \"layout\": {\"annotationdefaults\": {\"arrowcolor\": \"#2a3f5f\", \"arrowhead\": 0, \"arrowwidth\": 1}, \"coloraxis\": {\"colorbar\": {\"outlinewidth\": 0, \"ticks\": \"\"}}, \"colorscale\": {\"diverging\": [[0, \"#8e0152\"], [0.1, \"#c51b7d\"], [0.2, \"#de77ae\"], [0.3, \"#f1b6da\"], [0.4, \"#fde0ef\"], [0.5, \"#f7f7f7\"], [0.6, \"#e6f5d0\"], [0.7, \"#b8e186\"], [0.8, \"#7fbc41\"], [0.9, \"#4d9221\"], [1, \"#276419\"]], \"sequential\": [[0.0, \"#0d0887\"], [0.1111111111111111, \"#46039f\"], [0.2222222222222222, \"#7201a8\"], [0.3333333333333333, \"#9c179e\"], [0.4444444444444444, \"#bd3786\"], [0.5555555555555556, \"#d8576b\"], [0.6666666666666666, \"#ed7953\"], [0.7777777777777778, \"#fb9f3a\"], [0.8888888888888888, \"#fdca26\"], [1.0, \"#f0f921\"]], \"sequentialminus\": [[0.0, \"#0d0887\"], [0.1111111111111111, \"#46039f\"], [0.2222222222222222, \"#7201a8\"], [0.3333333333333333, \"#9c179e\"], [0.4444444444444444, \"#bd3786\"], [0.5555555555555556, \"#d8576b\"], [0.6666666666666666, \"#ed7953\"], [0.7777777777777778, \"#fb9f3a\"], [0.8888888888888888, \"#fdca26\"], [1.0, \"#f0f921\"]]}, \"colorway\": [\"#636efa\", \"#EF553B\", \"#00cc96\", \"#ab63fa\", \"#FFA15A\", \"#19d3f3\", \"#FF6692\", \"#B6E880\", \"#FF97FF\", \"#FECB52\"], \"font\": {\"color\": \"#2a3f5f\"}, \"geo\": {\"bgcolor\": \"white\", \"lakecolor\": \"white\", \"landcolor\": \"#E5ECF6\", \"showlakes\": true, \"showland\": true, \"subunitcolor\": \"white\"}, \"hoverlabel\": {\"align\": \"left\"}, \"hovermode\": \"closest\", \"mapbox\": {\"style\": \"light\"}, \"paper_bgcolor\": \"white\", \"plot_bgcolor\": \"#E5ECF6\", \"polar\": {\"angularaxis\": {\"gridcolor\": \"white\", \"linecolor\": \"white\", \"ticks\": \"\"}, \"bgcolor\": \"#E5ECF6\", \"radialaxis\": {\"gridcolor\": \"white\", \"linecolor\": \"white\", \"ticks\": \"\"}}, \"scene\": {\"xaxis\": {\"backgroundcolor\": \"#E5ECF6\", \"gridcolor\": \"white\", \"gridwidth\": 2, \"linecolor\": \"white\", \"showbackground\": true, \"ticks\": \"\", \"zerolinecolor\": \"white\"}, \"yaxis\": {\"backgroundcolor\": \"#E5ECF6\", \"gridcolor\": \"white\", \"gridwidth\": 2, \"linecolor\": \"white\", \"showbackground\": true, \"ticks\": \"\", \"zerolinecolor\": \"white\"}, \"zaxis\": {\"backgroundcolor\": \"#E5ECF6\", \"gridcolor\": \"white\", \"gridwidth\": 2, \"linecolor\": \"white\", \"showbackground\": true, \"ticks\": \"\", \"zerolinecolor\": \"white\"}}, \"shapedefaults\": {\"line\": {\"color\": \"#2a3f5f\"}}, \"ternary\": {\"aaxis\": {\"gridcolor\": \"white\", \"linecolor\": \"white\", \"ticks\": \"\"}, \"baxis\": {\"gridcolor\": \"white\", \"linecolor\": \"white\", \"ticks\": \"\"}, \"bgcolor\": \"#E5ECF6\", \"caxis\": {\"gridcolor\": \"white\", \"linecolor\": \"white\", \"ticks\": \"\"}}, \"title\": {\"x\": 0.05}, \"xaxis\": {\"automargin\": true, \"gridcolor\": \"white\", \"linecolor\": \"white\", \"ticks\": \"\", \"title\": {\"standoff\": 15}, \"zerolinecolor\": \"white\", \"zerolinewidth\": 2}, \"yaxis\": {\"automargin\": true, \"gridcolor\": \"white\", \"linecolor\": \"white\", \"ticks\": \"\", \"title\": {\"standoff\": 15}, \"zerolinecolor\": \"white\", \"zerolinewidth\": 2}}}},\n",
       "                        {\"responsive\": true}\n",
       "                    ).then(function(){\n",
       "                            \n",
       "var gd = document.getElementById('abf01ddf-7a09-4253-85d3-30a2dd66d187');\n",
       "var x = new MutationObserver(function (mutations, observer) {{\n",
       "        var display = window.getComputedStyle(gd).display;\n",
       "        if (!display || display === 'none') {{\n",
       "            console.log([gd, 'removed!']);\n",
       "            Plotly.purge(gd);\n",
       "            observer.disconnect();\n",
       "        }}\n",
       "}});\n",
       "\n",
       "// Listen for the removal of the full notebook cells\n",
       "var notebookContainer = gd.closest('#notebook-container');\n",
       "if (notebookContainer) {{\n",
       "    x.observe(notebookContainer, {childList: true});\n",
       "}}\n",
       "\n",
       "// Listen for the clearing of the current output cell\n",
       "var outputEl = gd.closest('.output');\n",
       "if (outputEl) {{\n",
       "    x.observe(outputEl, {childList: true});\n",
       "}}\n",
       "\n",
       "                        })\n",
       "                };\n",
       "                });\n",
       "            </script>\n",
       "        </div>"
      ]
     },
     "metadata": {},
     "output_type": "display_data"
    }
   ],
   "source": [
    "statewise_cases = pd.DataFrame(covid_India_cases.groupby(['State'])['TotalConfirmed', 'Deaths', 'Recovered'].max().reset_index())\n",
    "statewise_cases[\"Country\"] = \"India\" # in order to have a single root node\n",
    "fig = px.treemap(statewise_cases, path=['Country','State'], values='TotalConfirmed',\n",
    "                  color='TotalConfirmed', hover_data=['State'],\n",
    "                  color_continuous_scale='RdBu')\n",
    "fig.show()"
   ]
  },
  {
   "cell_type": "code",
   "execution_count": 14,
   "metadata": {},
   "outputs": [
    {
     "data": {
      "text/html": [
       "<div>\n",
       "<style scoped>\n",
       "    .dataframe tbody tr th:only-of-type {\n",
       "        vertical-align: middle;\n",
       "    }\n",
       "\n",
       "    .dataframe tbody tr th {\n",
       "        vertical-align: top;\n",
       "    }\n",
       "\n",
       "    .dataframe thead th {\n",
       "        text-align: right;\n",
       "    }\n",
       "</style>\n",
       "<table border=\"1\" class=\"dataframe\">\n",
       "  <thead>\n",
       "    <tr style=\"text-align: right;\">\n",
       "      <th></th>\n",
       "      <th>Sno</th>\n",
       "      <th>Date</th>\n",
       "      <th>State</th>\n",
       "      <th>ConfirmedIndianNational</th>\n",
       "      <th>ConfirmedForeignNational</th>\n",
       "      <th>Recovered</th>\n",
       "      <th>Deaths</th>\n",
       "      <th>Confirmed</th>\n",
       "    </tr>\n",
       "  </thead>\n",
       "  <tbody>\n",
       "    <tr>\n",
       "      <th>0</th>\n",
       "      <td>1</td>\n",
       "      <td>30/01/20</td>\n",
       "      <td>Kerala</td>\n",
       "      <td>1</td>\n",
       "      <td>0</td>\n",
       "      <td>0</td>\n",
       "      <td>0</td>\n",
       "      <td>1</td>\n",
       "    </tr>\n",
       "    <tr>\n",
       "      <th>1</th>\n",
       "      <td>2</td>\n",
       "      <td>31/01/20</td>\n",
       "      <td>Kerala</td>\n",
       "      <td>1</td>\n",
       "      <td>0</td>\n",
       "      <td>0</td>\n",
       "      <td>0</td>\n",
       "      <td>1</td>\n",
       "    </tr>\n",
       "    <tr>\n",
       "      <th>2</th>\n",
       "      <td>3</td>\n",
       "      <td>01/02/20</td>\n",
       "      <td>Kerala</td>\n",
       "      <td>2</td>\n",
       "      <td>0</td>\n",
       "      <td>0</td>\n",
       "      <td>0</td>\n",
       "      <td>2</td>\n",
       "    </tr>\n",
       "    <tr>\n",
       "      <th>3</th>\n",
       "      <td>4</td>\n",
       "      <td>02/02/20</td>\n",
       "      <td>Kerala</td>\n",
       "      <td>3</td>\n",
       "      <td>0</td>\n",
       "      <td>0</td>\n",
       "      <td>0</td>\n",
       "      <td>3</td>\n",
       "    </tr>\n",
       "    <tr>\n",
       "      <th>4</th>\n",
       "      <td>5</td>\n",
       "      <td>03/02/20</td>\n",
       "      <td>Kerala</td>\n",
       "      <td>3</td>\n",
       "      <td>0</td>\n",
       "      <td>0</td>\n",
       "      <td>0</td>\n",
       "      <td>3</td>\n",
       "    </tr>\n",
       "  </tbody>\n",
       "</table>\n",
       "</div>"
      ],
      "text/plain": [
       "   Sno      Date   State  ConfirmedIndianNational  ConfirmedForeignNational  \\\n",
       "0    1  30/01/20  Kerala                        1                         0   \n",
       "1    2  31/01/20  Kerala                        1                         0   \n",
       "2    3  01/02/20  Kerala                        2                         0   \n",
       "3    4  02/02/20  Kerala                        3                         0   \n",
       "4    5  03/02/20  Kerala                        3                         0   \n",
       "\n",
       "   Recovered  Deaths  Confirmed  \n",
       "0          0       0          1  \n",
       "1          0       0          1  \n",
       "2          0       0          2  \n",
       "3          0       0          3  \n",
       "4          0       0          3  "
      ]
     },
     "execution_count": 14,
     "metadata": {},
     "output_type": "execute_result"
    }
   ],
   "source": [
    "covid_19_India['Confirmed'] = covid_19_India['ConfirmedIndianNational'] + covid_19_India['ConfirmedForeignNational']\n",
    "covid_19_India.head()\n"
   ]
  },
  {
   "cell_type": "code",
   "execution_count": 15,
   "metadata": {},
   "outputs": [
    {
     "ename": "KeyError",
     "evalue": "'State/UnionTerritory'",
     "output_type": "error",
     "traceback": [
      "\u001b[0;31m---------------------------------------------------------------------------\u001b[0m",
      "\u001b[0;31mKeyError\u001b[0m                                  Traceback (most recent call last)",
      "\u001b[0;32m/opt/conda/lib/python3.6/site-packages/pandas/core/indexes/base.py\u001b[0m in \u001b[0;36mget_loc\u001b[0;34m(self, key, method, tolerance)\u001b[0m\n\u001b[1;32m   2896\u001b[0m             \u001b[0;32mtry\u001b[0m\u001b[0;34m:\u001b[0m\u001b[0;34m\u001b[0m\u001b[0m\n\u001b[0;32m-> 2897\u001b[0;31m                 \u001b[0;32mreturn\u001b[0m \u001b[0mself\u001b[0m\u001b[0;34m.\u001b[0m\u001b[0m_engine\u001b[0m\u001b[0;34m.\u001b[0m\u001b[0mget_loc\u001b[0m\u001b[0;34m(\u001b[0m\u001b[0mkey\u001b[0m\u001b[0;34m)\u001b[0m\u001b[0;34m\u001b[0m\u001b[0m\n\u001b[0m\u001b[1;32m   2898\u001b[0m             \u001b[0;32mexcept\u001b[0m \u001b[0mKeyError\u001b[0m\u001b[0;34m:\u001b[0m\u001b[0;34m\u001b[0m\u001b[0m\n",
      "\u001b[0;32mpandas/_libs/index.pyx\u001b[0m in \u001b[0;36mpandas._libs.index.IndexEngine.get_loc\u001b[0;34m()\u001b[0m\n",
      "\u001b[0;32mpandas/_libs/index.pyx\u001b[0m in \u001b[0;36mpandas._libs.index.IndexEngine.get_loc\u001b[0;34m()\u001b[0m\n",
      "\u001b[0;32mpandas/_libs/hashtable_class_helper.pxi\u001b[0m in \u001b[0;36mpandas._libs.hashtable.PyObjectHashTable.get_item\u001b[0;34m()\u001b[0m\n",
      "\u001b[0;32mpandas/_libs/hashtable_class_helper.pxi\u001b[0m in \u001b[0;36mpandas._libs.hashtable.PyObjectHashTable.get_item\u001b[0;34m()\u001b[0m\n",
      "\u001b[0;31mKeyError\u001b[0m: 'State/UnionTerritory'",
      "\nDuring handling of the above exception, another exception occurred:\n",
      "\u001b[0;31mKeyError\u001b[0m                                  Traceback (most recent call last)",
      "\u001b[0;32m<ipython-input-15-8b15bd3413b0>\u001b[0m in \u001b[0;36m<module>\u001b[0;34m\u001b[0m\n\u001b[1;32m      1\u001b[0m \u001b[0;31m# Affected States\u001b[0m\u001b[0;34m\u001b[0m\u001b[0;34m\u001b[0m\u001b[0m\n\u001b[1;32m      2\u001b[0m \u001b[0;34m\u001b[0m\u001b[0m\n\u001b[0;32m----> 3\u001b[0;31m \u001b[0mnCoV_States\u001b[0m \u001b[0;34m=\u001b[0m \u001b[0mcovid_19_India\u001b[0m\u001b[0;34m[\u001b[0m\u001b[0;34m'State/UnionTerritory'\u001b[0m\u001b[0;34m]\u001b[0m\u001b[0;34m.\u001b[0m\u001b[0munique\u001b[0m\u001b[0;34m(\u001b[0m\u001b[0;34m)\u001b[0m\u001b[0;34m.\u001b[0m\u001b[0mtolist\u001b[0m\u001b[0;34m(\u001b[0m\u001b[0;34m)\u001b[0m\u001b[0;34m\u001b[0m\u001b[0m\n\u001b[0m\u001b[1;32m      4\u001b[0m \u001b[0mprint\u001b[0m\u001b[0;34m(\u001b[0m\u001b[0;34m'\\n'\u001b[0m\u001b[0;34m)\u001b[0m\u001b[0;34m\u001b[0m\u001b[0m\n\u001b[1;32m      5\u001b[0m \u001b[0mprint\u001b[0m\u001b[0;34m(\u001b[0m\u001b[0mnCoV_States\u001b[0m\u001b[0;34m)\u001b[0m\u001b[0;34m\u001b[0m\u001b[0m\n",
      "\u001b[0;32m/opt/conda/lib/python3.6/site-packages/pandas/core/frame.py\u001b[0m in \u001b[0;36m__getitem__\u001b[0;34m(self, key)\u001b[0m\n\u001b[1;32m   2993\u001b[0m             \u001b[0;32mif\u001b[0m \u001b[0mself\u001b[0m\u001b[0;34m.\u001b[0m\u001b[0mcolumns\u001b[0m\u001b[0;34m.\u001b[0m\u001b[0mnlevels\u001b[0m \u001b[0;34m>\u001b[0m \u001b[0;36m1\u001b[0m\u001b[0;34m:\u001b[0m\u001b[0;34m\u001b[0m\u001b[0m\n\u001b[1;32m   2994\u001b[0m                 \u001b[0;32mreturn\u001b[0m \u001b[0mself\u001b[0m\u001b[0;34m.\u001b[0m\u001b[0m_getitem_multilevel\u001b[0m\u001b[0;34m(\u001b[0m\u001b[0mkey\u001b[0m\u001b[0;34m)\u001b[0m\u001b[0;34m\u001b[0m\u001b[0m\n\u001b[0;32m-> 2995\u001b[0;31m             \u001b[0mindexer\u001b[0m \u001b[0;34m=\u001b[0m \u001b[0mself\u001b[0m\u001b[0;34m.\u001b[0m\u001b[0mcolumns\u001b[0m\u001b[0;34m.\u001b[0m\u001b[0mget_loc\u001b[0m\u001b[0;34m(\u001b[0m\u001b[0mkey\u001b[0m\u001b[0;34m)\u001b[0m\u001b[0;34m\u001b[0m\u001b[0m\n\u001b[0m\u001b[1;32m   2996\u001b[0m             \u001b[0;32mif\u001b[0m \u001b[0mis_integer\u001b[0m\u001b[0;34m(\u001b[0m\u001b[0mindexer\u001b[0m\u001b[0;34m)\u001b[0m\u001b[0;34m:\u001b[0m\u001b[0;34m\u001b[0m\u001b[0m\n\u001b[1;32m   2997\u001b[0m                 \u001b[0mindexer\u001b[0m \u001b[0;34m=\u001b[0m \u001b[0;34m[\u001b[0m\u001b[0mindexer\u001b[0m\u001b[0;34m]\u001b[0m\u001b[0;34m\u001b[0m\u001b[0m\n",
      "\u001b[0;32m/opt/conda/lib/python3.6/site-packages/pandas/core/indexes/base.py\u001b[0m in \u001b[0;36mget_loc\u001b[0;34m(self, key, method, tolerance)\u001b[0m\n\u001b[1;32m   2897\u001b[0m                 \u001b[0;32mreturn\u001b[0m \u001b[0mself\u001b[0m\u001b[0;34m.\u001b[0m\u001b[0m_engine\u001b[0m\u001b[0;34m.\u001b[0m\u001b[0mget_loc\u001b[0m\u001b[0;34m(\u001b[0m\u001b[0mkey\u001b[0m\u001b[0;34m)\u001b[0m\u001b[0;34m\u001b[0m\u001b[0m\n\u001b[1;32m   2898\u001b[0m             \u001b[0;32mexcept\u001b[0m \u001b[0mKeyError\u001b[0m\u001b[0;34m:\u001b[0m\u001b[0;34m\u001b[0m\u001b[0m\n\u001b[0;32m-> 2899\u001b[0;31m                 \u001b[0;32mreturn\u001b[0m \u001b[0mself\u001b[0m\u001b[0;34m.\u001b[0m\u001b[0m_engine\u001b[0m\u001b[0;34m.\u001b[0m\u001b[0mget_loc\u001b[0m\u001b[0;34m(\u001b[0m\u001b[0mself\u001b[0m\u001b[0;34m.\u001b[0m\u001b[0m_maybe_cast_indexer\u001b[0m\u001b[0;34m(\u001b[0m\u001b[0mkey\u001b[0m\u001b[0;34m)\u001b[0m\u001b[0;34m)\u001b[0m\u001b[0;34m\u001b[0m\u001b[0m\n\u001b[0m\u001b[1;32m   2900\u001b[0m         \u001b[0mindexer\u001b[0m \u001b[0;34m=\u001b[0m \u001b[0mself\u001b[0m\u001b[0;34m.\u001b[0m\u001b[0mget_indexer\u001b[0m\u001b[0;34m(\u001b[0m\u001b[0;34m[\u001b[0m\u001b[0mkey\u001b[0m\u001b[0;34m]\u001b[0m\u001b[0;34m,\u001b[0m \u001b[0mmethod\u001b[0m\u001b[0;34m=\u001b[0m\u001b[0mmethod\u001b[0m\u001b[0;34m,\u001b[0m \u001b[0mtolerance\u001b[0m\u001b[0;34m=\u001b[0m\u001b[0mtolerance\u001b[0m\u001b[0;34m)\u001b[0m\u001b[0;34m\u001b[0m\u001b[0m\n\u001b[1;32m   2901\u001b[0m         \u001b[0;32mif\u001b[0m \u001b[0mindexer\u001b[0m\u001b[0;34m.\u001b[0m\u001b[0mndim\u001b[0m \u001b[0;34m>\u001b[0m \u001b[0;36m1\u001b[0m \u001b[0;32mor\u001b[0m \u001b[0mindexer\u001b[0m\u001b[0;34m.\u001b[0m\u001b[0msize\u001b[0m \u001b[0;34m>\u001b[0m \u001b[0;36m1\u001b[0m\u001b[0;34m:\u001b[0m\u001b[0;34m\u001b[0m\u001b[0m\n",
      "\u001b[0;32mpandas/_libs/index.pyx\u001b[0m in \u001b[0;36mpandas._libs.index.IndexEngine.get_loc\u001b[0;34m()\u001b[0m\n",
      "\u001b[0;32mpandas/_libs/index.pyx\u001b[0m in \u001b[0;36mpandas._libs.index.IndexEngine.get_loc\u001b[0;34m()\u001b[0m\n",
      "\u001b[0;32mpandas/_libs/hashtable_class_helper.pxi\u001b[0m in \u001b[0;36mpandas._libs.hashtable.PyObjectHashTable.get_item\u001b[0;34m()\u001b[0m\n",
      "\u001b[0;32mpandas/_libs/hashtable_class_helper.pxi\u001b[0m in \u001b[0;36mpandas._libs.hashtable.PyObjectHashTable.get_item\u001b[0;34m()\u001b[0m\n",
      "\u001b[0;31mKeyError\u001b[0m: 'State/UnionTerritory'"
     ]
    }
   ],
   "source": [
    "# Affected States\n",
    "\n",
    "nCoV_States = covid_19_India['State/UnionTerritory'].unique().tolist()\n",
    "print('\\n')\n",
    "print(nCoV_States)\n",
    "print(\"\\n------------------------------------------------------------------\")\n",
    "print(\"\\nTotal States affected by nCoV: \",len(nCoV_States))"
   ]
  },
  {
   "cell_type": "code",
   "execution_count": 16,
   "metadata": {},
   "outputs": [
    {
     "data": {
      "text/markdown": [
       "***Confirmed Cases vs Day***"
      ],
      "text/plain": [
       "<IPython.core.display.Markdown object>"
      ]
     },
     "metadata": {},
     "output_type": "display_data"
    },
    {
     "data": {
      "text/plain": [
       "(array([ 0,  1,  2,  3,  4,  5,  6,  7,  8,  9, 10, 11, 12, 13, 14, 15, 16,\n",
       "        17, 18, 19, 20, 21, 22, 23, 24, 25, 26, 27, 28, 29, 30, 31, 32, 33,\n",
       "        34, 35, 36, 37, 38, 39, 40, 41, 42, 43, 44, 45, 46, 47, 48, 49, 50,\n",
       "        51, 52]),\n",
       " <a list of 53 Text xticklabel objects>)"
      ]
     },
     "execution_count": 16,
     "metadata": {},
     "output_type": "execute_result"
    },
    {
     "data": {
      "image/png": "[encoded data removed]",
      "text/plain": [
       "<Figure size 1152x432 with 1 Axes>"
      ]
     },
     "metadata": {
      "image/png": {
       "height": 415,
       "width": 951
      },
      "needs_background": "light"
     },
     "output_type": "display_data"
    }
   ],
   "source": [
    "formatted_text('***Confirmed Cases vs Day***')\n",
    "plt.figure(figsize=(16,6))\n",
    "sns.barplot(x='Date',y='Confirmed',data=covid_19_India, order=covid_19_India.Date.unique().tolist())\n",
    "plt.title('Distribution of total confirmed cases on every day basis')\n",
    "plt.xticks(rotation=45)"
   ]
  },
  {
   "cell_type": "code",
   "execution_count": 17,
   "metadata": {},
   "outputs": [],
   "source": [
    "# formatted_text('***Day wise distribution for Confirmed, Deaths and Recovered Cases***')\n",
    "# covid_19_India.plot('Date',['Confirmed', 'Deaths', 'Cured'],figsize=(30,10), rot=30)"
   ]
  },
  {
   "cell_type": "code",
   "execution_count": 18,
   "metadata": {},
   "outputs": [
    {
     "name": "stdout",
     "output_type": "stream",
     "text": [
      "(293, 8)\n"
     ]
    }
   ],
   "source": [
    "print(covid_19_India.shape)"
   ]
  },
  {
   "cell_type": "markdown",
   "metadata": {},
   "source": [
    "An initial level analysis. This will be updated ..."
   ]
  }
 ],
 "metadata": {
  "kernelspec": {
   "display_name": "Python 3",
   "language": "python",
   "name": "python3"
  },
  "language_info": {
   "codemirror_mode": {
    "name": "ipython",
    "version": 3
   },
   "file_extension": ".py",
   "mimetype": "text/x-python",
   "name": "python",
   "nbconvert_exporter": "python",
   "pygments_lexer": "ipython3",
   "version": "3.6.6"
  }
 },
 "nbformat": 4,
 "nbformat_minor": 4
}
